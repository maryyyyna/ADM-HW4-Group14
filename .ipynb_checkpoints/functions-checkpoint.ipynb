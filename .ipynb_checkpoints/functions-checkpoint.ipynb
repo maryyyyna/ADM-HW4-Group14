{
 "cells": [
  {
   "cell_type": "code",
   "execution_count": 1,
   "id": "95fdffbf",
   "metadata": {},
   "outputs": [],
   "source": [
    "import pandas as pd\n",
    "import numpy as np\n",
    "from datetime import datetime"
   ]
  },
  {
   "cell_type": "code",
   "execution_count": null,
   "id": "1680dbe5",
   "metadata": {},
   "outputs": [],
   "source": [
    " # Inutili:"
   ]
  },
  {
   "cell_type": "code",
   "execution_count": 2,
   "id": "2092fac3",
   "metadata": {},
   "outputs": [],
   "source": [
    "def categorical(feature):\n",
    "    dic = {}\n",
    "    value = 1\n",
    "    for i in feature.unique():\n",
    "        if i in dic.keys():\n",
    "            continue         \n",
    "        else:\n",
    "            dic[i] = value\n",
    "            value += 1\n",
    "    return dic"
   ]
  },
  {
   "cell_type": "code",
   "execution_count": null,
   "id": "068a20e9",
   "metadata": {},
   "outputs": [],
   "source": [
    "feature_cat = categorical(clients.Gender)\n",
    "lista = []\n",
    "for i in clients.Gender:\n",
    "    lista.append(feature_cat[i])\n",
    "clients[\"Gender_cat\"] = lista\n",
    "clients.drop('Gender', inplace=True, axis=1)"
   ]
  },
  {
   "cell_type": "code",
   "execution_count": null,
   "id": "42f26cbe",
   "metadata": {},
   "outputs": [],
   "source": [
    "feature_cat = categorical(clients.Location)\n",
    "lista = []\n",
    "for i in clients.Location:\n",
    "    lista.append(feature_cat[i])\n",
    "clients[\"Location_cat\"] = lista\n",
    "clients.drop('Location', inplace=True, axis=1)"
   ]
  },
  {
   "cell_type": "code",
   "execution_count": null,
   "id": "e8b5bc37",
   "metadata": {},
   "outputs": [],
   "source": [
    "feature_cat = categorical(clients.RichCustomer)\n",
    "lista = []\n",
    "for i in clients.RichCustomer:\n",
    "    lista.append(feature_cat[i])\n",
    "clients[\"RichCustomer_cat\"] = lista\n",
    "clients.drop('RichCustomer', inplace=True, axis=1)"
   ]
  },
  {
   "cell_type": "code",
   "execution_count": null,
   "id": "70aab7a9",
   "metadata": {},
   "outputs": [],
   "source": []
  }
 ],
 "metadata": {
  "kernelspec": {
   "display_name": "Python 3 (ipykernel)",
   "language": "python",
   "name": "python3"
  },
  "language_info": {
   "codemirror_mode": {
    "name": "ipython",
    "version": 3
   },
   "file_extension": ".py",
   "mimetype": "text/x-python",
   "name": "python",
   "nbconvert_exporter": "python",
   "pygments_lexer": "ipython3",
   "version": "3.9.12"
  }
 },
 "nbformat": 4,
 "nbformat_minor": 5
}

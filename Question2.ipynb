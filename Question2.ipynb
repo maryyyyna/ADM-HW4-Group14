{
 "cells": [
  {
   "cell_type": "code",
   "execution_count": 182,
   "id": "30a89f7c",
   "metadata": {},
   "outputs": [],
   "source": [
    "import pandas as pd\n",
    "import numpy as np\n",
    "from datetime import datetime\n",
    "import random\n",
    "import seaborn as sns\n",
    "from sklearn import preprocessing\n",
    "from sklearn.preprocessing import StandardScaler\n",
    "from sklearn.decomposition import PCA\n",
    "import matplotlib.pyplot as plt\n",
    "import seaborn as sn\n",
    "import plotly.express as px"
   ]
  },
  {
   "cell_type": "markdown",
   "id": "518cb623",
   "metadata": {},
   "source": [
    "## Loading the dataset"
   ]
  },
  {
   "cell_type": "code",
   "execution_count": 2,
   "id": "c2cfb839",
   "metadata": {},
   "outputs": [],
   "source": [
    "data = pd.read_csv(r\"D:/DataScience/ADM/homework4/bank_transactions.csv\")"
   ]
  },
  {
   "cell_type": "markdown",
   "id": "b54a5cda",
   "metadata": {},
   "source": [
    "## Inside the dataset"
   ]
  },
  {
   "cell_type": "code",
   "execution_count": 3,
   "id": "262ad376",
   "metadata": {},
   "outputs": [
    {
     "data": {
      "text/html": [
       "<div>\n",
       "<style scoped>\n",
       "    .dataframe tbody tr th:only-of-type {\n",
       "        vertical-align: middle;\n",
       "    }\n",
       "\n",
       "    .dataframe tbody tr th {\n",
       "        vertical-align: top;\n",
       "    }\n",
       "\n",
       "    .dataframe thead th {\n",
       "        text-align: right;\n",
       "    }\n",
       "</style>\n",
       "<table border=\"1\" class=\"dataframe\">\n",
       "  <thead>\n",
       "    <tr style=\"text-align: right;\">\n",
       "      <th></th>\n",
       "      <th>TransactionID</th>\n",
       "      <th>CustomerID</th>\n",
       "      <th>CustomerDOB</th>\n",
       "      <th>CustGender</th>\n",
       "      <th>CustLocation</th>\n",
       "      <th>CustAccountBalance</th>\n",
       "      <th>TransactionDate</th>\n",
       "      <th>TransactionTime</th>\n",
       "      <th>TransactionAmount (INR)</th>\n",
       "    </tr>\n",
       "  </thead>\n",
       "  <tbody>\n",
       "    <tr>\n",
       "      <th>0</th>\n",
       "      <td>T1</td>\n",
       "      <td>C5841053</td>\n",
       "      <td>10/1/94</td>\n",
       "      <td>F</td>\n",
       "      <td>JAMSHEDPUR</td>\n",
       "      <td>17819.05</td>\n",
       "      <td>2/8/16</td>\n",
       "      <td>143207</td>\n",
       "      <td>25.0</td>\n",
       "    </tr>\n",
       "    <tr>\n",
       "      <th>1</th>\n",
       "      <td>T2</td>\n",
       "      <td>C2142763</td>\n",
       "      <td>4/4/57</td>\n",
       "      <td>M</td>\n",
       "      <td>JHAJJAR</td>\n",
       "      <td>2270.69</td>\n",
       "      <td>2/8/16</td>\n",
       "      <td>141858</td>\n",
       "      <td>27999.0</td>\n",
       "    </tr>\n",
       "    <tr>\n",
       "      <th>2</th>\n",
       "      <td>T3</td>\n",
       "      <td>C4417068</td>\n",
       "      <td>26/11/96</td>\n",
       "      <td>F</td>\n",
       "      <td>MUMBAI</td>\n",
       "      <td>17874.44</td>\n",
       "      <td>2/8/16</td>\n",
       "      <td>142712</td>\n",
       "      <td>459.0</td>\n",
       "    </tr>\n",
       "    <tr>\n",
       "      <th>3</th>\n",
       "      <td>T4</td>\n",
       "      <td>C5342380</td>\n",
       "      <td>14/9/73</td>\n",
       "      <td>F</td>\n",
       "      <td>MUMBAI</td>\n",
       "      <td>866503.21</td>\n",
       "      <td>2/8/16</td>\n",
       "      <td>142714</td>\n",
       "      <td>2060.0</td>\n",
       "    </tr>\n",
       "    <tr>\n",
       "      <th>4</th>\n",
       "      <td>T5</td>\n",
       "      <td>C9031234</td>\n",
       "      <td>24/3/88</td>\n",
       "      <td>F</td>\n",
       "      <td>NAVI MUMBAI</td>\n",
       "      <td>6714.43</td>\n",
       "      <td>2/8/16</td>\n",
       "      <td>181156</td>\n",
       "      <td>1762.5</td>\n",
       "    </tr>\n",
       "  </tbody>\n",
       "</table>\n",
       "</div>"
      ],
      "text/plain": [
       "  TransactionID CustomerID CustomerDOB CustGender CustLocation  \\\n",
       "0            T1   C5841053     10/1/94          F   JAMSHEDPUR   \n",
       "1            T2   C2142763      4/4/57          M      JHAJJAR   \n",
       "2            T3   C4417068    26/11/96          F       MUMBAI   \n",
       "3            T4   C5342380     14/9/73          F       MUMBAI   \n",
       "4            T5   C9031234     24/3/88          F  NAVI MUMBAI   \n",
       "\n",
       "   CustAccountBalance TransactionDate  TransactionTime  \\\n",
       "0            17819.05          2/8/16           143207   \n",
       "1             2270.69          2/8/16           141858   \n",
       "2            17874.44          2/8/16           142712   \n",
       "3           866503.21          2/8/16           142714   \n",
       "4             6714.43          2/8/16           181156   \n",
       "\n",
       "   TransactionAmount (INR)  \n",
       "0                     25.0  \n",
       "1                  27999.0  \n",
       "2                    459.0  \n",
       "3                   2060.0  \n",
       "4                   1762.5  "
      ]
     },
     "execution_count": 3,
     "metadata": {},
     "output_type": "execute_result"
    }
   ],
   "source": [
    "data.head()"
   ]
  },
  {
   "cell_type": "code",
   "execution_count": 4,
   "id": "0c942361",
   "metadata": {},
   "outputs": [
    {
     "data": {
      "text/plain": [
       "(1048567, 9)"
      ]
     },
     "execution_count": 4,
     "metadata": {},
     "output_type": "execute_result"
    }
   ],
   "source": [
    "data.shape"
   ]
  },
  {
   "cell_type": "code",
   "execution_count": 5,
   "id": "5690ce2b",
   "metadata": {},
   "outputs": [
    {
     "name": "stdout",
     "output_type": "stream",
     "text": [
      "<class 'pandas.core.frame.DataFrame'>\n",
      "RangeIndex: 1048567 entries, 0 to 1048566\n",
      "Data columns (total 9 columns):\n",
      " #   Column                   Non-Null Count    Dtype  \n",
      "---  ------                   --------------    -----  \n",
      " 0   TransactionID            1048567 non-null  object \n",
      " 1   CustomerID               1048567 non-null  object \n",
      " 2   CustomerDOB              1045170 non-null  object \n",
      " 3   CustGender               1047467 non-null  object \n",
      " 4   CustLocation             1048416 non-null  object \n",
      " 5   CustAccountBalance       1046198 non-null  float64\n",
      " 6   TransactionDate          1048567 non-null  object \n",
      " 7   TransactionTime          1048567 non-null  int64  \n",
      " 8   TransactionAmount (INR)  1048567 non-null  float64\n",
      "dtypes: float64(2), int64(1), object(6)\n",
      "memory usage: 72.0+ MB\n"
     ]
    }
   ],
   "source": [
    "data.info()"
   ]
  },
  {
   "cell_type": "markdown",
   "id": "b3d8a82e",
   "metadata": {},
   "source": [
    "Our analysis will study the groups of clients which are similar among them. From the informations of the dataset we look that there are 1048567 transactions and 9 variables:\n",
    "\n",
    "1) TransactionID - number (ID) of the transaction (object)\n",
    "\n",
    "2) CustomerID - number (ID) of the costumer (object)\n",
    "\n",
    "3) CustomerDOB - customer date of birth (object)\n",
    "\n",
    "4) CustGender  - customer's gender (object)\n",
    "\n",
    "5) CustLocation - location - (object)\n",
    "\n",
    "6) CustAccountBalance - account balance (float64)\n",
    "\n",
    "7) TransactionDate - day of the transaction (object)\n",
    "\n",
    "8) TransactionTime - time of the transaction(int64)\n",
    "\n",
    "9) TransactionAmount (INR) - amount of the transaction in INR (float64) \n",
    "\n",
    "The first problem that we encounter is that the customerDOB and the transactionDate are not in the datetime form; also TransactionTime instead is just a number and we need to transform it in datetime."
   ]
  },
  {
   "cell_type": "markdown",
   "id": "520781d2",
   "metadata": {},
   "source": [
    "## Feature Engineering"
   ]
  },
  {
   "cell_type": "markdown",
   "id": "5a6d073b",
   "metadata": {},
   "source": [
    "#### Features: CustomerDOB, transactionDate, TransactionTime; transformation"
   ]
  },
  {
   "cell_type": "code",
   "execution_count": 6,
   "id": "788e4d77",
   "metadata": {},
   "outputs": [],
   "source": [
    "data.CustomerDOB = pd.to_datetime(data.CustomerDOB)\n",
    "data.TransactionDate = pd.to_datetime(data.TransactionDate)\n",
    "data.TransactionTime = data.TransactionTime.apply(lambda x: datetime.strptime(str(x).zfill(6), '%H%M%S'))"
   ]
  },
  {
   "cell_type": "code",
   "execution_count": 7,
   "id": "0ad84227",
   "metadata": {},
   "outputs": [
    {
     "name": "stdout",
     "output_type": "stream",
     "text": [
      "<class 'pandas.core.frame.DataFrame'>\n",
      "RangeIndex: 1048567 entries, 0 to 1048566\n",
      "Data columns (total 9 columns):\n",
      " #   Column                   Non-Null Count    Dtype         \n",
      "---  ------                   --------------    -----         \n",
      " 0   TransactionID            1048567 non-null  object        \n",
      " 1   CustomerID               1048567 non-null  object        \n",
      " 2   CustomerDOB              1045170 non-null  datetime64[ns]\n",
      " 3   CustGender               1047467 non-null  object        \n",
      " 4   CustLocation             1048416 non-null  object        \n",
      " 5   CustAccountBalance       1046198 non-null  float64       \n",
      " 6   TransactionDate          1048567 non-null  datetime64[ns]\n",
      " 7   TransactionTime          1048567 non-null  datetime64[ns]\n",
      " 8   TransactionAmount (INR)  1048567 non-null  float64       \n",
      "dtypes: datetime64[ns](3), float64(2), object(4)\n",
      "memory usage: 72.0+ MB\n"
     ]
    }
   ],
   "source": [
    "data.info()"
   ]
  },
  {
   "cell_type": "markdown",
   "id": "54cda642",
   "metadata": {},
   "source": [
    "Now that the 3 variables with problems in dtype are in the correct form let's have a look inside the data to see if the transformation create problems and if there are strange data."
   ]
  },
  {
   "cell_type": "code",
   "execution_count": 8,
   "id": "253f2f9f",
   "metadata": {},
   "outputs": [
    {
     "data": {
      "text/plain": [
       "<AxesSubplot:>"
      ]
     },
     "execution_count": 8,
     "metadata": {},
     "output_type": "execute_result"
    },
    {
     "data": {
      "image/png": "[encoded data removed]",
      "text/plain": [
       "<Figure size 432x288 with 1 Axes>"
      ]
     },
     "metadata": {
      "needs_background": "light"
     },
     "output_type": "display_data"
    }
   ],
   "source": [
    "data.CustomerDOB.dt.year.hist(bins=100, color = \"orange\")"
   ]
  },
  {
   "cell_type": "markdown",
   "id": "e9a33536",
   "metadata": {},
   "source": [
    "Looking into the histogram it's visible the majority of the distribution in the central block, in addition to this there is a block to the left that contain the customers' date of birth in the year 1800. This is obviously quite impossibile so we drop this data because probably they are NA values. The block to the right contain the customers' date of birth which fall around the year 2050. This happened because changing the dtype from object to datetime we collide in the millennium bag: the years in object are saved with just the last 2 numbers (for example 1950 is saved as 50), so the transformation creates problems because some dates will be saved as 1950 other in 2050. To solve this problem we subtract 100 to the years that come after the year 2005 (so after the end of the central block). Infact to open a bank account in India it's necessary to have at least 10 years, so there cannot be customers born after the year 2005."
   ]
  },
  {
   "cell_type": "code",
   "execution_count": 9,
   "id": "b3e5093b",
   "metadata": {},
   "outputs": [
    {
     "data": {
      "text/plain": [
       "<AxesSubplot:>"
      ]
     },
     "execution_count": 9,
     "metadata": {},
     "output_type": "execute_result"
    },
    {
     "data": {
      "image/png": "[encoded data removed]",
      "text/plain": [
       "<Figure size 432x288 with 1 Axes>"
      ]
     },
     "metadata": {
      "needs_background": "light"
     },
     "output_type": "display_data"
    }
   ],
   "source": [
    "data.loc[data.CustomerDOB.dt.year > 2005, \"CustomerDOB\"] = data.loc[data.CustomerDOB.dt.year > 2000, 'CustomerDOB'] - pd.DateOffset(years = 100)\n",
    "data.drop(data[data.CustomerDOB.dt.year == 1800].index, axis = 0, inplace = True)\n",
    "data.CustomerDOB.dt.year.hist(bins=100, color = \"red\")"
   ]
  },
  {
   "cell_type": "code",
   "execution_count": 10,
   "id": "c020ab72",
   "metadata": {},
   "outputs": [
    {
     "data": {
      "text/plain": [
       "0    1990.0\n",
       "Name: CustomerDOB, dtype: float64"
      ]
     },
     "execution_count": 10,
     "metadata": {},
     "output_type": "execute_result"
    }
   ],
   "source": [
    "data.CustomerDOB.dt.year.agg(lambda x: pd.Series.mode(x))"
   ]
  },
  {
   "cell_type": "markdown",
   "id": "43a094c7",
   "metadata": {},
   "source": [
    "Now it's visible in the histogram the right distribution of the customers' date of birth, with a peak of 72789 birthdays in 1990."
   ]
  },
  {
   "cell_type": "code",
   "execution_count": 11,
   "id": "eddbf899",
   "metadata": {},
   "outputs": [
    {
     "data": {
      "text/plain": [
       "1990.0    72789\n",
       "1991.0    71288\n",
       "1989.0    69238\n",
       "1992.0    66708\n",
       "1988.0    63004\n",
       "          ...  \n",
       "1920.0        2\n",
       "1911.0        2\n",
       "1916.0        2\n",
       "1925.0        1\n",
       "1918.0        1\n",
       "Name: CustomerDOB, Length: 99, dtype: int64"
      ]
     },
     "execution_count": 11,
     "metadata": {},
     "output_type": "execute_result"
    }
   ],
   "source": [
    "data.CustomerDOB.dt.year.value_counts()"
   ]
  },
  {
   "cell_type": "markdown",
   "id": "16a807b1",
   "metadata": {},
   "source": [
    "#### NA values"
   ]
  },
  {
   "cell_type": "markdown",
   "id": "af3885cd",
   "metadata": {},
   "source": [
    "Let's have a look if in the dataset there are some missing values or some false values that need to be drop."
   ]
  },
  {
   "cell_type": "code",
   "execution_count": 12,
   "id": "e1b7391f",
   "metadata": {},
   "outputs": [
    {
     "data": {
      "text/plain": [
       "TransactionID                 0\n",
       "CustomerID                    0\n",
       "CustomerDOB                3397\n",
       "CustGender                  227\n",
       "CustLocation                151\n",
       "CustAccountBalance         2195\n",
       "TransactionDate               0\n",
       "TransactionTime               0\n",
       "TransactionAmount (INR)       0\n",
       "dtype: int64"
      ]
     },
     "execution_count": 12,
     "metadata": {},
     "output_type": "execute_result"
    }
   ],
   "source": [
    "data.isna().sum()"
   ]
  },
  {
   "cell_type": "markdown",
   "id": "4b88b9b7",
   "metadata": {},
   "source": [
    "The number of values that is NA concerns 4 variables (customerDOB, custGender, custLocation, CustAccountBalance), anyway their number is very small compare to the amount of data that we own (1048567 transactions) so we delete this data."
   ]
  },
  {
   "cell_type": "code",
   "execution_count": 13,
   "id": "c086fe65",
   "metadata": {},
   "outputs": [],
   "source": [
    "data.dropna(inplace = True)"
   ]
  },
  {
   "cell_type": "code",
   "execution_count": 14,
   "id": "5447371a",
   "metadata": {},
   "outputs": [
    {
     "data": {
      "text/plain": [
       "TransactionID              0\n",
       "CustomerID                 0\n",
       "CustomerDOB                0\n",
       "CustGender                 0\n",
       "CustLocation               0\n",
       "CustAccountBalance         0\n",
       "TransactionDate            0\n",
       "TransactionTime            0\n",
       "TransactionAmount (INR)    0\n",
       "dtype: int64"
      ]
     },
     "execution_count": 14,
     "metadata": {},
     "output_type": "execute_result"
    }
   ],
   "source": [
    "data.isna().sum()"
   ]
  },
  {
   "cell_type": "markdown",
   "id": "5e2fce43",
   "metadata": {},
   "source": [
    "#### CustGender"
   ]
  },
  {
   "cell_type": "code",
   "execution_count": 15,
   "id": "ab9ee362",
   "metadata": {},
   "outputs": [
    {
     "data": {
      "text/plain": [
       "M    712454\n",
       "F    272868\n",
       "Name: CustGender, dtype: int64"
      ]
     },
     "execution_count": 15,
     "metadata": {},
     "output_type": "execute_result"
    }
   ],
   "source": [
    "data['CustGender'].value_counts()"
   ]
  },
  {
   "cell_type": "markdown",
   "id": "5d106ebf",
   "metadata": {},
   "source": [
    "the Customer's gender can be Male or Female."
   ]
  },
  {
   "cell_type": "markdown",
   "id": "254c2cd6",
   "metadata": {},
   "source": [
    "#### TransactionAmount (INR)"
   ]
  },
  {
   "cell_type": "markdown",
   "id": "b970db64",
   "metadata": {},
   "source": [
    "To semplify the code we change the column name of the variable \"TransactionAmount (INR)\" in \"TransactionAmount\"."
   ]
  },
  {
   "cell_type": "code",
   "execution_count": 16,
   "id": "cb68e09a",
   "metadata": {},
   "outputs": [],
   "source": [
    "data.rename(columns = {'TransactionAmount (INR)':'TransactionAmount'}, inplace = True)"
   ]
  },
  {
   "cell_type": "markdown",
   "id": "b26b908d",
   "metadata": {},
   "source": [
    "#### Duplicated"
   ]
  },
  {
   "cell_type": "code",
   "execution_count": 17,
   "id": "b44f5311",
   "metadata": {},
   "outputs": [
    {
     "data": {
      "text/html": [
       "<div>\n",
       "<style scoped>\n",
       "    .dataframe tbody tr th:only-of-type {\n",
       "        vertical-align: middle;\n",
       "    }\n",
       "\n",
       "    .dataframe tbody tr th {\n",
       "        vertical-align: top;\n",
       "    }\n",
       "\n",
       "    .dataframe thead th {\n",
       "        text-align: right;\n",
       "    }\n",
       "</style>\n",
       "<table border=\"1\" class=\"dataframe\">\n",
       "  <thead>\n",
       "    <tr style=\"text-align: right;\">\n",
       "      <th></th>\n",
       "      <th>TransactionID</th>\n",
       "      <th>CustomerID</th>\n",
       "      <th>CustomerDOB</th>\n",
       "      <th>CustGender</th>\n",
       "      <th>CustLocation</th>\n",
       "      <th>CustAccountBalance</th>\n",
       "      <th>TransactionDate</th>\n",
       "      <th>TransactionTime</th>\n",
       "      <th>TransactionAmount</th>\n",
       "    </tr>\n",
       "  </thead>\n",
       "  <tbody>\n",
       "  </tbody>\n",
       "</table>\n",
       "</div>"
      ],
      "text/plain": [
       "Empty DataFrame\n",
       "Columns: [TransactionID, CustomerID, CustomerDOB, CustGender, CustLocation, CustAccountBalance, TransactionDate, TransactionTime, TransactionAmount]\n",
       "Index: []"
      ]
     },
     "execution_count": 17,
     "metadata": {},
     "output_type": "execute_result"
    }
   ],
   "source": [
    "data[data.duplicated()]"
   ]
  },
  {
   "cell_type": "markdown",
   "id": "4ee14733",
   "metadata": {},
   "source": [
    "There are no duplicated data, so it's possible to say that the dataset is clean."
   ]
  },
  {
   "cell_type": "code",
   "execution_count": 18,
   "id": "207a7484",
   "metadata": {},
   "outputs": [
    {
     "data": {
      "text/plain": [
       "(985322, 9)"
      ]
     },
     "execution_count": 18,
     "metadata": {},
     "output_type": "execute_result"
    }
   ],
   "source": [
    "data.shape"
   ]
  },
  {
   "cell_type": "markdown",
   "id": "8d54eeb2",
   "metadata": {},
   "source": [
    "The number of transactions now are in total 991228 with 9 variables."
   ]
  },
  {
   "cell_type": "markdown",
   "id": "41ab3e67",
   "metadata": {},
   "source": [
    "## EDA: Exploratory data analysis"
   ]
  },
  {
   "cell_type": "code",
   "execution_count": 19,
   "id": "b8fd487c",
   "metadata": {},
   "outputs": [
    {
     "data": {
      "text/html": [
       "<div>\n",
       "<style scoped>\n",
       "    .dataframe tbody tr th:only-of-type {\n",
       "        vertical-align: middle;\n",
       "    }\n",
       "\n",
       "    .dataframe tbody tr th {\n",
       "        vertical-align: top;\n",
       "    }\n",
       "\n",
       "    .dataframe thead th {\n",
       "        text-align: right;\n",
       "    }\n",
       "</style>\n",
       "<table border=\"1\" class=\"dataframe\">\n",
       "  <thead>\n",
       "    <tr style=\"text-align: right;\">\n",
       "      <th></th>\n",
       "      <th>CustAccountBalance</th>\n",
       "      <th>TransactionAmount</th>\n",
       "    </tr>\n",
       "  </thead>\n",
       "  <tbody>\n",
       "    <tr>\n",
       "      <th>count</th>\n",
       "      <td>985322.0</td>\n",
       "      <td>985322.0</td>\n",
       "    </tr>\n",
       "    <tr>\n",
       "      <th>mean</th>\n",
       "      <td>106061.2</td>\n",
       "      <td>1452.4</td>\n",
       "    </tr>\n",
       "    <tr>\n",
       "      <th>std</th>\n",
       "      <td>817905.4</td>\n",
       "      <td>6139.8</td>\n",
       "    </tr>\n",
       "    <tr>\n",
       "      <th>min</th>\n",
       "      <td>0.0</td>\n",
       "      <td>0.0</td>\n",
       "    </tr>\n",
       "    <tr>\n",
       "      <th>25%</th>\n",
       "      <td>4582.1</td>\n",
       "      <td>151.0</td>\n",
       "    </tr>\n",
       "    <tr>\n",
       "      <th>50%</th>\n",
       "      <td>16006.3</td>\n",
       "      <td>431.0</td>\n",
       "    </tr>\n",
       "    <tr>\n",
       "      <th>75%</th>\n",
       "      <td>53759.1</td>\n",
       "      <td>1125.0</td>\n",
       "    </tr>\n",
       "    <tr>\n",
       "      <th>max</th>\n",
       "      <td>115035495.1</td>\n",
       "      <td>1560035.0</td>\n",
       "    </tr>\n",
       "  </tbody>\n",
       "</table>\n",
       "</div>"
      ],
      "text/plain": [
       "       CustAccountBalance  TransactionAmount\n",
       "count            985322.0           985322.0\n",
       "mean             106061.2             1452.4\n",
       "std              817905.4             6139.8\n",
       "min                   0.0                0.0\n",
       "25%                4582.1              151.0\n",
       "50%               16006.3              431.0\n",
       "75%               53759.1             1125.0\n",
       "max           115035495.1          1560035.0"
      ]
     },
     "execution_count": 19,
     "metadata": {},
     "output_type": "execute_result"
    }
   ],
   "source": [
    "round(data.describe(),1)"
   ]
  },
  {
   "cell_type": "markdown",
   "id": "7e9bc4fe",
   "metadata": {},
   "source": [
    "#### DA FARE EDA"
   ]
  },
  {
   "cell_type": "markdown",
   "id": "e92186a8",
   "metadata": {},
   "source": [
    "## 2.1.2: FEATURE ENGINEERING"
   ]
  },
  {
   "cell_type": "markdown",
   "id": "16d12b7c",
   "metadata": {},
   "source": [
    "To begin the Feature Engineering we create a new dataset where to put all the new variables created considering the clients."
   ]
  },
  {
   "cell_type": "code",
   "execution_count": 20,
   "id": "5649b087",
   "metadata": {},
   "outputs": [],
   "source": [
    "clients = pd.DataFrame()"
   ]
  },
  {
   "cell_type": "markdown",
   "id": "9218ed6d",
   "metadata": {},
   "source": [
    "It's time now to create the variables:\n",
    "\n",
    "a) Number of transactions:"
   ]
  },
  {
   "cell_type": "code",
   "execution_count": 21,
   "id": "eecd1f69",
   "metadata": {},
   "outputs": [],
   "source": [
    "numero_transazioni = data.groupby(['CustomerID'])[\"TransactionID\"].count()\n",
    "clients[\"Num_transaction\"]=numero_transazioni"
   ]
  },
  {
   "cell_type": "markdown",
   "id": "fa89b077",
   "metadata": {},
   "source": [
    "b) Number of transactions with a balance bigger than 100 USD:"
   ]
  },
  {
   "cell_type": "markdown",
   "id": "c3a049f6",
   "metadata": {},
   "source": [
    "# attenzione la mia moneta è indiana, devo convertire"
   ]
  },
  {
   "cell_type": "code",
   "execution_count": 22,
   "id": "a86561de",
   "metadata": {},
   "outputs": [],
   "source": [
    "data.loc[data.TransactionAmount <= 100, 'Transaction>100'] = 0\n",
    "data.loc[data.TransactionAmount > 100, 'Transaction>100'] = 1\n",
    "clients[\"Transaction>100\"] = data.groupby('CustomerID')['Transaction>100'].sum()"
   ]
  },
  {
   "cell_type": "markdown",
   "id": "be51c388",
   "metadata": {},
   "source": [
    "c) Average amount of the transactions:"
   ]
  },
  {
   "cell_type": "code",
   "execution_count": 23,
   "id": "068f8dbd",
   "metadata": {},
   "outputs": [],
   "source": [
    "clients[\"Average_transaction\"]= data.groupby('CustomerID')['TransactionAmount'].mean()"
   ]
  },
  {
   "cell_type": "markdown",
   "id": "76e65d0d",
   "metadata": {},
   "source": [
    "d) Average balance:"
   ]
  },
  {
   "cell_type": "code",
   "execution_count": 24,
   "id": "b66c2098",
   "metadata": {},
   "outputs": [],
   "source": [
    "clients[\"Average_balance\"]= data.groupby('CustomerID')['CustAccountBalance'].mean()"
   ]
  },
  {
   "cell_type": "markdown",
   "id": "4e4324d1",
   "metadata": {},
   "source": [
    "e) Utilisation (Average difference between the balance and the transaction amount for each customer):"
   ]
  },
  {
   "cell_type": "code",
   "execution_count": 25,
   "id": "67d5795f",
   "metadata": {},
   "outputs": [],
   "source": [
    "data[\"difference\"]= data['CustAccountBalance']-data['TransactionAmount']\n",
    "clients[\"Utilisation\"]= data.groupby('CustomerID')['difference'].mean()"
   ]
  },
  {
   "cell_type": "markdown",
   "id": "ca45b6ec",
   "metadata": {},
   "source": [
    "f) Most common gender of the customer:"
   ]
  },
  {
   "cell_type": "code",
   "execution_count": 26,
   "id": "da22c6dd",
   "metadata": {},
   "outputs": [],
   "source": [
    "data.loc[data.CustGender == \"M\", 'GenderNum'] = 0\n",
    "data.loc[data.CustGender == \"F\", 'GenderNum'] = 1\n",
    "clients[\"GenderNum\"]= data.groupby('CustomerID')['GenderNum'].sum()\n",
    "clients.loc[clients.GenderNum > clients.Num_transaction/2, 'Gender'] = \"F\"\n",
    "clients.loc[clients.GenderNum < clients.Num_transaction/2, 'Gender'] = \"M\"\n",
    "clients.loc[clients.GenderNum == clients.Num_transaction/2, 'Gender'] = random.choice([\"M\", \"F\"])\n",
    "clients.drop('GenderNum', inplace=True, axis=1)\n",
    "data.drop('GenderNum', inplace=True, axis=1)"
   ]
  },
  {
   "cell_type": "markdown",
   "id": "7b52c8bd",
   "metadata": {},
   "source": [
    "h) Most frequent location of the customer:"
   ]
  },
  {
   "cell_type": "code",
   "execution_count": 27,
   "id": "88ef4990",
   "metadata": {},
   "outputs": [],
   "source": [
    "location = data.groupby(['CustomerID'])['CustLocation'].agg(pd.Series.mode)"
   ]
  },
  {
   "cell_type": "code",
   "execution_count": 28,
   "id": "e75082bc",
   "metadata": {},
   "outputs": [],
   "source": [
    "lista=[]\n",
    "for i in location.index:\n",
    "    if type(location.loc[i]) == str:\n",
    "        lista.append(location[i])\n",
    "    else:\n",
    "        lista.append(location[i][0])\n",
    "        "
   ]
  },
  {
   "cell_type": "code",
   "execution_count": 29,
   "id": "52598de1",
   "metadata": {},
   "outputs": [],
   "source": [
    "clients[\"Location\"]=lista"
   ]
  },
  {
   "cell_type": "markdown",
   "id": "15db1bd7",
   "metadata": {},
   "source": [
    "## 2.1.3: NEW FEATURES"
   ]
  },
  {
   "cell_type": "markdown",
   "id": "c0494ffd",
   "metadata": {},
   "source": [
    "1) Max transaction:"
   ]
  },
  {
   "cell_type": "code",
   "execution_count": 30,
   "id": "40e085e3",
   "metadata": {},
   "outputs": [],
   "source": [
    "clients[\"Max_transaction\"]= data.groupby('CustomerID')['TransactionAmount'].max()"
   ]
  },
  {
   "cell_type": "markdown",
   "id": "519649de",
   "metadata": {},
   "source": [
    "2) Min_transaction:"
   ]
  },
  {
   "cell_type": "code",
   "execution_count": 31,
   "id": "bf706796",
   "metadata": {},
   "outputs": [],
   "source": [
    "clients[\"Min_transaction\"]= data.groupby('CustomerID')['TransactionAmount'].min()"
   ]
  },
  {
   "cell_type": "markdown",
   "id": "7c473392",
   "metadata": {},
   "source": [
    "3) Max_balance:"
   ]
  },
  {
   "cell_type": "code",
   "execution_count": 32,
   "id": "b9569419",
   "metadata": {},
   "outputs": [],
   "source": [
    "clients[\"Max_balance\"]= data.groupby('CustomerID')['CustAccountBalance'].max()"
   ]
  },
  {
   "cell_type": "markdown",
   "id": "5dc1f247",
   "metadata": {},
   "source": [
    "4) Min_balance:"
   ]
  },
  {
   "cell_type": "code",
   "execution_count": 33,
   "id": "6b7e39c0",
   "metadata": {},
   "outputs": [],
   "source": [
    "clients[\"Min_balance\"]= data.groupby('CustomerID')['CustAccountBalance'].min()"
   ]
  },
  {
   "cell_type": "markdown",
   "id": "ba823b03",
   "metadata": {},
   "source": [
    "5) Max_Utilisation:"
   ]
  },
  {
   "cell_type": "code",
   "execution_count": 34,
   "id": "b404ea0f",
   "metadata": {},
   "outputs": [],
   "source": [
    "clients[\"Max_Utilisation\"]= data.groupby('CustomerID')['difference'].max()"
   ]
  },
  {
   "cell_type": "markdown",
   "id": "7158b0f0",
   "metadata": {},
   "source": [
    "6) Min_Utilisation:"
   ]
  },
  {
   "cell_type": "code",
   "execution_count": 35,
   "id": "2b5783f0",
   "metadata": {},
   "outputs": [],
   "source": [
    "clients[\"Min_Utilisation\"]= data.groupby('CustomerID')['difference'].min()"
   ]
  },
  {
   "cell_type": "markdown",
   "id": "cf06c9ef",
   "metadata": {},
   "source": [
    "7) Balance>10000:"
   ]
  },
  {
   "cell_type": "code",
   "execution_count": 36,
   "id": "0842da50",
   "metadata": {},
   "outputs": [],
   "source": [
    "data.loc[data.CustAccountBalance <= 10000, 'Balance>10000'] = 0\n",
    "data.loc[data.CustAccountBalance > 10000, 'Balance>10000'] = 1\n",
    "clients[\"Balance>10000\"] = data.groupby('CustomerID')['Balance>10000'].sum()"
   ]
  },
  {
   "cell_type": "markdown",
   "id": "fb742e72",
   "metadata": {},
   "source": [
    "8) Utilisation<1000:"
   ]
  },
  {
   "cell_type": "code",
   "execution_count": 37,
   "id": "8062217e",
   "metadata": {},
   "outputs": [],
   "source": [
    "data.loc[data.difference < 1000, 'Utilisation>1000'] = 0\n",
    "data.loc[data.difference >= 1000, 'Utilisation<1000'] = 1\n",
    "clients[\"Utilisation<1000\"] = data.groupby('CustomerID')['Utilisation<1000'].sum()"
   ]
  },
  {
   "cell_type": "markdown",
   "id": "8845c0c0",
   "metadata": {},
   "source": [
    "9) Costumer age Max (in the year 2016, year to which the payment have been done. we are going to take the max value and so the oldest person for each bank account):"
   ]
  },
  {
   "cell_type": "code",
   "execution_count": 38,
   "id": "447b70dd",
   "metadata": {},
   "outputs": [],
   "source": [
    "data['CustomerAge'] = 2016 - data.CustomerDOB.dt.year\n",
    "clients[\"CustomerAge_max\"] = data.groupby('CustomerID')['CustomerAge'].max()"
   ]
  },
  {
   "cell_type": "markdown",
   "id": "76b832b0",
   "metadata": {},
   "source": [
    "10) Costumer age Min (in the year 2016, year to which the payment have been done. we are going to take the min value: the age of the youngest person of each bank account):"
   ]
  },
  {
   "cell_type": "code",
   "execution_count": 39,
   "id": "e61e24e7",
   "metadata": {},
   "outputs": [],
   "source": [
    "clients[\"CustomerAge_min\"] = data.groupby('CustomerID')['CustomerAge'].min()"
   ]
  },
  {
   "cell_type": "markdown",
   "id": "8573a93c",
   "metadata": {},
   "source": [
    "11) Total Transactions:"
   ]
  },
  {
   "cell_type": "code",
   "execution_count": 40,
   "id": "a80e7820",
   "metadata": {},
   "outputs": [],
   "source": [
    "clients[\"Total_transactions\"]= data.groupby('CustomerID')['TransactionAmount'].sum()"
   ]
  },
  {
   "cell_type": "markdown",
   "id": "119b55ed",
   "metadata": {},
   "source": [
    "12) Percentage of transaction > 100 on the total:"
   ]
  },
  {
   "cell_type": "code",
   "execution_count": 41,
   "id": "d80a658b",
   "metadata": {},
   "outputs": [],
   "source": [
    "clients[\"%transaction>100\"] = (clients[\"Transaction>100\"]/clients[\"Num_transaction\"]*100).round(2)"
   ]
  },
  {
   "cell_type": "markdown",
   "id": "fe4be52b",
   "metadata": {},
   "source": [
    "13) Percentage of Balance > 10000 on the total:"
   ]
  },
  {
   "cell_type": "code",
   "execution_count": 42,
   "id": "58fe15c5",
   "metadata": {},
   "outputs": [],
   "source": [
    "clients[\"%Balance>10000\"] = (clients[\"Balance>10000\"]/clients[\"Num_transaction\"]*100).round(2)"
   ]
  },
  {
   "cell_type": "markdown",
   "id": "1774249d",
   "metadata": {},
   "source": [
    "14) Percentage of Utilisation < 1000:"
   ]
  },
  {
   "cell_type": "code",
   "execution_count": 43,
   "id": "d42b1469",
   "metadata": {},
   "outputs": [],
   "source": [
    "clients[\"%Utilisation<1000\"] = (clients[\"Utilisation<1000\"]/clients[\"Num_transaction\"]*100).round(2)"
   ]
  },
  {
   "cell_type": "markdown",
   "id": "d90bc04d",
   "metadata": {},
   "source": [
    "15) Most common day for transactions:"
   ]
  },
  {
   "cell_type": "code",
   "execution_count": 44,
   "id": "3650a9bb",
   "metadata": {},
   "outputs": [],
   "source": [
    "data['Day'] = data.TransactionDate.dt.dayofweek"
   ]
  },
  {
   "cell_type": "code",
   "execution_count": 45,
   "id": "667d584a",
   "metadata": {},
   "outputs": [],
   "source": [
    "data.Day =  data.Day.astype(str)"
   ]
  },
  {
   "cell_type": "code",
   "execution_count": 46,
   "id": "1a92195f",
   "metadata": {},
   "outputs": [],
   "source": [
    "day = data.groupby(['CustomerID'])['Day'].agg(pd.Series.mode)"
   ]
  },
  {
   "cell_type": "code",
   "execution_count": 47,
   "id": "710bc876",
   "metadata": {},
   "outputs": [],
   "source": [
    "lista=[]\n",
    "for i in day.index:\n",
    "    if type(day.loc[i]) == str:\n",
    "        lista.append(day[i])\n",
    "    else:\n",
    "        lista.append(day[i][0])"
   ]
  },
  {
   "cell_type": "code",
   "execution_count": 48,
   "id": "3ad5de2b",
   "metadata": {},
   "outputs": [],
   "source": [
    "clients[\"Day\"] = lista"
   ]
  },
  {
   "cell_type": "markdown",
   "id": "3bd41f8c",
   "metadata": {},
   "source": [
    "16) most common month for transactions:"
   ]
  },
  {
   "cell_type": "code",
   "execution_count": 49,
   "id": "eb25f51e",
   "metadata": {},
   "outputs": [],
   "source": [
    "data['Month'] = data['TransactionDate'].dt.month"
   ]
  },
  {
   "cell_type": "code",
   "execution_count": 50,
   "id": "5033cc1f",
   "metadata": {},
   "outputs": [],
   "source": [
    "data.Month =  data.Month.astype(str)"
   ]
  },
  {
   "cell_type": "code",
   "execution_count": 51,
   "id": "dd8308de",
   "metadata": {},
   "outputs": [],
   "source": [
    "month = data.groupby(['CustomerID'])['Month'].agg(pd.Series.mode)"
   ]
  },
  {
   "cell_type": "code",
   "execution_count": 52,
   "id": "37989e59",
   "metadata": {},
   "outputs": [],
   "source": [
    "lista=[]\n",
    "for i in month.index:\n",
    "    if type(month.loc[i]) == str:\n",
    "        lista.append(month[i])\n",
    "    else:\n",
    "        lista.append(month[i][0])"
   ]
  },
  {
   "cell_type": "code",
   "execution_count": 53,
   "id": "96bcd4c2",
   "metadata": {},
   "outputs": [],
   "source": [
    "clients[\"Month\"] = lista"
   ]
  },
  {
   "cell_type": "markdown",
   "id": "4c0aa0cd",
   "metadata": {},
   "source": [
    "17) Time of the day with more transactions:"
   ]
  },
  {
   "cell_type": "code",
   "execution_count": 54,
   "id": "366a7ce1",
   "metadata": {},
   "outputs": [],
   "source": [
    "data['Hour'] = data['TransactionTime'].dt.hour"
   ]
  },
  {
   "cell_type": "code",
   "execution_count": 55,
   "id": "f46aa7eb",
   "metadata": {},
   "outputs": [],
   "source": [
    "data.Hour =  data.Hour.astype(str)"
   ]
  },
  {
   "cell_type": "code",
   "execution_count": 56,
   "id": "69b44c55",
   "metadata": {},
   "outputs": [],
   "source": [
    "hour = data.groupby(['CustomerID'])['Hour'].agg(pd.Series.mode)"
   ]
  },
  {
   "cell_type": "code",
   "execution_count": 57,
   "id": "693b2e52",
   "metadata": {},
   "outputs": [],
   "source": [
    "lista=[]\n",
    "for i in hour.index:\n",
    "    if type(hour.loc[i]) == str:\n",
    "        lista.append(hour[i])\n",
    "    else:\n",
    "        lista.append(hour[i][0])"
   ]
  },
  {
   "cell_type": "code",
   "execution_count": 58,
   "id": "f310bcf5",
   "metadata": {},
   "outputs": [],
   "source": [
    "clients[\"Hour\"] = lista"
   ]
  },
  {
   "cell_type": "markdown",
   "id": "f493fdef",
   "metadata": {},
   "source": [
    " 18) Minor make the transaction? (yes or no):"
   ]
  },
  {
   "cell_type": "code",
   "execution_count": 59,
   "id": "05f2a226",
   "metadata": {},
   "outputs": [],
   "source": [
    "clients.loc[clients.CustomerAge_min <18, 'Minor'] = \"Yes\"\n",
    "clients.loc[clients.CustomerAge_min >= 18, 'Minor'] = \"Not\""
   ]
  },
  {
   "cell_type": "markdown",
   "id": "9d381580",
   "metadata": {},
   "source": [
    "19) Time since the first and last transaction:"
   ]
  },
  {
   "cell_type": "code",
   "execution_count": 60,
   "id": "10cb5ab2",
   "metadata": {},
   "outputs": [],
   "source": [
    "data[\"time\"] = pd.to_datetime('today') - data.TransactionDate\n"
   ]
  },
  {
   "cell_type": "code",
   "execution_count": 61,
   "id": "d161fb6d",
   "metadata": {},
   "outputs": [],
   "source": [
    "clients[\"dist_minimum\"] = data.groupby('CustomerID')['time'].min()\n",
    "clients[\"dist_maximum\"] = data.groupby('CustomerID')['time'].max()\n",
    "clients[\"Time\"] = clients[\"dist_maximum\"] - clients[\"dist_minimum\"]\n",
    "clients.drop('dist_minimum', inplace=True, axis=1)\n",
    "clients.drop('dist_maximum', inplace=True, axis=1)"
   ]
  },
  {
   "cell_type": "markdown",
   "id": "c6a9185b",
   "metadata": {},
   "source": [
    "20) Rich Customer: Is the average_balance >10000 and the transaction been made in one of the ricchest city in India? (Mumbai, New Delhi, Delhi, )?:"
   ]
  },
  {
   "cell_type": "code",
   "execution_count": 75,
   "id": "45d88864",
   "metadata": {},
   "outputs": [],
   "source": [
    "clients.loc[(((clients.Location == \"MUMBAI\") | (clients.Location == \"NEW DELHI\") | (clients.Location == \"DELHI\")) & (clients[\"Average_balance\"]>10000)), 'RichCustomer'] = \"Yes\"\n",
    "clients.loc[((((clients.Location == \"MUMBAI\") | (clients.Location == \"NEW DELHI\") | (clients.Location == \"DELHI\")) & (clients[\"Average_balance\"]<= 10000)) | ((clients.Location != \"MUMBAI\") & (clients.Location != \"NEW DELHI\") & (clients.Location != \"DELHI\"))), 'RichCustomer'] = \"No\""
   ]
  },
  {
   "cell_type": "code",
   "execution_count": 77,
   "id": "85a83bdc",
   "metadata": {},
   "outputs": [
    {
     "data": {
      "text/html": [
       "<div>\n",
       "<style scoped>\n",
       "    .dataframe tbody tr th:only-of-type {\n",
       "        vertical-align: middle;\n",
       "    }\n",
       "\n",
       "    .dataframe tbody tr th {\n",
       "        vertical-align: top;\n",
       "    }\n",
       "\n",
       "    .dataframe thead th {\n",
       "        text-align: right;\n",
       "    }\n",
       "</style>\n",
       "<table border=\"1\" class=\"dataframe\">\n",
       "  <thead>\n",
       "    <tr style=\"text-align: right;\">\n",
       "      <th></th>\n",
       "      <th>Num_transaction</th>\n",
       "      <th>Transaction&gt;100</th>\n",
       "      <th>Average_transaction</th>\n",
       "      <th>Average_balance</th>\n",
       "      <th>Utilisation</th>\n",
       "      <th>Gender</th>\n",
       "      <th>Location</th>\n",
       "      <th>Max_transaction</th>\n",
       "      <th>Min_transaction</th>\n",
       "      <th>Max_balance</th>\n",
       "      <th>...</th>\n",
       "      <th>Total_transactions</th>\n",
       "      <th>%transaction&gt;100</th>\n",
       "      <th>%Balance&gt;10000</th>\n",
       "      <th>%Utilisation&lt;1000</th>\n",
       "      <th>Day</th>\n",
       "      <th>Month</th>\n",
       "      <th>Hour</th>\n",
       "      <th>Minor</th>\n",
       "      <th>Time</th>\n",
       "      <th>RichCustomer</th>\n",
       "    </tr>\n",
       "    <tr>\n",
       "      <th>CustomerID</th>\n",
       "      <th></th>\n",
       "      <th></th>\n",
       "      <th></th>\n",
       "      <th></th>\n",
       "      <th></th>\n",
       "      <th></th>\n",
       "      <th></th>\n",
       "      <th></th>\n",
       "      <th></th>\n",
       "      <th></th>\n",
       "      <th></th>\n",
       "      <th></th>\n",
       "      <th></th>\n",
       "      <th></th>\n",
       "      <th></th>\n",
       "      <th></th>\n",
       "      <th></th>\n",
       "      <th></th>\n",
       "      <th></th>\n",
       "      <th></th>\n",
       "      <th></th>\n",
       "    </tr>\n",
       "  </thead>\n",
       "  <tbody>\n",
       "    <tr>\n",
       "      <th>C1010011</th>\n",
       "      <td>2</td>\n",
       "      <td>2.0</td>\n",
       "      <td>2553.0</td>\n",
       "      <td>76340.635</td>\n",
       "      <td>73787.635</td>\n",
       "      <td>M</td>\n",
       "      <td>NEW DELHI</td>\n",
       "      <td>4750.0</td>\n",
       "      <td>356.0</td>\n",
       "      <td>120180.54</td>\n",
       "      <td>...</td>\n",
       "      <td>5106.0</td>\n",
       "      <td>100.0</td>\n",
       "      <td>100.0</td>\n",
       "      <td>100.0</td>\n",
       "      <td>0</td>\n",
       "      <td>9</td>\n",
       "      <td>1</td>\n",
       "      <td>Not</td>\n",
       "      <td>18 days</td>\n",
       "      <td>Yes</td>\n",
       "    </tr>\n",
       "    <tr>\n",
       "      <th>C1010012</th>\n",
       "      <td>1</td>\n",
       "      <td>1.0</td>\n",
       "      <td>1499.0</td>\n",
       "      <td>24204.490</td>\n",
       "      <td>22705.490</td>\n",
       "      <td>M</td>\n",
       "      <td>MUMBAI</td>\n",
       "      <td>1499.0</td>\n",
       "      <td>1499.0</td>\n",
       "      <td>24204.49</td>\n",
       "      <td>...</td>\n",
       "      <td>1499.0</td>\n",
       "      <td>100.0</td>\n",
       "      <td>100.0</td>\n",
       "      <td>100.0</td>\n",
       "      <td>6</td>\n",
       "      <td>8</td>\n",
       "      <td>20</td>\n",
       "      <td>Not</td>\n",
       "      <td>0 days</td>\n",
       "      <td>Yes</td>\n",
       "    </tr>\n",
       "    <tr>\n",
       "      <th>C1010014</th>\n",
       "      <td>2</td>\n",
       "      <td>2.0</td>\n",
       "      <td>727.5</td>\n",
       "      <td>100112.950</td>\n",
       "      <td>99385.450</td>\n",
       "      <td>M</td>\n",
       "      <td>MUMBAI</td>\n",
       "      <td>1205.0</td>\n",
       "      <td>250.0</td>\n",
       "      <td>161848.76</td>\n",
       "      <td>...</td>\n",
       "      <td>1455.0</td>\n",
       "      <td>100.0</td>\n",
       "      <td>100.0</td>\n",
       "      <td>100.0</td>\n",
       "      <td>4</td>\n",
       "      <td>1</td>\n",
       "      <td>15</td>\n",
       "      <td>Not</td>\n",
       "      <td>182 days</td>\n",
       "      <td>Yes</td>\n",
       "    </tr>\n",
       "    <tr>\n",
       "      <th>C1010018</th>\n",
       "      <td>1</td>\n",
       "      <td>0.0</td>\n",
       "      <td>30.0</td>\n",
       "      <td>496.180</td>\n",
       "      <td>466.180</td>\n",
       "      <td>F</td>\n",
       "      <td>CHAMPARAN</td>\n",
       "      <td>30.0</td>\n",
       "      <td>30.0</td>\n",
       "      <td>496.18</td>\n",
       "      <td>...</td>\n",
       "      <td>30.0</td>\n",
       "      <td>0.0</td>\n",
       "      <td>0.0</td>\n",
       "      <td>0.0</td>\n",
       "      <td>3</td>\n",
       "      <td>9</td>\n",
       "      <td>17</td>\n",
       "      <td>Not</td>\n",
       "      <td>0 days</td>\n",
       "      <td>No</td>\n",
       "    </tr>\n",
       "    <tr>\n",
       "      <th>C1010024</th>\n",
       "      <td>1</td>\n",
       "      <td>1.0</td>\n",
       "      <td>5000.0</td>\n",
       "      <td>87058.650</td>\n",
       "      <td>82058.650</td>\n",
       "      <td>M</td>\n",
       "      <td>KOLKATA</td>\n",
       "      <td>5000.0</td>\n",
       "      <td>5000.0</td>\n",
       "      <td>87058.65</td>\n",
       "      <td>...</td>\n",
       "      <td>5000.0</td>\n",
       "      <td>100.0</td>\n",
       "      <td>100.0</td>\n",
       "      <td>100.0</td>\n",
       "      <td>3</td>\n",
       "      <td>8</td>\n",
       "      <td>14</td>\n",
       "      <td>Not</td>\n",
       "      <td>0 days</td>\n",
       "      <td>No</td>\n",
       "    </tr>\n",
       "  </tbody>\n",
       "</table>\n",
       "<p>5 rows × 27 columns</p>\n",
       "</div>"
      ],
      "text/plain": [
       "            Num_transaction  Transaction>100  Average_transaction  \\\n",
       "CustomerID                                                          \n",
       "C1010011                  2              2.0               2553.0   \n",
       "C1010012                  1              1.0               1499.0   \n",
       "C1010014                  2              2.0                727.5   \n",
       "C1010018                  1              0.0                 30.0   \n",
       "C1010024                  1              1.0               5000.0   \n",
       "\n",
       "            Average_balance  Utilisation Gender   Location  Max_transaction  \\\n",
       "CustomerID                                                                    \n",
       "C1010011          76340.635    73787.635      M  NEW DELHI           4750.0   \n",
       "C1010012          24204.490    22705.490      M     MUMBAI           1499.0   \n",
       "C1010014         100112.950    99385.450      M     MUMBAI           1205.0   \n",
       "C1010018            496.180      466.180      F  CHAMPARAN             30.0   \n",
       "C1010024          87058.650    82058.650      M    KOLKATA           5000.0   \n",
       "\n",
       "            Min_transaction  Max_balance  ...  Total_transactions  \\\n",
       "CustomerID                                ...                       \n",
       "C1010011              356.0    120180.54  ...              5106.0   \n",
       "C1010012             1499.0     24204.49  ...              1499.0   \n",
       "C1010014              250.0    161848.76  ...              1455.0   \n",
       "C1010018               30.0       496.18  ...                30.0   \n",
       "C1010024             5000.0     87058.65  ...              5000.0   \n",
       "\n",
       "            %transaction>100  %Balance>10000  %Utilisation<1000  Day  Month  \\\n",
       "CustomerID                                                                    \n",
       "C1010011               100.0           100.0              100.0    0      9   \n",
       "C1010012               100.0           100.0              100.0    6      8   \n",
       "C1010014               100.0           100.0              100.0    4      1   \n",
       "C1010018                 0.0             0.0                0.0    3      9   \n",
       "C1010024               100.0           100.0              100.0    3      8   \n",
       "\n",
       "            Hour  Minor     Time  RichCustomer  \n",
       "CustomerID                                      \n",
       "C1010011       1    Not  18 days           Yes  \n",
       "C1010012      20    Not   0 days           Yes  \n",
       "C1010014      15    Not 182 days           Yes  \n",
       "C1010018      17    Not   0 days            No  \n",
       "C1010024      14    Not   0 days            No  \n",
       "\n",
       "[5 rows x 27 columns]"
      ]
     },
     "execution_count": 77,
     "metadata": {},
     "output_type": "execute_result"
    }
   ],
   "source": [
    "clients.head()"
   ]
  },
  {
   "cell_type": "markdown",
   "id": "28afdca3",
   "metadata": {},
   "source": [
    "#### Let's save the dataset!"
   ]
  },
  {
   "cell_type": "code",
   "execution_count": 64,
   "id": "dd000dcf",
   "metadata": {},
   "outputs": [],
   "source": [
    "clients.to_pickle(\"bank.pkl\")"
   ]
  },
  {
   "cell_type": "markdown",
   "id": "b710377e",
   "metadata": {},
   "source": [
    "## 2.2 Choose your features (variables)!"
   ]
  },
  {
   "cell_type": "markdown",
   "id": "6a0e5459",
   "metadata": {},
   "source": [
    "#### Normalization"
   ]
  },
  {
   "cell_type": "code",
   "execution_count": 65,
   "id": "ad80bfe7",
   "metadata": {},
   "outputs": [],
   "source": [
    "clients = pd.read_pickle(\"bank.pkl\")"
   ]
  },
  {
   "cell_type": "code",
   "execution_count": 79,
   "id": "75d5d559",
   "metadata": {},
   "outputs": [
    {
     "data": {
      "text/html": [
       "<div>\n",
       "<style scoped>\n",
       "    .dataframe tbody tr th:only-of-type {\n",
       "        vertical-align: middle;\n",
       "    }\n",
       "\n",
       "    .dataframe tbody tr th {\n",
       "        vertical-align: top;\n",
       "    }\n",
       "\n",
       "    .dataframe thead th {\n",
       "        text-align: right;\n",
       "    }\n",
       "</style>\n",
       "<table border=\"1\" class=\"dataframe\">\n",
       "  <thead>\n",
       "    <tr style=\"text-align: right;\">\n",
       "      <th></th>\n",
       "      <th>Num_transaction</th>\n",
       "      <th>Transaction&gt;100</th>\n",
       "      <th>Average_transaction</th>\n",
       "      <th>Average_balance</th>\n",
       "      <th>Utilisation</th>\n",
       "      <th>Gender</th>\n",
       "      <th>Location</th>\n",
       "      <th>Max_transaction</th>\n",
       "      <th>Min_transaction</th>\n",
       "      <th>Max_balance</th>\n",
       "      <th>...</th>\n",
       "      <th>Total_transactions</th>\n",
       "      <th>%transaction&gt;100</th>\n",
       "      <th>%Balance&gt;10000</th>\n",
       "      <th>%Utilisation&lt;1000</th>\n",
       "      <th>Day</th>\n",
       "      <th>Month</th>\n",
       "      <th>Hour</th>\n",
       "      <th>Minor</th>\n",
       "      <th>Time</th>\n",
       "      <th>RichCustomer</th>\n",
       "    </tr>\n",
       "    <tr>\n",
       "      <th>CustomerID</th>\n",
       "      <th></th>\n",
       "      <th></th>\n",
       "      <th></th>\n",
       "      <th></th>\n",
       "      <th></th>\n",
       "      <th></th>\n",
       "      <th></th>\n",
       "      <th></th>\n",
       "      <th></th>\n",
       "      <th></th>\n",
       "      <th></th>\n",
       "      <th></th>\n",
       "      <th></th>\n",
       "      <th></th>\n",
       "      <th></th>\n",
       "      <th></th>\n",
       "      <th></th>\n",
       "      <th></th>\n",
       "      <th></th>\n",
       "      <th></th>\n",
       "      <th></th>\n",
       "    </tr>\n",
       "  </thead>\n",
       "  <tbody>\n",
       "    <tr>\n",
       "      <th>C1010011</th>\n",
       "      <td>2</td>\n",
       "      <td>2.0</td>\n",
       "      <td>2553.0</td>\n",
       "      <td>76340.635</td>\n",
       "      <td>73787.635</td>\n",
       "      <td>M</td>\n",
       "      <td>NEW DELHI</td>\n",
       "      <td>4750.0</td>\n",
       "      <td>356.0</td>\n",
       "      <td>120180.54</td>\n",
       "      <td>...</td>\n",
       "      <td>5106.0</td>\n",
       "      <td>100.0</td>\n",
       "      <td>100.0</td>\n",
       "      <td>100.0</td>\n",
       "      <td>0</td>\n",
       "      <td>9</td>\n",
       "      <td>1</td>\n",
       "      <td>Not</td>\n",
       "      <td>18 days</td>\n",
       "      <td>Yes</td>\n",
       "    </tr>\n",
       "    <tr>\n",
       "      <th>C1010012</th>\n",
       "      <td>1</td>\n",
       "      <td>1.0</td>\n",
       "      <td>1499.0</td>\n",
       "      <td>24204.490</td>\n",
       "      <td>22705.490</td>\n",
       "      <td>M</td>\n",
       "      <td>MUMBAI</td>\n",
       "      <td>1499.0</td>\n",
       "      <td>1499.0</td>\n",
       "      <td>24204.49</td>\n",
       "      <td>...</td>\n",
       "      <td>1499.0</td>\n",
       "      <td>100.0</td>\n",
       "      <td>100.0</td>\n",
       "      <td>100.0</td>\n",
       "      <td>6</td>\n",
       "      <td>8</td>\n",
       "      <td>20</td>\n",
       "      <td>Not</td>\n",
       "      <td>0 days</td>\n",
       "      <td>Yes</td>\n",
       "    </tr>\n",
       "    <tr>\n",
       "      <th>C1010014</th>\n",
       "      <td>2</td>\n",
       "      <td>2.0</td>\n",
       "      <td>727.5</td>\n",
       "      <td>100112.950</td>\n",
       "      <td>99385.450</td>\n",
       "      <td>M</td>\n",
       "      <td>MUMBAI</td>\n",
       "      <td>1205.0</td>\n",
       "      <td>250.0</td>\n",
       "      <td>161848.76</td>\n",
       "      <td>...</td>\n",
       "      <td>1455.0</td>\n",
       "      <td>100.0</td>\n",
       "      <td>100.0</td>\n",
       "      <td>100.0</td>\n",
       "      <td>4</td>\n",
       "      <td>1</td>\n",
       "      <td>15</td>\n",
       "      <td>Not</td>\n",
       "      <td>182 days</td>\n",
       "      <td>Yes</td>\n",
       "    </tr>\n",
       "    <tr>\n",
       "      <th>C1010018</th>\n",
       "      <td>1</td>\n",
       "      <td>0.0</td>\n",
       "      <td>30.0</td>\n",
       "      <td>496.180</td>\n",
       "      <td>466.180</td>\n",
       "      <td>F</td>\n",
       "      <td>CHAMPARAN</td>\n",
       "      <td>30.0</td>\n",
       "      <td>30.0</td>\n",
       "      <td>496.18</td>\n",
       "      <td>...</td>\n",
       "      <td>30.0</td>\n",
       "      <td>0.0</td>\n",
       "      <td>0.0</td>\n",
       "      <td>0.0</td>\n",
       "      <td>3</td>\n",
       "      <td>9</td>\n",
       "      <td>17</td>\n",
       "      <td>Not</td>\n",
       "      <td>0 days</td>\n",
       "      <td>No</td>\n",
       "    </tr>\n",
       "    <tr>\n",
       "      <th>C1010024</th>\n",
       "      <td>1</td>\n",
       "      <td>1.0</td>\n",
       "      <td>5000.0</td>\n",
       "      <td>87058.650</td>\n",
       "      <td>82058.650</td>\n",
       "      <td>M</td>\n",
       "      <td>KOLKATA</td>\n",
       "      <td>5000.0</td>\n",
       "      <td>5000.0</td>\n",
       "      <td>87058.65</td>\n",
       "      <td>...</td>\n",
       "      <td>5000.0</td>\n",
       "      <td>100.0</td>\n",
       "      <td>100.0</td>\n",
       "      <td>100.0</td>\n",
       "      <td>3</td>\n",
       "      <td>8</td>\n",
       "      <td>14</td>\n",
       "      <td>Not</td>\n",
       "      <td>0 days</td>\n",
       "      <td>No</td>\n",
       "    </tr>\n",
       "  </tbody>\n",
       "</table>\n",
       "<p>5 rows × 27 columns</p>\n",
       "</div>"
      ],
      "text/plain": [
       "            Num_transaction  Transaction>100  Average_transaction  \\\n",
       "CustomerID                                                          \n",
       "C1010011                  2              2.0               2553.0   \n",
       "C1010012                  1              1.0               1499.0   \n",
       "C1010014                  2              2.0                727.5   \n",
       "C1010018                  1              0.0                 30.0   \n",
       "C1010024                  1              1.0               5000.0   \n",
       "\n",
       "            Average_balance  Utilisation Gender   Location  Max_transaction  \\\n",
       "CustomerID                                                                    \n",
       "C1010011          76340.635    73787.635      M  NEW DELHI           4750.0   \n",
       "C1010012          24204.490    22705.490      M     MUMBAI           1499.0   \n",
       "C1010014         100112.950    99385.450      M     MUMBAI           1205.0   \n",
       "C1010018            496.180      466.180      F  CHAMPARAN             30.0   \n",
       "C1010024          87058.650    82058.650      M    KOLKATA           5000.0   \n",
       "\n",
       "            Min_transaction  Max_balance  ...  Total_transactions  \\\n",
       "CustomerID                                ...                       \n",
       "C1010011              356.0    120180.54  ...              5106.0   \n",
       "C1010012             1499.0     24204.49  ...              1499.0   \n",
       "C1010014              250.0    161848.76  ...              1455.0   \n",
       "C1010018               30.0       496.18  ...                30.0   \n",
       "C1010024             5000.0     87058.65  ...              5000.0   \n",
       "\n",
       "            %transaction>100  %Balance>10000  %Utilisation<1000  Day  Month  \\\n",
       "CustomerID                                                                    \n",
       "C1010011               100.0           100.0              100.0    0      9   \n",
       "C1010012               100.0           100.0              100.0    6      8   \n",
       "C1010014               100.0           100.0              100.0    4      1   \n",
       "C1010018                 0.0             0.0                0.0    3      9   \n",
       "C1010024               100.0           100.0              100.0    3      8   \n",
       "\n",
       "            Hour  Minor     Time  RichCustomer  \n",
       "CustomerID                                      \n",
       "C1010011       1    Not  18 days           Yes  \n",
       "C1010012      20    Not   0 days           Yes  \n",
       "C1010014      15    Not 182 days           Yes  \n",
       "C1010018      17    Not   0 days            No  \n",
       "C1010024      14    Not   0 days            No  \n",
       "\n",
       "[5 rows x 27 columns]"
      ]
     },
     "execution_count": 79,
     "metadata": {},
     "output_type": "execute_result"
    }
   ],
   "source": [
    "clients.head()"
   ]
  },
  {
   "cell_type": "code",
   "execution_count": 66,
   "id": "911f3901",
   "metadata": {},
   "outputs": [
    {
     "name": "stdout",
     "output_type": "stream",
     "text": [
      "<class 'pandas.core.frame.DataFrame'>\n",
      "Index: 839081 entries, C1010011 to C9099956\n",
      "Data columns (total 27 columns):\n",
      " #   Column               Non-Null Count   Dtype          \n",
      "---  ------               --------------   -----          \n",
      " 0   Num_transaction      839081 non-null  int64          \n",
      " 1   Transaction>100      839081 non-null  float64        \n",
      " 2   Average_transaction  839081 non-null  float64        \n",
      " 3   Average_balance      839081 non-null  float64        \n",
      " 4   Utilisation          839081 non-null  float64        \n",
      " 5   Gender               839081 non-null  object         \n",
      " 6   Location             839081 non-null  object         \n",
      " 7   Max_transaction      839081 non-null  float64        \n",
      " 8   Min_transaction      839081 non-null  float64        \n",
      " 9   Max_balance          839081 non-null  float64        \n",
      " 10  Min_balance          839081 non-null  float64        \n",
      " 11  Max_Utilisation      839081 non-null  float64        \n",
      " 12  Min_Utilisation      839081 non-null  float64        \n",
      " 13  Balance>10000        839081 non-null  float64        \n",
      " 14  Utilisation<1000     839081 non-null  float64        \n",
      " 15  CustomerAge_max      839081 non-null  int64          \n",
      " 16  CustomerAge_min      839081 non-null  int64          \n",
      " 17  Total_transactions   839081 non-null  float64        \n",
      " 18  %transaction>100     839081 non-null  float64        \n",
      " 19  %Balance>10000       839081 non-null  float64        \n",
      " 20  %Utilisation<1000    839081 non-null  float64        \n",
      " 21  Day                  839081 non-null  object         \n",
      " 22  Month                839081 non-null  object         \n",
      " 23  Hour                 839081 non-null  object         \n",
      " 24  Minor                839081 non-null  object         \n",
      " 25  Time                 839081 non-null  timedelta64[ns]\n",
      " 26  RichCustomer         201429 non-null  object         \n",
      "dtypes: float64(16), int64(3), object(7), timedelta64[ns](1)\n",
      "memory usage: 179.2+ MB\n"
     ]
    }
   ],
   "source": [
    "clients.info()"
   ]
  },
  {
   "cell_type": "code",
   "execution_count": null,
   "id": "ea285528",
   "metadata": {},
   "outputs": [],
   "source": [
    "caratteristiche = ['Num_transaction', 'Transaction>100', 'Average_transaction',\n",
    "       'Average_balance', 'Utilisation',\n",
    "       'Max_transaction', 'Min_transaction', 'Max_balance', 'Min_balance',\n",
    "       'Max_Utilisation', 'Min_Utilisation', 'Balance>10000',\n",
    "       'Utilisation<1000', 'CustomerAge_max', 'CustomerAge_min',\n",
    "       'Total_transactions', '%transaction>100', '%Balance>10000',\n",
    "       '%Utilisation<1000']"
   ]
  },
  {
   "cell_type": "code",
   "execution_count": 99,
   "id": "3a113ded",
   "metadata": {},
   "outputs": [],
   "source": [
    "scaler = preprocessing.MinMaxScaler()\n",
    "clients_norm = scaler.fit_transform(clients[caratteristiche])\n",
    "#sns.scatterplot(x = clients_utilisation_norm)"
   ]
  },
  {
   "cell_type": "code",
   "execution_count": 106,
   "id": "3d742ff7",
   "metadata": {},
   "outputs": [
    {
     "data": {
      "text/html": [
       "<div>\n",
       "<style scoped>\n",
       "    .dataframe tbody tr th:only-of-type {\n",
       "        vertical-align: middle;\n",
       "    }\n",
       "\n",
       "    .dataframe tbody tr th {\n",
       "        vertical-align: top;\n",
       "    }\n",
       "\n",
       "    .dataframe thead th {\n",
       "        text-align: right;\n",
       "    }\n",
       "</style>\n",
       "<table border=\"1\" class=\"dataframe\">\n",
       "  <thead>\n",
       "    <tr style=\"text-align: right;\">\n",
       "      <th></th>\n",
       "      <th>0</th>\n",
       "      <th>1</th>\n",
       "      <th>2</th>\n",
       "      <th>3</th>\n",
       "      <th>4</th>\n",
       "      <th>5</th>\n",
       "      <th>6</th>\n",
       "      <th>7</th>\n",
       "      <th>8</th>\n",
       "      <th>9</th>\n",
       "      <th>10</th>\n",
       "      <th>11</th>\n",
       "      <th>12</th>\n",
       "      <th>13</th>\n",
       "      <th>14</th>\n",
       "      <th>15</th>\n",
       "      <th>16</th>\n",
       "      <th>17</th>\n",
       "      <th>18</th>\n",
       "    </tr>\n",
       "  </thead>\n",
       "  <tbody>\n",
       "    <tr>\n",
       "      <th>0</th>\n",
       "      <td>0.2</td>\n",
       "      <td>0.333333</td>\n",
       "      <td>0.001637</td>\n",
       "      <td>0.000664</td>\n",
       "      <td>0.013653</td>\n",
       "      <td>0.003045</td>\n",
       "      <td>0.000228</td>\n",
       "      <td>0.001045</td>\n",
       "      <td>0.000283</td>\n",
       "      <td>0.014048</td>\n",
       "      <td>0.013259</td>\n",
       "      <td>0.333333</td>\n",
       "      <td>0.333333</td>\n",
       "      <td>0.222222</td>\n",
       "      <td>0.131313</td>\n",
       "      <td>0.003273</td>\n",
       "      <td>1.0</td>\n",
       "      <td>1.0</td>\n",
       "      <td>1.0</td>\n",
       "    </tr>\n",
       "    <tr>\n",
       "      <th>1</th>\n",
       "      <td>0.0</td>\n",
       "      <td>0.166667</td>\n",
       "      <td>0.000961</td>\n",
       "      <td>0.000210</td>\n",
       "      <td>0.013215</td>\n",
       "      <td>0.000961</td>\n",
       "      <td>0.000961</td>\n",
       "      <td>0.000210</td>\n",
       "      <td>0.000210</td>\n",
       "      <td>0.013215</td>\n",
       "      <td>0.013215</td>\n",
       "      <td>0.166667</td>\n",
       "      <td>0.166667</td>\n",
       "      <td>0.111111</td>\n",
       "      <td>0.111111</td>\n",
       "      <td>0.000961</td>\n",
       "      <td>1.0</td>\n",
       "      <td>1.0</td>\n",
       "      <td>1.0</td>\n",
       "    </tr>\n",
       "    <tr>\n",
       "      <th>2</th>\n",
       "      <td>0.2</td>\n",
       "      <td>0.333333</td>\n",
       "      <td>0.000466</td>\n",
       "      <td>0.000870</td>\n",
       "      <td>0.013873</td>\n",
       "      <td>0.000772</td>\n",
       "      <td>0.000160</td>\n",
       "      <td>0.001407</td>\n",
       "      <td>0.000334</td>\n",
       "      <td>0.014407</td>\n",
       "      <td>0.013339</td>\n",
       "      <td>0.333333</td>\n",
       "      <td>0.333333</td>\n",
       "      <td>0.212121</td>\n",
       "      <td>0.131313</td>\n",
       "      <td>0.000933</td>\n",
       "      <td>1.0</td>\n",
       "      <td>1.0</td>\n",
       "      <td>1.0</td>\n",
       "    </tr>\n",
       "    <tr>\n",
       "      <th>3</th>\n",
       "      <td>0.0</td>\n",
       "      <td>0.000000</td>\n",
       "      <td>0.000019</td>\n",
       "      <td>0.000004</td>\n",
       "      <td>0.013024</td>\n",
       "      <td>0.000019</td>\n",
       "      <td>0.000019</td>\n",
       "      <td>0.000004</td>\n",
       "      <td>0.000004</td>\n",
       "      <td>0.013024</td>\n",
       "      <td>0.013024</td>\n",
       "      <td>0.000000</td>\n",
       "      <td>0.000000</td>\n",
       "      <td>0.151515</td>\n",
       "      <td>0.151515</td>\n",
       "      <td>0.000019</td>\n",
       "      <td>0.0</td>\n",
       "      <td>0.0</td>\n",
       "      <td>0.0</td>\n",
       "    </tr>\n",
       "    <tr>\n",
       "      <th>4</th>\n",
       "      <td>0.0</td>\n",
       "      <td>0.166667</td>\n",
       "      <td>0.003205</td>\n",
       "      <td>0.000757</td>\n",
       "      <td>0.013724</td>\n",
       "      <td>0.003205</td>\n",
       "      <td>0.003205</td>\n",
       "      <td>0.000757</td>\n",
       "      <td>0.000757</td>\n",
       "      <td>0.013724</td>\n",
       "      <td>0.013724</td>\n",
       "      <td>0.166667</td>\n",
       "      <td>0.166667</td>\n",
       "      <td>0.404040</td>\n",
       "      <td>0.404040</td>\n",
       "      <td>0.003205</td>\n",
       "      <td>1.0</td>\n",
       "      <td>1.0</td>\n",
       "      <td>1.0</td>\n",
       "    </tr>\n",
       "    <tr>\n",
       "      <th>...</th>\n",
       "      <td>...</td>\n",
       "      <td>...</td>\n",
       "      <td>...</td>\n",
       "      <td>...</td>\n",
       "      <td>...</td>\n",
       "      <td>...</td>\n",
       "      <td>...</td>\n",
       "      <td>...</td>\n",
       "      <td>...</td>\n",
       "      <td>...</td>\n",
       "      <td>...</td>\n",
       "      <td>...</td>\n",
       "      <td>...</td>\n",
       "      <td>...</td>\n",
       "      <td>...</td>\n",
       "      <td>...</td>\n",
       "      <td>...</td>\n",
       "      <td>...</td>\n",
       "      <td>...</td>\n",
       "    </tr>\n",
       "    <tr>\n",
       "      <th>839076</th>\n",
       "      <td>0.0</td>\n",
       "      <td>0.166667</td>\n",
       "      <td>0.000443</td>\n",
       "      <td>0.001157</td>\n",
       "      <td>0.014156</td>\n",
       "      <td>0.000443</td>\n",
       "      <td>0.000443</td>\n",
       "      <td>0.001157</td>\n",
       "      <td>0.001157</td>\n",
       "      <td>0.014156</td>\n",
       "      <td>0.014156</td>\n",
       "      <td>0.166667</td>\n",
       "      <td>0.166667</td>\n",
       "      <td>0.151515</td>\n",
       "      <td>0.151515</td>\n",
       "      <td>0.000443</td>\n",
       "      <td>1.0</td>\n",
       "      <td>1.0</td>\n",
       "      <td>1.0</td>\n",
       "    </tr>\n",
       "    <tr>\n",
       "      <th>839077</th>\n",
       "      <td>0.0</td>\n",
       "      <td>0.166667</td>\n",
       "      <td>0.000142</td>\n",
       "      <td>0.000835</td>\n",
       "      <td>0.013843</td>\n",
       "      <td>0.000142</td>\n",
       "      <td>0.000142</td>\n",
       "      <td>0.000835</td>\n",
       "      <td>0.000835</td>\n",
       "      <td>0.013843</td>\n",
       "      <td>0.013843</td>\n",
       "      <td>0.166667</td>\n",
       "      <td>0.166667</td>\n",
       "      <td>0.090909</td>\n",
       "      <td>0.090909</td>\n",
       "      <td>0.000142</td>\n",
       "      <td>1.0</td>\n",
       "      <td>1.0</td>\n",
       "      <td>1.0</td>\n",
       "    </tr>\n",
       "    <tr>\n",
       "      <th>839078</th>\n",
       "      <td>0.0</td>\n",
       "      <td>0.166667</td>\n",
       "      <td>0.000081</td>\n",
       "      <td>0.000048</td>\n",
       "      <td>0.013067</td>\n",
       "      <td>0.000081</td>\n",
       "      <td>0.000081</td>\n",
       "      <td>0.000048</td>\n",
       "      <td>0.000048</td>\n",
       "      <td>0.013067</td>\n",
       "      <td>0.013067</td>\n",
       "      <td>0.000000</td>\n",
       "      <td>0.166667</td>\n",
       "      <td>0.121212</td>\n",
       "      <td>0.121212</td>\n",
       "      <td>0.000081</td>\n",
       "      <td>1.0</td>\n",
       "      <td>0.0</td>\n",
       "      <td>1.0</td>\n",
       "    </tr>\n",
       "    <tr>\n",
       "      <th>839079</th>\n",
       "      <td>0.0</td>\n",
       "      <td>0.000000</td>\n",
       "      <td>0.000032</td>\n",
       "      <td>0.000307</td>\n",
       "      <td>0.013323</td>\n",
       "      <td>0.000032</td>\n",
       "      <td>0.000032</td>\n",
       "      <td>0.000307</td>\n",
       "      <td>0.000307</td>\n",
       "      <td>0.013323</td>\n",
       "      <td>0.013323</td>\n",
       "      <td>0.166667</td>\n",
       "      <td>0.166667</td>\n",
       "      <td>0.101010</td>\n",
       "      <td>0.101010</td>\n",
       "      <td>0.000032</td>\n",
       "      <td>0.0</td>\n",
       "      <td>1.0</td>\n",
       "      <td>1.0</td>\n",
       "    </tr>\n",
       "    <tr>\n",
       "      <th>839080</th>\n",
       "      <td>0.0</td>\n",
       "      <td>0.166667</td>\n",
       "      <td>0.000548</td>\n",
       "      <td>0.000061</td>\n",
       "      <td>0.013073</td>\n",
       "      <td>0.000548</td>\n",
       "      <td>0.000548</td>\n",
       "      <td>0.000061</td>\n",
       "      <td>0.000061</td>\n",
       "      <td>0.013073</td>\n",
       "      <td>0.013073</td>\n",
       "      <td>0.000000</td>\n",
       "      <td>0.166667</td>\n",
       "      <td>0.232323</td>\n",
       "      <td>0.232323</td>\n",
       "      <td>0.000548</td>\n",
       "      <td>1.0</td>\n",
       "      <td>0.0</td>\n",
       "      <td>1.0</td>\n",
       "    </tr>\n",
       "  </tbody>\n",
       "</table>\n",
       "<p>839081 rows × 19 columns</p>\n",
       "</div>"
      ],
      "text/plain": [
       "         0         1         2         3         4         5         6   \\\n",
       "0       0.2  0.333333  0.001637  0.000664  0.013653  0.003045  0.000228   \n",
       "1       0.0  0.166667  0.000961  0.000210  0.013215  0.000961  0.000961   \n",
       "2       0.2  0.333333  0.000466  0.000870  0.013873  0.000772  0.000160   \n",
       "3       0.0  0.000000  0.000019  0.000004  0.013024  0.000019  0.000019   \n",
       "4       0.0  0.166667  0.003205  0.000757  0.013724  0.003205  0.003205   \n",
       "...     ...       ...       ...       ...       ...       ...       ...   \n",
       "839076  0.0  0.166667  0.000443  0.001157  0.014156  0.000443  0.000443   \n",
       "839077  0.0  0.166667  0.000142  0.000835  0.013843  0.000142  0.000142   \n",
       "839078  0.0  0.166667  0.000081  0.000048  0.013067  0.000081  0.000081   \n",
       "839079  0.0  0.000000  0.000032  0.000307  0.013323  0.000032  0.000032   \n",
       "839080  0.0  0.166667  0.000548  0.000061  0.013073  0.000548  0.000548   \n",
       "\n",
       "              7         8         9         10        11        12        13  \\\n",
       "0       0.001045  0.000283  0.014048  0.013259  0.333333  0.333333  0.222222   \n",
       "1       0.000210  0.000210  0.013215  0.013215  0.166667  0.166667  0.111111   \n",
       "2       0.001407  0.000334  0.014407  0.013339  0.333333  0.333333  0.212121   \n",
       "3       0.000004  0.000004  0.013024  0.013024  0.000000  0.000000  0.151515   \n",
       "4       0.000757  0.000757  0.013724  0.013724  0.166667  0.166667  0.404040   \n",
       "...          ...       ...       ...       ...       ...       ...       ...   \n",
       "839076  0.001157  0.001157  0.014156  0.014156  0.166667  0.166667  0.151515   \n",
       "839077  0.000835  0.000835  0.013843  0.013843  0.166667  0.166667  0.090909   \n",
       "839078  0.000048  0.000048  0.013067  0.013067  0.000000  0.166667  0.121212   \n",
       "839079  0.000307  0.000307  0.013323  0.013323  0.166667  0.166667  0.101010   \n",
       "839080  0.000061  0.000061  0.013073  0.013073  0.000000  0.166667  0.232323   \n",
       "\n",
       "              14        15   16   17   18  \n",
       "0       0.131313  0.003273  1.0  1.0  1.0  \n",
       "1       0.111111  0.000961  1.0  1.0  1.0  \n",
       "2       0.131313  0.000933  1.0  1.0  1.0  \n",
       "3       0.151515  0.000019  0.0  0.0  0.0  \n",
       "4       0.404040  0.003205  1.0  1.0  1.0  \n",
       "...          ...       ...  ...  ...  ...  \n",
       "839076  0.151515  0.000443  1.0  1.0  1.0  \n",
       "839077  0.090909  0.000142  1.0  1.0  1.0  \n",
       "839078  0.121212  0.000081  1.0  0.0  1.0  \n",
       "839079  0.101010  0.000032  0.0  1.0  1.0  \n",
       "839080  0.232323  0.000548  1.0  0.0  1.0  \n",
       "\n",
       "[839081 rows x 19 columns]"
      ]
     },
     "execution_count": 106,
     "metadata": {},
     "output_type": "execute_result"
    }
   ],
   "source": [
    "clients_norm = pd.DataFrame(clients_utilisation_norm)\n",
    "clients_norm"
   ]
  },
  {
   "cell_type": "code",
   "execution_count": 107,
   "id": "9efc4576",
   "metadata": {},
   "outputs": [
    {
     "data": {
      "text/plain": [
       "0     0.007573\n",
       "1     0.008532\n",
       "2     0.000015\n",
       "3     0.000047\n",
       "4     0.000045\n",
       "5     0.000018\n",
       "6     0.000014\n",
       "7     0.000059\n",
       "8     0.000043\n",
       "9     0.000057\n",
       "10    0.000042\n",
       "11    0.009749\n",
       "12    0.008055\n",
       "13    0.008517\n",
       "14    0.007331\n",
       "15    0.000018\n",
       "16    0.145273\n",
       "17    0.218800\n",
       "18    0.121303\n",
       "dtype: float64"
      ]
     },
     "execution_count": 107,
     "metadata": {},
     "output_type": "execute_result"
    }
   ],
   "source": [
    "clients_norm.var()"
   ]
  },
  {
   "cell_type": "code",
   "execution_count": 100,
   "id": "cd0504e7",
   "metadata": {},
   "outputs": [
    {
     "data": {
      "text/plain": [
       "0.0990325970792994"
      ]
     },
     "execution_count": 100,
     "metadata": {},
     "output_type": "execute_result"
    }
   ],
   "source": [
    "clients_utilisation_norm.var()"
   ]
  },
  {
   "cell_type": "code",
   "execution_count": 84,
   "id": "9fc6df26",
   "metadata": {},
   "outputs": [],
   "source": [
    "caratteristiche = ['Num_transaction', 'Transaction>100', 'Average_transaction',\n",
    "       'Average_balance', 'Utilisation',\n",
    "       'Max_transaction', 'Min_transaction', 'Max_balance', 'Min_balance',\n",
    "       'Max_Utilisation', 'Min_Utilisation', 'Balance>10000',\n",
    "       'Utilisation<1000', 'CustomerAge_max', 'CustomerAge_min',\n",
    "       'Total_transactions', '%transaction>100', '%Balance>10000',\n",
    "       '%Utilisation<1000']"
   ]
  },
  {
   "cell_type": "code",
   "execution_count": 159,
   "id": "622479f2",
   "metadata": {},
   "outputs": [],
   "source": [
    "clients_quant = clients.loc[:, caratteristiche].values"
   ]
  },
  {
   "cell_type": "code",
   "execution_count": 160,
   "id": "27af5609",
   "metadata": {},
   "outputs": [],
   "source": [
    "clients_quant = StandardScaler().fit_transform(clients_quant)"
   ]
  },
  {
   "cell_type": "code",
   "execution_count": 161,
   "id": "9f6c9def",
   "metadata": {},
   "outputs": [
    {
     "data": {
      "text/html": [
       "<div>\n",
       "<style scoped>\n",
       "    .dataframe tbody tr th:only-of-type {\n",
       "        vertical-align: middle;\n",
       "    }\n",
       "\n",
       "    .dataframe tbody tr th {\n",
       "        vertical-align: top;\n",
       "    }\n",
       "\n",
       "    .dataframe thead th {\n",
       "        text-align: right;\n",
       "    }\n",
       "</style>\n",
       "<table border=\"1\" class=\"dataframe\">\n",
       "  <thead>\n",
       "    <tr style=\"text-align: right;\">\n",
       "      <th></th>\n",
       "      <th>0</th>\n",
       "      <th>1</th>\n",
       "      <th>2</th>\n",
       "      <th>3</th>\n",
       "      <th>4</th>\n",
       "      <th>5</th>\n",
       "      <th>6</th>\n",
       "      <th>7</th>\n",
       "      <th>8</th>\n",
       "      <th>9</th>\n",
       "      <th>10</th>\n",
       "      <th>11</th>\n",
       "      <th>12</th>\n",
       "      <th>13</th>\n",
       "      <th>14</th>\n",
       "      <th>15</th>\n",
       "      <th>16</th>\n",
       "      <th>17</th>\n",
       "      <th>18</th>\n",
       "    </tr>\n",
       "  </thead>\n",
       "  <tbody>\n",
       "    <tr>\n",
       "      <th>0</th>\n",
       "      <td>1.897629</td>\n",
       "      <td>1.906793</td>\n",
       "      <td>0.181860</td>\n",
       "      <td>-0.037537</td>\n",
       "      <td>-0.038951</td>\n",
       "      <td>0.469705</td>\n",
       "      <td>-0.158029</td>\n",
       "      <td>-0.001132</td>\n",
       "      <td>-0.078621</td>\n",
       "      <td>0.000160</td>\n",
       "      <td>-0.083056</td>\n",
       "      <td>2.164541</td>\n",
       "      <td>1.873759</td>\n",
       "      <td>0.132468</td>\n",
       "      <td>-0.747676</td>\n",
       "      <td>0.508465</td>\n",
       "      <td>0.515698</td>\n",
       "      <td>0.831652</td>\n",
       "      <td>0.448188</td>\n",
       "    </tr>\n",
       "    <tr>\n",
       "      <th>1</th>\n",
       "      <td>-0.400541</td>\n",
       "      <td>0.102428</td>\n",
       "      <td>0.007506</td>\n",
       "      <td>-0.103847</td>\n",
       "      <td>-0.103946</td>\n",
       "      <td>-0.020811</td>\n",
       "      <td>0.036214</td>\n",
       "      <td>-0.110138</td>\n",
       "      <td>-0.089593</td>\n",
       "      <td>-0.110191</td>\n",
       "      <td>-0.089731</td>\n",
       "      <td>0.476560</td>\n",
       "      <td>0.016786</td>\n",
       "      <td>-1.071475</td>\n",
       "      <td>-0.983622</td>\n",
       "      <td>-0.030887</td>\n",
       "      <td>0.515698</td>\n",
       "      <td>0.831652</td>\n",
       "      <td>0.448188</td>\n",
       "    </tr>\n",
       "    <tr>\n",
       "      <th>2</th>\n",
       "      <td>1.897629</td>\n",
       "      <td>1.906793</td>\n",
       "      <td>-0.120116</td>\n",
       "      <td>-0.007302</td>\n",
       "      <td>-0.006381</td>\n",
       "      <td>-0.065171</td>\n",
       "      <td>-0.176043</td>\n",
       "      <td>0.046193</td>\n",
       "      <td>-0.070849</td>\n",
       "      <td>0.047625</td>\n",
       "      <td>-0.070591</td>\n",
       "      <td>2.164541</td>\n",
       "      <td>1.873759</td>\n",
       "      <td>0.023019</td>\n",
       "      <td>-0.747676</td>\n",
       "      <td>-0.037467</td>\n",
       "      <td>0.515698</td>\n",
       "      <td>0.831652</td>\n",
       "      <td>0.448188</td>\n",
       "    </tr>\n",
       "    <tr>\n",
       "      <th>3</th>\n",
       "      <td>-0.400541</td>\n",
       "      <td>-1.701937</td>\n",
       "      <td>-0.235497</td>\n",
       "      <td>-0.134001</td>\n",
       "      <td>-0.132242</td>\n",
       "      <td>-0.242457</td>\n",
       "      <td>-0.213430</td>\n",
       "      <td>-0.137065</td>\n",
       "      <td>-0.120947</td>\n",
       "      <td>-0.135461</td>\n",
       "      <td>-0.119154</td>\n",
       "      <td>-1.211421</td>\n",
       "      <td>-1.840186</td>\n",
       "      <td>-0.633677</td>\n",
       "      <td>-0.511730</td>\n",
       "      <td>-0.250546</td>\n",
       "      <td>-2.107961</td>\n",
       "      <td>-1.306193</td>\n",
       "      <td>-2.423023</td>\n",
       "    </tr>\n",
       "    <tr>\n",
       "      <th>4</th>\n",
       "      <td>-0.400541</td>\n",
       "      <td>0.102428</td>\n",
       "      <td>0.586644</td>\n",
       "      <td>-0.023906</td>\n",
       "      <td>-0.028427</td>\n",
       "      <td>0.507426</td>\n",
       "      <td>0.631178</td>\n",
       "      <td>-0.038750</td>\n",
       "      <td>-0.006467</td>\n",
       "      <td>-0.042752</td>\n",
       "      <td>-0.011205</td>\n",
       "      <td>0.476560</td>\n",
       "      <td>0.016786</td>\n",
       "      <td>2.102557</td>\n",
       "      <td>2.437594</td>\n",
       "      <td>0.492615</td>\n",
       "      <td>0.515698</td>\n",
       "      <td>0.831652</td>\n",
       "      <td>0.448188</td>\n",
       "    </tr>\n",
       "    <tr>\n",
       "      <th>...</th>\n",
       "      <td>...</td>\n",
       "      <td>...</td>\n",
       "      <td>...</td>\n",
       "      <td>...</td>\n",
       "      <td>...</td>\n",
       "      <td>...</td>\n",
       "      <td>...</td>\n",
       "      <td>...</td>\n",
       "      <td>...</td>\n",
       "      <td>...</td>\n",
       "      <td>...</td>\n",
       "      <td>...</td>\n",
       "      <td>...</td>\n",
       "      <td>...</td>\n",
       "      <td>...</td>\n",
       "      <td>...</td>\n",
       "      <td>...</td>\n",
       "      <td>...</td>\n",
       "      <td>...</td>\n",
       "    </tr>\n",
       "    <tr>\n",
       "      <th>839076</th>\n",
       "      <td>-0.400541</td>\n",
       "      <td>0.102428</td>\n",
       "      <td>-0.126154</td>\n",
       "      <td>0.034611</td>\n",
       "      <td>0.035595</td>\n",
       "      <td>-0.142724</td>\n",
       "      <td>-0.101099</td>\n",
       "      <td>0.013504</td>\n",
       "      <td>0.054380</td>\n",
       "      <td>0.014421</td>\n",
       "      <td>0.055366</td>\n",
       "      <td>0.476560</td>\n",
       "      <td>0.016786</td>\n",
       "      <td>-0.633677</td>\n",
       "      <td>-0.511730</td>\n",
       "      <td>-0.151707</td>\n",
       "      <td>0.515698</td>\n",
       "      <td>0.831652</td>\n",
       "      <td>0.448188</td>\n",
       "    </tr>\n",
       "    <tr>\n",
       "      <th>839077</th>\n",
       "      <td>-0.400541</td>\n",
       "      <td>0.102428</td>\n",
       "      <td>-0.203736</td>\n",
       "      <td>-0.012453</td>\n",
       "      <td>-0.010891</td>\n",
       "      <td>-0.213487</td>\n",
       "      <td>-0.180802</td>\n",
       "      <td>-0.028523</td>\n",
       "      <td>0.005442</td>\n",
       "      <td>-0.027091</td>\n",
       "      <td>0.007030</td>\n",
       "      <td>0.476560</td>\n",
       "      <td>0.016786</td>\n",
       "      <td>-1.290374</td>\n",
       "      <td>-1.219568</td>\n",
       "      <td>-0.221836</td>\n",
       "      <td>0.515698</td>\n",
       "      <td>0.831652</td>\n",
       "      <td>0.448188</td>\n",
       "    </tr>\n",
       "    <tr>\n",
       "      <th>839078</th>\n",
       "      <td>-0.400541</td>\n",
       "      <td>0.102428</td>\n",
       "      <td>-0.219616</td>\n",
       "      <td>-0.127561</td>\n",
       "      <td>-0.125921</td>\n",
       "      <td>-0.227972</td>\n",
       "      <td>-0.197116</td>\n",
       "      <td>-0.131314</td>\n",
       "      <td>-0.114250</td>\n",
       "      <td>-0.129816</td>\n",
       "      <td>-0.112582</td>\n",
       "      <td>-1.211421</td>\n",
       "      <td>0.016786</td>\n",
       "      <td>-0.962025</td>\n",
       "      <td>-0.865649</td>\n",
       "      <td>-0.236191</td>\n",
       "      <td>0.515698</td>\n",
       "      <td>-1.306193</td>\n",
       "      <td>0.448188</td>\n",
       "    </tr>\n",
       "    <tr>\n",
       "      <th>839079</th>\n",
       "      <td>-0.400541</td>\n",
       "      <td>-1.701937</td>\n",
       "      <td>-0.232188</td>\n",
       "      <td>-0.089740</td>\n",
       "      <td>-0.087990</td>\n",
       "      <td>-0.239439</td>\n",
       "      <td>-0.210032</td>\n",
       "      <td>-0.097540</td>\n",
       "      <td>-0.074924</td>\n",
       "      <td>-0.095942</td>\n",
       "      <td>-0.073139</td>\n",
       "      <td>0.476560</td>\n",
       "      <td>0.016786</td>\n",
       "      <td>-1.180924</td>\n",
       "      <td>-1.101595</td>\n",
       "      <td>-0.247555</td>\n",
       "      <td>-2.107961</td>\n",
       "      <td>0.831652</td>\n",
       "      <td>0.448188</td>\n",
       "    </tr>\n",
       "    <tr>\n",
       "      <th>839080</th>\n",
       "      <td>-0.400541</td>\n",
       "      <td>0.102428</td>\n",
       "      <td>-0.099025</td>\n",
       "      <td>-0.125768</td>\n",
       "      <td>-0.125056</td>\n",
       "      <td>-0.117979</td>\n",
       "      <td>-0.073229</td>\n",
       "      <td>-0.129713</td>\n",
       "      <td>-0.112387</td>\n",
       "      <td>-0.129043</td>\n",
       "      <td>-0.111682</td>\n",
       "      <td>-1.211421</td>\n",
       "      <td>0.016786</td>\n",
       "      <td>0.241918</td>\n",
       "      <td>0.432053</td>\n",
       "      <td>-0.127184</td>\n",
       "      <td>0.515698</td>\n",
       "      <td>-1.306193</td>\n",
       "      <td>0.448188</td>\n",
       "    </tr>\n",
       "  </tbody>\n",
       "</table>\n",
       "<p>839081 rows × 19 columns</p>\n",
       "</div>"
      ],
      "text/plain": [
       "              0         1         2         3         4         5         6   \\\n",
       "0       1.897629  1.906793  0.181860 -0.037537 -0.038951  0.469705 -0.158029   \n",
       "1      -0.400541  0.102428  0.007506 -0.103847 -0.103946 -0.020811  0.036214   \n",
       "2       1.897629  1.906793 -0.120116 -0.007302 -0.006381 -0.065171 -0.176043   \n",
       "3      -0.400541 -1.701937 -0.235497 -0.134001 -0.132242 -0.242457 -0.213430   \n",
       "4      -0.400541  0.102428  0.586644 -0.023906 -0.028427  0.507426  0.631178   \n",
       "...          ...       ...       ...       ...       ...       ...       ...   \n",
       "839076 -0.400541  0.102428 -0.126154  0.034611  0.035595 -0.142724 -0.101099   \n",
       "839077 -0.400541  0.102428 -0.203736 -0.012453 -0.010891 -0.213487 -0.180802   \n",
       "839078 -0.400541  0.102428 -0.219616 -0.127561 -0.125921 -0.227972 -0.197116   \n",
       "839079 -0.400541 -1.701937 -0.232188 -0.089740 -0.087990 -0.239439 -0.210032   \n",
       "839080 -0.400541  0.102428 -0.099025 -0.125768 -0.125056 -0.117979 -0.073229   \n",
       "\n",
       "              7         8         9         10        11        12        13  \\\n",
       "0      -0.001132 -0.078621  0.000160 -0.083056  2.164541  1.873759  0.132468   \n",
       "1      -0.110138 -0.089593 -0.110191 -0.089731  0.476560  0.016786 -1.071475   \n",
       "2       0.046193 -0.070849  0.047625 -0.070591  2.164541  1.873759  0.023019   \n",
       "3      -0.137065 -0.120947 -0.135461 -0.119154 -1.211421 -1.840186 -0.633677   \n",
       "4      -0.038750 -0.006467 -0.042752 -0.011205  0.476560  0.016786  2.102557   \n",
       "...          ...       ...       ...       ...       ...       ...       ...   \n",
       "839076  0.013504  0.054380  0.014421  0.055366  0.476560  0.016786 -0.633677   \n",
       "839077 -0.028523  0.005442 -0.027091  0.007030  0.476560  0.016786 -1.290374   \n",
       "839078 -0.131314 -0.114250 -0.129816 -0.112582 -1.211421  0.016786 -0.962025   \n",
       "839079 -0.097540 -0.074924 -0.095942 -0.073139  0.476560  0.016786 -1.180924   \n",
       "839080 -0.129713 -0.112387 -0.129043 -0.111682 -1.211421  0.016786  0.241918   \n",
       "\n",
       "              14        15        16        17        18  \n",
       "0      -0.747676  0.508465  0.515698  0.831652  0.448188  \n",
       "1      -0.983622 -0.030887  0.515698  0.831652  0.448188  \n",
       "2      -0.747676 -0.037467  0.515698  0.831652  0.448188  \n",
       "3      -0.511730 -0.250546 -2.107961 -1.306193 -2.423023  \n",
       "4       2.437594  0.492615  0.515698  0.831652  0.448188  \n",
       "...          ...       ...       ...       ...       ...  \n",
       "839076 -0.511730 -0.151707  0.515698  0.831652  0.448188  \n",
       "839077 -1.219568 -0.221836  0.515698  0.831652  0.448188  \n",
       "839078 -0.865649 -0.236191  0.515698 -1.306193  0.448188  \n",
       "839079 -1.101595 -0.247555 -2.107961  0.831652  0.448188  \n",
       "839080  0.432053 -0.127184  0.515698 -1.306193  0.448188  \n",
       "\n",
       "[839081 rows x 19 columns]"
      ]
     },
     "execution_count": 161,
     "metadata": {},
     "output_type": "execute_result"
    }
   ],
   "source": [
    "clients_quant = pd.DataFrame(clients_quant)\n",
    "clients_quant"
   ]
  },
  {
   "cell_type": "code",
   "execution_count": 176,
   "id": "64edb49a",
   "metadata": {},
   "outputs": [
    {
     "data": {
      "text/html": [
       "<div>\n",
       "<style scoped>\n",
       "    .dataframe tbody tr th:only-of-type {\n",
       "        vertical-align: middle;\n",
       "    }\n",
       "\n",
       "    .dataframe tbody tr th {\n",
       "        vertical-align: top;\n",
       "    }\n",
       "\n",
       "    .dataframe thead th {\n",
       "        text-align: right;\n",
       "    }\n",
       "</style>\n",
       "<table border=\"1\" class=\"dataframe\">\n",
       "  <thead>\n",
       "    <tr style=\"text-align: right;\">\n",
       "      <th></th>\n",
       "      <th>principal component 1</th>\n",
       "      <th>principal component 2</th>\n",
       "      <th>principal component 3</th>\n",
       "      <th>principal component 4</th>\n",
       "    </tr>\n",
       "  </thead>\n",
       "  <tbody>\n",
       "    <tr>\n",
       "      <th>0</th>\n",
       "      <td>-1.415714</td>\n",
       "      <td>3.402589</td>\n",
       "      <td>0.059397</td>\n",
       "      <td>-0.276380</td>\n",
       "    </tr>\n",
       "    <tr>\n",
       "      <th>1</th>\n",
       "      <td>-2.529371</td>\n",
       "      <td>-0.147948</td>\n",
       "      <td>0.678222</td>\n",
       "      <td>-1.571454</td>\n",
       "    </tr>\n",
       "    <tr>\n",
       "      <th>2</th>\n",
       "      <td>-2.216533</td>\n",
       "      <td>3.475270</td>\n",
       "      <td>0.012594</td>\n",
       "      <td>-0.351506</td>\n",
       "    </tr>\n",
       "    <tr>\n",
       "      <th>3</th>\n",
       "      <td>-3.240865</td>\n",
       "      <td>-3.895804</td>\n",
       "      <td>-2.055500</td>\n",
       "      <td>0.393504</td>\n",
       "    </tr>\n",
       "    <tr>\n",
       "      <th>4</th>\n",
       "      <td>-1.598891</td>\n",
       "      <td>-0.025463</td>\n",
       "      <td>2.424992</td>\n",
       "      <td>2.301775</td>\n",
       "    </tr>\n",
       "    <tr>\n",
       "      <th>5</th>\n",
       "      <td>-2.685045</td>\n",
       "      <td>-0.021162</td>\n",
       "      <td>0.840796</td>\n",
       "      <td>-0.952556</td>\n",
       "    </tr>\n",
       "    <tr>\n",
       "      <th>6</th>\n",
       "      <td>-2.253259</td>\n",
       "      <td>1.634105</td>\n",
       "      <td>-1.678549</td>\n",
       "      <td>1.232503</td>\n",
       "    </tr>\n",
       "    <tr>\n",
       "      <th>7</th>\n",
       "      <td>-2.447404</td>\n",
       "      <td>1.952689</td>\n",
       "      <td>-1.299671</td>\n",
       "      <td>0.399112</td>\n",
       "    </tr>\n",
       "    <tr>\n",
       "      <th>8</th>\n",
       "      <td>-2.761052</td>\n",
       "      <td>-0.068409</td>\n",
       "      <td>0.411358</td>\n",
       "      <td>-2.016685</td>\n",
       "    </tr>\n",
       "    <tr>\n",
       "      <th>9</th>\n",
       "      <td>2.151090</td>\n",
       "      <td>-0.735803</td>\n",
       "      <td>3.119564</td>\n",
       "      <td>1.017180</td>\n",
       "    </tr>\n",
       "    <tr>\n",
       "      <th>10</th>\n",
       "      <td>-3.063692</td>\n",
       "      <td>-2.025428</td>\n",
       "      <td>-1.579848</td>\n",
       "      <td>-0.452745</td>\n",
       "    </tr>\n",
       "    <tr>\n",
       "      <th>11</th>\n",
       "      <td>-2.684938</td>\n",
       "      <td>-0.161525</td>\n",
       "      <td>0.427717</td>\n",
       "      <td>-2.109322</td>\n",
       "    </tr>\n",
       "    <tr>\n",
       "      <th>12</th>\n",
       "      <td>1.225482</td>\n",
       "      <td>5.313221</td>\n",
       "      <td>-1.761651</td>\n",
       "      <td>0.970803</td>\n",
       "    </tr>\n",
       "    <tr>\n",
       "      <th>13</th>\n",
       "      <td>-2.900076</td>\n",
       "      <td>-1.143646</td>\n",
       "      <td>-0.559457</td>\n",
       "      <td>0.231737</td>\n",
       "    </tr>\n",
       "    <tr>\n",
       "      <th>14</th>\n",
       "      <td>33.411975</td>\n",
       "      <td>-0.695041</td>\n",
       "      <td>-0.608500</td>\n",
       "      <td>-0.360590</td>\n",
       "    </tr>\n",
       "    <tr>\n",
       "      <th>15</th>\n",
       "      <td>-3.050794</td>\n",
       "      <td>-3.045357</td>\n",
       "      <td>-1.167866</td>\n",
       "      <td>0.702220</td>\n",
       "    </tr>\n",
       "    <tr>\n",
       "      <th>16</th>\n",
       "      <td>1.187484</td>\n",
       "      <td>-0.627460</td>\n",
       "      <td>2.614120</td>\n",
       "      <td>0.465574</td>\n",
       "    </tr>\n",
       "    <tr>\n",
       "      <th>17</th>\n",
       "      <td>-2.346701</td>\n",
       "      <td>-3.152868</td>\n",
       "      <td>-0.892237</td>\n",
       "      <td>0.846118</td>\n",
       "    </tr>\n",
       "    <tr>\n",
       "      <th>18</th>\n",
       "      <td>-2.781698</td>\n",
       "      <td>-0.031961</td>\n",
       "      <td>1.014520</td>\n",
       "      <td>-0.469290</td>\n",
       "    </tr>\n",
       "  </tbody>\n",
       "</table>\n",
       "</div>"
      ],
      "text/plain": [
       "    principal component 1  principal component 2  principal component 3  \\\n",
       "0               -1.415714               3.402589               0.059397   \n",
       "1               -2.529371              -0.147948               0.678222   \n",
       "2               -2.216533               3.475270               0.012594   \n",
       "3               -3.240865              -3.895804              -2.055500   \n",
       "4               -1.598891              -0.025463               2.424992   \n",
       "5               -2.685045              -0.021162               0.840796   \n",
       "6               -2.253259               1.634105              -1.678549   \n",
       "7               -2.447404               1.952689              -1.299671   \n",
       "8               -2.761052              -0.068409               0.411358   \n",
       "9                2.151090              -0.735803               3.119564   \n",
       "10              -3.063692              -2.025428              -1.579848   \n",
       "11              -2.684938              -0.161525               0.427717   \n",
       "12               1.225482               5.313221              -1.761651   \n",
       "13              -2.900076              -1.143646              -0.559457   \n",
       "14              33.411975              -0.695041              -0.608500   \n",
       "15              -3.050794              -3.045357              -1.167866   \n",
       "16               1.187484              -0.627460               2.614120   \n",
       "17              -2.346701              -3.152868              -0.892237   \n",
       "18              -2.781698              -0.031961               1.014520   \n",
       "\n",
       "    principal component 4  \n",
       "0               -0.276380  \n",
       "1               -1.571454  \n",
       "2               -0.351506  \n",
       "3                0.393504  \n",
       "4                2.301775  \n",
       "5               -0.952556  \n",
       "6                1.232503  \n",
       "7                0.399112  \n",
       "8               -2.016685  \n",
       "9                1.017180  \n",
       "10              -0.452745  \n",
       "11              -2.109322  \n",
       "12               0.970803  \n",
       "13               0.231737  \n",
       "14              -0.360590  \n",
       "15               0.702220  \n",
       "16               0.465574  \n",
       "17               0.846118  \n",
       "18              -0.469290  "
      ]
     },
     "execution_count": 176,
     "metadata": {},
     "output_type": "execute_result"
    }
   ],
   "source": [
    "# COME FACCIO A VEDERE QUANTO OGNI COMPONENTE PRINCIPALE MI SPIEGA DELLE VARIABILI??\n",
    "\n",
    "clients_quant_variabili = pd.DataFrame(clients_quant, index = clients_quant.columns)\n",
    "clients_quant_variabili\n",
    "pca2 = PCA(n_components=4)\n",
    "principalComponents2 = pca2.fit_transform(clients_quant_variabili)\n",
    "principalDf2 = pd.DataFrame(data = principalComponents2\n",
    "             , columns = ['principal component 1', 'principal component 2', 'principal component 3', 'principal component 4'])\n",
    "principalDf2"
   ]
  },
  {
   "cell_type": "code",
   "execution_count": 162,
   "id": "c3b353b3",
   "metadata": {},
   "outputs": [],
   "source": [
    "pca = PCA(n_components=4)"
   ]
  },
  {
   "cell_type": "code",
   "execution_count": 163,
   "id": "afda6a32",
   "metadata": {},
   "outputs": [],
   "source": [
    "principalComponents = pca.fit_transform(clients_quant)"
   ]
  },
  {
   "cell_type": "code",
   "execution_count": 164,
   "id": "bcd35c87",
   "metadata": {},
   "outputs": [],
   "source": [
    "principalDf = pd.DataFrame(data = principalComponents\n",
    "             , columns = ['principal component 1', 'principal component 2', 'principal component 3', 'principal component 4'])"
   ]
  },
  {
   "cell_type": "code",
   "execution_count": 165,
   "id": "bee02a17",
   "metadata": {},
   "outputs": [
    {
     "data": {
      "text/html": [
       "<div>\n",
       "<style scoped>\n",
       "    .dataframe tbody tr th:only-of-type {\n",
       "        vertical-align: middle;\n",
       "    }\n",
       "\n",
       "    .dataframe tbody tr th {\n",
       "        vertical-align: top;\n",
       "    }\n",
       "\n",
       "    .dataframe thead th {\n",
       "        text-align: right;\n",
       "    }\n",
       "</style>\n",
       "<table border=\"1\" class=\"dataframe\">\n",
       "  <thead>\n",
       "    <tr style=\"text-align: right;\">\n",
       "      <th></th>\n",
       "      <th>principal component 1</th>\n",
       "      <th>principal component 2</th>\n",
       "      <th>principal component 3</th>\n",
       "      <th>principal component 4</th>\n",
       "    </tr>\n",
       "  </thead>\n",
       "  <tbody>\n",
       "    <tr>\n",
       "      <th>0</th>\n",
       "      <td>0.479358</td>\n",
       "      <td>1.667376</td>\n",
       "      <td>-3.343899</td>\n",
       "      <td>1.571680</td>\n",
       "    </tr>\n",
       "    <tr>\n",
       "      <th>1</th>\n",
       "      <td>-0.264298</td>\n",
       "      <td>0.074994</td>\n",
       "      <td>-0.427219</td>\n",
       "      <td>0.950122</td>\n",
       "    </tr>\n",
       "    <tr>\n",
       "      <th>2</th>\n",
       "      <td>0.432817</td>\n",
       "      <td>0.992885</td>\n",
       "      <td>-3.549405</td>\n",
       "      <td>1.542257</td>\n",
       "    </tr>\n",
       "    <tr>\n",
       "      <th>3</th>\n",
       "      <td>-1.104468</td>\n",
       "      <td>-1.725383</td>\n",
       "      <td>3.509369</td>\n",
       "      <td>0.432599</td>\n",
       "    </tr>\n",
       "    <tr>\n",
       "      <th>4</th>\n",
       "      <td>0.648691</td>\n",
       "      <td>1.715947</td>\n",
       "      <td>-0.678577</td>\n",
       "      <td>-3.030092</td>\n",
       "    </tr>\n",
       "    <tr>\n",
       "      <th>...</th>\n",
       "      <td>...</td>\n",
       "      <td>...</td>\n",
       "      <td>...</td>\n",
       "      <td>...</td>\n",
       "    </tr>\n",
       "    <tr>\n",
       "      <th>839076</th>\n",
       "      <td>0.097911</td>\n",
       "      <td>-0.135794</td>\n",
       "      <td>-0.573634</td>\n",
       "      <td>0.381764</td>\n",
       "    </tr>\n",
       "    <tr>\n",
       "      <th>839077</th>\n",
       "      <td>-0.150051</td>\n",
       "      <td>-0.386176</td>\n",
       "      <td>-0.500910</td>\n",
       "      <td>1.208036</td>\n",
       "    </tr>\n",
       "    <tr>\n",
       "      <th>839078</th>\n",
       "      <td>-0.692147</td>\n",
       "      <td>-0.804716</td>\n",
       "      <td>0.817187</td>\n",
       "      <td>1.004002</td>\n",
       "    </tr>\n",
       "    <tr>\n",
       "      <th>839079</th>\n",
       "      <td>-0.516504</td>\n",
       "      <td>-1.025545</td>\n",
       "      <td>0.427156</td>\n",
       "      <td>1.220788</td>\n",
       "    </tr>\n",
       "    <tr>\n",
       "      <th>839080</th>\n",
       "      <td>-0.439472</td>\n",
       "      <td>-0.341257</td>\n",
       "      <td>0.647177</td>\n",
       "      <td>-0.532040</td>\n",
       "    </tr>\n",
       "  </tbody>\n",
       "</table>\n",
       "<p>839081 rows × 4 columns</p>\n",
       "</div>"
      ],
      "text/plain": [
       "        principal component 1  principal component 2  principal component 3  \\\n",
       "0                    0.479358               1.667376              -3.343899   \n",
       "1                   -0.264298               0.074994              -0.427219   \n",
       "2                    0.432817               0.992885              -3.549405   \n",
       "3                   -1.104468              -1.725383               3.509369   \n",
       "4                    0.648691               1.715947              -0.678577   \n",
       "...                       ...                    ...                    ...   \n",
       "839076               0.097911              -0.135794              -0.573634   \n",
       "839077              -0.150051              -0.386176              -0.500910   \n",
       "839078              -0.692147              -0.804716               0.817187   \n",
       "839079              -0.516504              -1.025545               0.427156   \n",
       "839080              -0.439472              -0.341257               0.647177   \n",
       "\n",
       "        principal component 4  \n",
       "0                    1.571680  \n",
       "1                    0.950122  \n",
       "2                    1.542257  \n",
       "3                    0.432599  \n",
       "4                   -3.030092  \n",
       "...                       ...  \n",
       "839076               0.381764  \n",
       "839077               1.208036  \n",
       "839078               1.004002  \n",
       "839079               1.220788  \n",
       "839080              -0.532040  \n",
       "\n",
       "[839081 rows x 4 columns]"
      ]
     },
     "execution_count": 165,
     "metadata": {},
     "output_type": "execute_result"
    }
   ],
   "source": [
    "principalDf"
   ]
  },
  {
   "cell_type": "code",
   "execution_count": 166,
   "id": "f906c88d",
   "metadata": {},
   "outputs": [
    {
     "data": {
      "text/plain": [
       "principal component 1    0.393523\n",
       "principal component 2    0.263737\n",
       "principal component 3    0.221100\n",
       "principal component 4    0.121641\n",
       "dtype: float64"
      ]
     },
     "execution_count": 166,
     "metadata": {},
     "output_type": "execute_result"
    }
   ],
   "source": [
    "varianza = principalDf.var()/sum(principalDf.var())\n",
    "varianza"
   ]
  },
  {
   "cell_type": "code",
   "execution_count": 167,
   "id": "dee0599d",
   "metadata": {},
   "outputs": [
    {
     "name": "stdout",
     "output_type": "stream",
     "text": [
      "Components =  4 ;\n",
      "Total explained variance =  0.78323\n"
     ]
    }
   ],
   "source": [
    "#pca.explained_variance_ratio_\n",
    "print ( \"Components = \", pca.n_components_ , \";\\nTotal explained variance = \",\n",
    "      round(pca.explained_variance_ratio_.sum(),5)  )"
   ]
  },
  {
   "cell_type": "code",
   "execution_count": 168,
   "id": "59fd0d9b",
   "metadata": {},
   "outputs": [
    {
     "data": {
      "image/png": "[encoded data removed]",
      "text/plain": [
       "<Figure size 432x288 with 1 Axes>"
      ]
     },
     "metadata": {
      "needs_background": "light"
     },
     "output_type": "display_data"
    }
   ],
   "source": [
    "exp_var_pca = pca.explained_variance_ratio_\n",
    "cum_sum_eigenvalues = np.cumsum(exp_var_pca)\n",
    "plt.bar(range(0,len(exp_var_pca)), exp_var_pca, alpha=0.5, align='center', label='Individual explained variance')\n",
    "plt.step(range(0,len(cum_sum_eigenvalues)), cum_sum_eigenvalues, where='mid',label='Cumulative explained variance')\n",
    "plt.ylabel('Explained variance ratio')\n",
    "plt.xlabel('Principal component index')\n",
    "plt.legend(loc='best')\n",
    "plt.tight_layout()\n",
    "plt.show()"
   ]
  },
  {
   "cell_type": "code",
   "execution_count": 173,
   "id": "2a6f2b52",
   "metadata": {},
   "outputs": [
    {
     "data": {
      "image/png": "[encoded data removed]",
      "text/plain": [
       "<Figure size 432x288 with 2 Axes>"
      ]
     },
     "metadata": {
      "needs_background": "light"
     },
     "output_type": "display_data"
    }
   ],
   "source": [
    "# HA SENSO??????\n",
    "corrMatrix=principalDf.corr()\n",
    "sn.heatmap(corrMatrix, annot=True)\n",
    "plt.show()"
   ]
  },
  {
   "cell_type": "code",
   "execution_count": 178,
   "id": "f2cd19ac",
   "metadata": {},
   "outputs": [
    {
     "data": {
      "image/png": "[encoded data removed]",
      "text/plain": [
       "<Figure size 576x576 with 1 Axes>"
      ]
     },
     "metadata": {
      "needs_background": "light"
     },
     "output_type": "display_data"
    }
   ],
   "source": [
    "fig = plt.figure(figsize = (8,8))\n",
    "ax = fig.add_subplot(1,1,1) \n",
    "ax.set_xlabel('Principal Component 1', fontsize = 15)\n",
    "ax.set_ylabel('Principal Component 2', fontsize = 15)\n",
    "ax.set_title('2 component PCA', fontsize = 20)\n",
    "#targets = ['Iris-setosa', 'Iris-versicolor', 'Iris-virginica']\n",
    "#colors = ['r', 'g', 'b']\n",
    "for target, color in zip(targets,colors):\n",
    "    indicesToKeep = finalDf['target'] == target\n",
    "    ax.scatter(finalDf.loc[indicesToKeep, 'principal component 1']\n",
    "               , finalDf.loc[indicesToKeep, 'principal component 2']\n",
    "               , c = color\n",
    "               , s = 50)\n",
    "ax.legend(targets)\n",
    "ax.grid()"
   ]
  },
  {
   "cell_type": "code",
   "execution_count": 183,
   "id": "cc9b297b",
   "metadata": {},
   "outputs": [
    {
     "ename": "ValueError",
     "evalue": "The truth value of a DataFrame is ambiguous. Use a.empty, a.bool(), a.item(), a.any() or a.all().",
     "output_type": "error",
     "traceback": [
      "\u001b[1;31m---------------------------------------------------------------------------\u001b[0m",
      "\u001b[1;31mValueError\u001b[0m                                Traceback (most recent call last)",
      "Input \u001b[1;32mIn [183]\u001b[0m, in \u001b[0;36m<cell line: 7>\u001b[1;34m()\u001b[0m\n\u001b[0;32m      1\u001b[0m components \u001b[38;5;241m=\u001b[39m pca\u001b[38;5;241m.\u001b[39mfit_transform(principalDf)\n\u001b[0;32m      2\u001b[0m labels \u001b[38;5;241m=\u001b[39m {\n\u001b[0;32m      3\u001b[0m     \u001b[38;5;28mstr\u001b[39m(i): \u001b[38;5;124mf\u001b[39m\u001b[38;5;124m\"\u001b[39m\u001b[38;5;124mPC \u001b[39m\u001b[38;5;132;01m{\u001b[39;00mi\u001b[38;5;241m+\u001b[39m\u001b[38;5;241m1\u001b[39m\u001b[38;5;132;01m}\u001b[39;00m\u001b[38;5;124m (\u001b[39m\u001b[38;5;132;01m{\u001b[39;00mvar\u001b[38;5;132;01m:\u001b[39;00m\u001b[38;5;124m.1f\u001b[39m\u001b[38;5;132;01m}\u001b[39;00m\u001b[38;5;124m%)\u001b[39m\u001b[38;5;124m\"\u001b[39m\n\u001b[0;32m      4\u001b[0m     \u001b[38;5;28;01mfor\u001b[39;00m i, var \u001b[38;5;129;01min\u001b[39;00m \u001b[38;5;28menumerate\u001b[39m(pca\u001b[38;5;241m.\u001b[39mexplained_variance_ratio_ \u001b[38;5;241m*\u001b[39m \u001b[38;5;241m100\u001b[39m)\n\u001b[0;32m      5\u001b[0m }\n\u001b[1;32m----> 7\u001b[0m fig \u001b[38;5;241m=\u001b[39m \u001b[43mpx\u001b[49m\u001b[38;5;241;43m.\u001b[39;49m\u001b[43mscatter_matrix\u001b[49m\u001b[43m(\u001b[49m\n\u001b[0;32m      8\u001b[0m \u001b[43m    \u001b[49m\u001b[43mcomponents\u001b[49m\u001b[43m,\u001b[49m\n\u001b[0;32m      9\u001b[0m \u001b[43m    \u001b[49m\u001b[43mlabels\u001b[49m\u001b[38;5;241;43m=\u001b[39;49m\u001b[43mlabels\u001b[49m\u001b[43m,\u001b[49m\n\u001b[0;32m     10\u001b[0m \u001b[43m    \u001b[49m\u001b[43mdimensions\u001b[49m\u001b[38;5;241;43m=\u001b[39;49m\u001b[38;5;28;43mrange\u001b[39;49m\u001b[43m(\u001b[49m\u001b[38;5;241;43m4\u001b[39;49m\u001b[43m)\u001b[49m\u001b[43m,\u001b[49m\n\u001b[0;32m     11\u001b[0m \u001b[43m    \u001b[49m\u001b[43mcolor\u001b[49m\u001b[38;5;241;43m=\u001b[39;49m\u001b[43mprincipalDf\u001b[49m\n\u001b[0;32m     12\u001b[0m \u001b[43m)\u001b[49m\n\u001b[0;32m     13\u001b[0m fig\u001b[38;5;241m.\u001b[39mupdate_traces(diagonal_visible\u001b[38;5;241m=\u001b[39m\u001b[38;5;28;01mFalse\u001b[39;00m)\n\u001b[0;32m     14\u001b[0m fig\u001b[38;5;241m.\u001b[39mshow()\n",
      "File \u001b[1;32mD:\\anaconda\\lib\\site-packages\\plotly\\express\\_chart_types.py:1378\u001b[0m, in \u001b[0;36mscatter_matrix\u001b[1;34m(data_frame, dimensions, color, symbol, size, hover_name, hover_data, custom_data, category_orders, labels, color_discrete_sequence, color_discrete_map, color_continuous_scale, range_color, color_continuous_midpoint, symbol_sequence, symbol_map, opacity, size_max, title, template, width, height)\u001b[0m\n\u001b[0;32m   1347\u001b[0m \u001b[38;5;28;01mdef\u001b[39;00m \u001b[38;5;21mscatter_matrix\u001b[39m(\n\u001b[0;32m   1348\u001b[0m     data_frame\u001b[38;5;241m=\u001b[39m\u001b[38;5;28;01mNone\u001b[39;00m,\n\u001b[0;32m   1349\u001b[0m     dimensions\u001b[38;5;241m=\u001b[39m\u001b[38;5;28;01mNone\u001b[39;00m,\n\u001b[1;32m   (...)\u001b[0m\n\u001b[0;32m   1370\u001b[0m     height\u001b[38;5;241m=\u001b[39m\u001b[38;5;28;01mNone\u001b[39;00m,\n\u001b[0;32m   1371\u001b[0m ):\n\u001b[0;32m   1372\u001b[0m     \u001b[38;5;124;03m\"\"\"\u001b[39;00m\n\u001b[0;32m   1373\u001b[0m \u001b[38;5;124;03m    In a scatter plot matrix (or SPLOM), each row of `data_frame` is\u001b[39;00m\n\u001b[0;32m   1374\u001b[0m \u001b[38;5;124;03m    represented by a multiple symbol marks, one in each cell of a grid of\u001b[39;00m\n\u001b[0;32m   1375\u001b[0m \u001b[38;5;124;03m    2D scatter plots, which plot each pair of `dimensions` against each\u001b[39;00m\n\u001b[0;32m   1376\u001b[0m \u001b[38;5;124;03m    other.\u001b[39;00m\n\u001b[0;32m   1377\u001b[0m \u001b[38;5;124;03m    \"\"\"\u001b[39;00m\n\u001b[1;32m-> 1378\u001b[0m     \u001b[38;5;28;01mreturn\u001b[39;00m \u001b[43mmake_figure\u001b[49m\u001b[43m(\u001b[49m\n\u001b[0;32m   1379\u001b[0m \u001b[43m        \u001b[49m\u001b[43margs\u001b[49m\u001b[38;5;241;43m=\u001b[39;49m\u001b[38;5;28;43mlocals\u001b[39;49m\u001b[43m(\u001b[49m\u001b[43m)\u001b[49m\u001b[43m,\u001b[49m\u001b[43m \u001b[49m\u001b[43mconstructor\u001b[49m\u001b[38;5;241;43m=\u001b[39;49m\u001b[43mgo\u001b[49m\u001b[38;5;241;43m.\u001b[39;49m\u001b[43mSplom\u001b[49m\u001b[43m,\u001b[49m\u001b[43m \u001b[49m\u001b[43mlayout_patch\u001b[49m\u001b[38;5;241;43m=\u001b[39;49m\u001b[38;5;28;43mdict\u001b[39;49m\u001b[43m(\u001b[49m\u001b[43mdragmode\u001b[49m\u001b[38;5;241;43m=\u001b[39;49m\u001b[38;5;124;43m\"\u001b[39;49m\u001b[38;5;124;43mselect\u001b[39;49m\u001b[38;5;124;43m\"\u001b[39;49m\u001b[43m)\u001b[49m\n\u001b[0;32m   1380\u001b[0m \u001b[43m    \u001b[49m\u001b[43m)\u001b[49m\n",
      "File \u001b[1;32mD:\\anaconda\\lib\\site-packages\\plotly\\express\\_core.py:1945\u001b[0m, in \u001b[0;36mmake_figure\u001b[1;34m(args, constructor, trace_patch, layout_patch)\u001b[0m\n\u001b[0;32m   1942\u001b[0m layout_patch \u001b[38;5;241m=\u001b[39m layout_patch \u001b[38;5;129;01mor\u001b[39;00m {}\n\u001b[0;32m   1943\u001b[0m apply_default_cascade(args)\n\u001b[1;32m-> 1945\u001b[0m args \u001b[38;5;241m=\u001b[39m \u001b[43mbuild_dataframe\u001b[49m\u001b[43m(\u001b[49m\u001b[43margs\u001b[49m\u001b[43m,\u001b[49m\u001b[43m \u001b[49m\u001b[43mconstructor\u001b[49m\u001b[43m)\u001b[49m\n\u001b[0;32m   1946\u001b[0m \u001b[38;5;28;01mif\u001b[39;00m constructor \u001b[38;5;129;01min\u001b[39;00m [go\u001b[38;5;241m.\u001b[39mTreemap, go\u001b[38;5;241m.\u001b[39mSunburst, go\u001b[38;5;241m.\u001b[39mIcicle] \u001b[38;5;129;01mand\u001b[39;00m args[\u001b[38;5;124m\"\u001b[39m\u001b[38;5;124mpath\u001b[39m\u001b[38;5;124m\"\u001b[39m] \u001b[38;5;129;01mis\u001b[39;00m \u001b[38;5;129;01mnot\u001b[39;00m \u001b[38;5;28;01mNone\u001b[39;00m:\n\u001b[0;32m   1947\u001b[0m     args \u001b[38;5;241m=\u001b[39m process_dataframe_hierarchy(args)\n",
      "File \u001b[1;32mD:\\anaconda\\lib\\site-packages\\plotly\\express\\_core.py:1405\u001b[0m, in \u001b[0;36mbuild_dataframe\u001b[1;34m(args, constructor)\u001b[0m\n\u001b[0;32m   1402\u001b[0m     args[\u001b[38;5;124m\"\u001b[39m\u001b[38;5;124mcolor\u001b[39m\u001b[38;5;124m\"\u001b[39m] \u001b[38;5;241m=\u001b[39m \u001b[38;5;28;01mNone\u001b[39;00m\n\u001b[0;32m   1403\u001b[0m \u001b[38;5;66;03m# now that things have been prepped, we do the systematic rewriting of `args`\u001b[39;00m\n\u001b[1;32m-> 1405\u001b[0m df_output, wide_id_vars \u001b[38;5;241m=\u001b[39m \u001b[43mprocess_args_into_dataframe\u001b[49m\u001b[43m(\u001b[49m\n\u001b[0;32m   1406\u001b[0m \u001b[43m    \u001b[49m\u001b[43margs\u001b[49m\u001b[43m,\u001b[49m\u001b[43m \u001b[49m\u001b[43mwide_mode\u001b[49m\u001b[43m,\u001b[49m\u001b[43m \u001b[49m\u001b[43mvar_name\u001b[49m\u001b[43m,\u001b[49m\u001b[43m \u001b[49m\u001b[43mvalue_name\u001b[49m\n\u001b[0;32m   1407\u001b[0m \u001b[43m\u001b[49m\u001b[43m)\u001b[49m\n\u001b[0;32m   1409\u001b[0m \u001b[38;5;66;03m# now that `df_output` exists and `args` contains only references, we complete\u001b[39;00m\n\u001b[0;32m   1410\u001b[0m \u001b[38;5;66;03m# the special-case and wide-mode handling by further rewriting args and/or mutating\u001b[39;00m\n\u001b[0;32m   1411\u001b[0m \u001b[38;5;66;03m# df_output\u001b[39;00m\n\u001b[0;32m   1413\u001b[0m count_name \u001b[38;5;241m=\u001b[39m _escape_col_name(df_output, \u001b[38;5;124m\"\u001b[39m\u001b[38;5;124mcount\u001b[39m\u001b[38;5;124m\"\u001b[39m, [var_name, value_name])\n",
      "File \u001b[1;32mD:\\anaconda\\lib\\site-packages\\plotly\\express\\_core.py:1251\u001b[0m, in \u001b[0;36mprocess_args_into_dataframe\u001b[1;34m(args, wide_mode, var_name, value_name)\u001b[0m\n\u001b[0;32m   1244\u001b[0m     \u001b[38;5;28;01mif\u001b[39;00m length \u001b[38;5;129;01mand\u001b[39;00m \u001b[38;5;28mlen\u001b[39m(argument) \u001b[38;5;241m!=\u001b[39m length:\n\u001b[0;32m   1245\u001b[0m         \u001b[38;5;28;01mraise\u001b[39;00m \u001b[38;5;167;01mValueError\u001b[39;00m(\n\u001b[0;32m   1246\u001b[0m             \u001b[38;5;124m\"\u001b[39m\u001b[38;5;124mAll arguments should have the same length. \u001b[39m\u001b[38;5;124m\"\u001b[39m\n\u001b[0;32m   1247\u001b[0m             \u001b[38;5;124m\"\u001b[39m\u001b[38;5;124mThe length of argument `\u001b[39m\u001b[38;5;132;01m%s\u001b[39;00m\u001b[38;5;124m` is \u001b[39m\u001b[38;5;132;01m%d\u001b[39;00m\u001b[38;5;124m, whereas the \u001b[39m\u001b[38;5;124m\"\u001b[39m\n\u001b[0;32m   1248\u001b[0m             \u001b[38;5;124m\"\u001b[39m\u001b[38;5;124mlength of  previously-processed arguments \u001b[39m\u001b[38;5;132;01m%s\u001b[39;00m\u001b[38;5;124m is \u001b[39m\u001b[38;5;132;01m%d\u001b[39;00m\u001b[38;5;124m\"\u001b[39m\n\u001b[0;32m   1249\u001b[0m             \u001b[38;5;241m%\u001b[39m (field, \u001b[38;5;28mlen\u001b[39m(argument), \u001b[38;5;28mstr\u001b[39m(\u001b[38;5;28mlist\u001b[39m(df_output\u001b[38;5;241m.\u001b[39mcolumns)), length)\n\u001b[0;32m   1250\u001b[0m         )\n\u001b[1;32m-> 1251\u001b[0m     df_output[\u001b[38;5;28mstr\u001b[39m(col_name)] \u001b[38;5;241m=\u001b[39m \u001b[43mto_unindexed_series\u001b[49m\u001b[43m(\u001b[49m\u001b[43margument\u001b[49m\u001b[43m)\u001b[49m\n\u001b[0;32m   1253\u001b[0m \u001b[38;5;66;03m# Finally, update argument with column name now that column exists\u001b[39;00m\n\u001b[0;32m   1254\u001b[0m \u001b[38;5;28;01massert\u001b[39;00m col_name \u001b[38;5;129;01mis\u001b[39;00m \u001b[38;5;129;01mnot\u001b[39;00m \u001b[38;5;28;01mNone\u001b[39;00m, (\n\u001b[0;32m   1255\u001b[0m     \u001b[38;5;124m\"\u001b[39m\u001b[38;5;124mData-frame processing failure, likely due to a internal bug. \u001b[39m\u001b[38;5;124m\"\u001b[39m\n\u001b[0;32m   1256\u001b[0m     \u001b[38;5;124m\"\u001b[39m\u001b[38;5;124mPlease report this to \u001b[39m\u001b[38;5;124m\"\u001b[39m\n\u001b[0;32m   1257\u001b[0m     \u001b[38;5;124m\"\u001b[39m\u001b[38;5;124mhttps://github.com/plotly/plotly.py/issues/new and we will try to \u001b[39m\u001b[38;5;124m\"\u001b[39m\n\u001b[0;32m   1258\u001b[0m     \u001b[38;5;124m\"\u001b[39m\u001b[38;5;124mreplicate and fix it.\u001b[39m\u001b[38;5;124m\"\u001b[39m\n\u001b[0;32m   1259\u001b[0m )\n",
      "File \u001b[1;32mD:\\anaconda\\lib\\site-packages\\plotly\\express\\_core.py:1073\u001b[0m, in \u001b[0;36mto_unindexed_series\u001b[1;34m(x)\u001b[0m\n\u001b[0;32m   1066\u001b[0m \u001b[38;5;28;01mdef\u001b[39;00m \u001b[38;5;21mto_unindexed_series\u001b[39m(x):\n\u001b[0;32m   1067\u001b[0m     \u001b[38;5;124;03m\"\"\"\u001b[39;00m\n\u001b[0;32m   1068\u001b[0m \u001b[38;5;124;03m    assuming x is list-like or even an existing pd.Series, return a new pd.Series with\u001b[39;00m\n\u001b[0;32m   1069\u001b[0m \u001b[38;5;124;03m    no index, without extracting the data from an existing Series via numpy, which\u001b[39;00m\n\u001b[0;32m   1070\u001b[0m \u001b[38;5;124;03m    seems to mangle datetime columns. Stripping the index from existing pd.Series is\u001b[39;00m\n\u001b[0;32m   1071\u001b[0m \u001b[38;5;124;03m    required to get things to match up right in the new DataFrame we're building\u001b[39;00m\n\u001b[0;32m   1072\u001b[0m \u001b[38;5;124;03m    \"\"\"\u001b[39;00m\n\u001b[1;32m-> 1073\u001b[0m     \u001b[38;5;28;01mreturn\u001b[39;00m \u001b[43mpd\u001b[49m\u001b[38;5;241;43m.\u001b[39;49m\u001b[43mSeries\u001b[49m\u001b[43m(\u001b[49m\u001b[43mx\u001b[49m\u001b[43m)\u001b[49m\u001b[38;5;241m.\u001b[39mreset_index(drop\u001b[38;5;241m=\u001b[39m\u001b[38;5;28;01mTrue\u001b[39;00m)\n",
      "File \u001b[1;32mD:\\anaconda\\lib\\site-packages\\pandas\\core\\series.py:367\u001b[0m, in \u001b[0;36mSeries.__init__\u001b[1;34m(self, data, index, dtype, name, copy, fastpath)\u001b[0m\n\u001b[0;32m    363\u001b[0m \u001b[38;5;28;01melse\u001b[39;00m:\n\u001b[0;32m    365\u001b[0m     name \u001b[38;5;241m=\u001b[39m ibase\u001b[38;5;241m.\u001b[39mmaybe_extract_name(name, data, \u001b[38;5;28mtype\u001b[39m(\u001b[38;5;28mself\u001b[39m))\n\u001b[1;32m--> 367\u001b[0m     \u001b[38;5;28;01mif\u001b[39;00m \u001b[43mis_empty_data\u001b[49m\u001b[43m(\u001b[49m\u001b[43mdata\u001b[49m\u001b[43m)\u001b[49m \u001b[38;5;129;01mand\u001b[39;00m dtype \u001b[38;5;129;01mis\u001b[39;00m \u001b[38;5;28;01mNone\u001b[39;00m:\n\u001b[0;32m    368\u001b[0m         \u001b[38;5;66;03m# gh-17261\u001b[39;00m\n\u001b[0;32m    369\u001b[0m         warnings\u001b[38;5;241m.\u001b[39mwarn(\n\u001b[0;32m    370\u001b[0m             \u001b[38;5;124m\"\u001b[39m\u001b[38;5;124mThe default dtype for empty Series will be \u001b[39m\u001b[38;5;124m'\u001b[39m\u001b[38;5;124mobject\u001b[39m\u001b[38;5;124m'\u001b[39m\u001b[38;5;124m instead \u001b[39m\u001b[38;5;124m\"\u001b[39m\n\u001b[0;32m    371\u001b[0m             \u001b[38;5;124m\"\u001b[39m\u001b[38;5;124mof \u001b[39m\u001b[38;5;124m'\u001b[39m\u001b[38;5;124mfloat64\u001b[39m\u001b[38;5;124m'\u001b[39m\u001b[38;5;124m in a future version. Specify a dtype explicitly \u001b[39m\u001b[38;5;124m\"\u001b[39m\n\u001b[1;32m   (...)\u001b[0m\n\u001b[0;32m    374\u001b[0m             stacklevel\u001b[38;5;241m=\u001b[39mfind_stack_level(),\n\u001b[0;32m    375\u001b[0m         )\n\u001b[0;32m    376\u001b[0m         \u001b[38;5;66;03m# uncomment the line below when removing the FutureWarning\u001b[39;00m\n\u001b[0;32m    377\u001b[0m         \u001b[38;5;66;03m# dtype = np.dtype(object)\u001b[39;00m\n",
      "File \u001b[1;32mD:\\anaconda\\lib\\site-packages\\pandas\\core\\construction.py:818\u001b[0m, in \u001b[0;36mis_empty_data\u001b[1;34m(data)\u001b[0m\n\u001b[0;32m    816\u001b[0m is_none \u001b[38;5;241m=\u001b[39m data \u001b[38;5;129;01mis\u001b[39;00m \u001b[38;5;28;01mNone\u001b[39;00m\n\u001b[0;32m    817\u001b[0m is_list_like_without_dtype \u001b[38;5;241m=\u001b[39m is_list_like(data) \u001b[38;5;129;01mand\u001b[39;00m \u001b[38;5;129;01mnot\u001b[39;00m \u001b[38;5;28mhasattr\u001b[39m(data, \u001b[38;5;124m\"\u001b[39m\u001b[38;5;124mdtype\u001b[39m\u001b[38;5;124m\"\u001b[39m)\n\u001b[1;32m--> 818\u001b[0m is_simple_empty \u001b[38;5;241m=\u001b[39m is_list_like_without_dtype \u001b[38;5;129;01mand\u001b[39;00m \u001b[38;5;129;43;01mnot\u001b[39;49;00m\u001b[43m \u001b[49m\u001b[43mdata\u001b[49m\n\u001b[0;32m    819\u001b[0m \u001b[38;5;28;01mreturn\u001b[39;00m is_none \u001b[38;5;129;01mor\u001b[39;00m is_simple_empty\n",
      "File \u001b[1;32mD:\\anaconda\\lib\\site-packages\\pandas\\core\\generic.py:1527\u001b[0m, in \u001b[0;36mNDFrame.__nonzero__\u001b[1;34m(self)\u001b[0m\n\u001b[0;32m   1525\u001b[0m \u001b[38;5;129m@final\u001b[39m\n\u001b[0;32m   1526\u001b[0m \u001b[38;5;28;01mdef\u001b[39;00m \u001b[38;5;21m__nonzero__\u001b[39m(\u001b[38;5;28mself\u001b[39m):\n\u001b[1;32m-> 1527\u001b[0m     \u001b[38;5;28;01mraise\u001b[39;00m \u001b[38;5;167;01mValueError\u001b[39;00m(\n\u001b[0;32m   1528\u001b[0m         \u001b[38;5;124mf\u001b[39m\u001b[38;5;124m\"\u001b[39m\u001b[38;5;124mThe truth value of a \u001b[39m\u001b[38;5;132;01m{\u001b[39;00m\u001b[38;5;28mtype\u001b[39m(\u001b[38;5;28mself\u001b[39m)\u001b[38;5;241m.\u001b[39m\u001b[38;5;18m__name__\u001b[39m\u001b[38;5;132;01m}\u001b[39;00m\u001b[38;5;124m is ambiguous. \u001b[39m\u001b[38;5;124m\"\u001b[39m\n\u001b[0;32m   1529\u001b[0m         \u001b[38;5;124m\"\u001b[39m\u001b[38;5;124mUse a.empty, a.bool(), a.item(), a.any() or a.all().\u001b[39m\u001b[38;5;124m\"\u001b[39m\n\u001b[0;32m   1530\u001b[0m     )\n",
      "\u001b[1;31mValueError\u001b[0m: The truth value of a DataFrame is ambiguous. Use a.empty, a.bool(), a.item(), a.any() or a.all()."
     ]
    }
   ],
   "source": [
    "components = pca.fit_transform(principalDf)\n",
    "labels = {\n",
    "    str(i): f\"PC {i+1} ({var:.1f}%)\"\n",
    "    for i, var in enumerate(pca.explained_variance_ratio_ * 100)\n",
    "}\n",
    "\n",
    "fig = px.scatter_matrix(\n",
    "    components,\n",
    "    labels=labels,\n",
    "    dimensions=range(4),\n",
    "    color=principalDf\n",
    ")\n",
    "fig.update_traces(diagonal_visible=False)\n",
    "fig.show()"
   ]
  },
  {
   "cell_type": "code",
   "execution_count": null,
   "id": "0dd18bf4",
   "metadata": {},
   "outputs": [],
   "source": []
  }
 ],
 "metadata": {
  "kernelspec": {
   "display_name": "Python 3 (ipykernel)",
   "language": "python",
   "name": "python3"
  },
  "language_info": {
   "codemirror_mode": {
    "name": "ipython",
    "version": 3
   },
   "file_extension": ".py",
   "mimetype": "text/x-python",
   "name": "python",
   "nbconvert_exporter": "python",
   "pygments_lexer": "ipython3",
   "version": "3.9.12"
  }
 },
 "nbformat": 4,
 "nbformat_minor": 5
}

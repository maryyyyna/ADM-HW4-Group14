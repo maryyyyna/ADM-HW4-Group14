{
 "cells": [
  {
   "cell_type": "code",
   "execution_count": 1,
   "id": "30a89f7c",
   "metadata": {},
   "outputs": [],
   "source": [
    "import pandas as pd\n",
    "import numpy as np\n",
    "from datetime import datetime\n",
    "import random\n",
    "import seaborn as sns\n",
    "from sklearn import preprocessing"
   ]
  },
  {
   "cell_type": "markdown",
   "id": "518cb623",
   "metadata": {},
   "source": [
    "## Loading the dataset"
   ]
  },
  {
   "cell_type": "code",
   "execution_count": 2,
   "id": "c2cfb839",
   "metadata": {},
   "outputs": [],
   "source": [
    "data = pd.read_csv(r\"D:/DataScience/ADM/homework4/bank_transactions.csv\")"
   ]
  },
  {
   "cell_type": "markdown",
   "id": "b54a5cda",
   "metadata": {},
   "source": [
    "## Inside the dataset"
   ]
  },
  {
   "cell_type": "code",
   "execution_count": 3,
   "id": "262ad376",
   "metadata": {},
   "outputs": [
    {
     "data": {
      "text/html": [
       "<div>\n",
       "<style scoped>\n",
       "    .dataframe tbody tr th:only-of-type {\n",
       "        vertical-align: middle;\n",
       "    }\n",
       "\n",
       "    .dataframe tbody tr th {\n",
       "        vertical-align: top;\n",
       "    }\n",
       "\n",
       "    .dataframe thead th {\n",
       "        text-align: right;\n",
       "    }\n",
       "</style>\n",
       "<table border=\"1\" class=\"dataframe\">\n",
       "  <thead>\n",
       "    <tr style=\"text-align: right;\">\n",
       "      <th></th>\n",
       "      <th>TransactionID</th>\n",
       "      <th>CustomerID</th>\n",
       "      <th>CustomerDOB</th>\n",
       "      <th>CustGender</th>\n",
       "      <th>CustLocation</th>\n",
       "      <th>CustAccountBalance</th>\n",
       "      <th>TransactionDate</th>\n",
       "      <th>TransactionTime</th>\n",
       "      <th>TransactionAmount (INR)</th>\n",
       "    </tr>\n",
       "  </thead>\n",
       "  <tbody>\n",
       "    <tr>\n",
       "      <th>0</th>\n",
       "      <td>T1</td>\n",
       "      <td>C5841053</td>\n",
       "      <td>10/1/94</td>\n",
       "      <td>F</td>\n",
       "      <td>JAMSHEDPUR</td>\n",
       "      <td>17819.05</td>\n",
       "      <td>2/8/16</td>\n",
       "      <td>143207</td>\n",
       "      <td>25.0</td>\n",
       "    </tr>\n",
       "    <tr>\n",
       "      <th>1</th>\n",
       "      <td>T2</td>\n",
       "      <td>C2142763</td>\n",
       "      <td>4/4/57</td>\n",
       "      <td>M</td>\n",
       "      <td>JHAJJAR</td>\n",
       "      <td>2270.69</td>\n",
       "      <td>2/8/16</td>\n",
       "      <td>141858</td>\n",
       "      <td>27999.0</td>\n",
       "    </tr>\n",
       "    <tr>\n",
       "      <th>2</th>\n",
       "      <td>T3</td>\n",
       "      <td>C4417068</td>\n",
       "      <td>26/11/96</td>\n",
       "      <td>F</td>\n",
       "      <td>MUMBAI</td>\n",
       "      <td>17874.44</td>\n",
       "      <td>2/8/16</td>\n",
       "      <td>142712</td>\n",
       "      <td>459.0</td>\n",
       "    </tr>\n",
       "    <tr>\n",
       "      <th>3</th>\n",
       "      <td>T4</td>\n",
       "      <td>C5342380</td>\n",
       "      <td>14/9/73</td>\n",
       "      <td>F</td>\n",
       "      <td>MUMBAI</td>\n",
       "      <td>866503.21</td>\n",
       "      <td>2/8/16</td>\n",
       "      <td>142714</td>\n",
       "      <td>2060.0</td>\n",
       "    </tr>\n",
       "    <tr>\n",
       "      <th>4</th>\n",
       "      <td>T5</td>\n",
       "      <td>C9031234</td>\n",
       "      <td>24/3/88</td>\n",
       "      <td>F</td>\n",
       "      <td>NAVI MUMBAI</td>\n",
       "      <td>6714.43</td>\n",
       "      <td>2/8/16</td>\n",
       "      <td>181156</td>\n",
       "      <td>1762.5</td>\n",
       "    </tr>\n",
       "  </tbody>\n",
       "</table>\n",
       "</div>"
      ],
      "text/plain": [
       "  TransactionID CustomerID CustomerDOB CustGender CustLocation  \\\n",
       "0            T1   C5841053     10/1/94          F   JAMSHEDPUR   \n",
       "1            T2   C2142763      4/4/57          M      JHAJJAR   \n",
       "2            T3   C4417068    26/11/96          F       MUMBAI   \n",
       "3            T4   C5342380     14/9/73          F       MUMBAI   \n",
       "4            T5   C9031234     24/3/88          F  NAVI MUMBAI   \n",
       "\n",
       "   CustAccountBalance TransactionDate  TransactionTime  \\\n",
       "0            17819.05          2/8/16           143207   \n",
       "1             2270.69          2/8/16           141858   \n",
       "2            17874.44          2/8/16           142712   \n",
       "3           866503.21          2/8/16           142714   \n",
       "4             6714.43          2/8/16           181156   \n",
       "\n",
       "   TransactionAmount (INR)  \n",
       "0                     25.0  \n",
       "1                  27999.0  \n",
       "2                    459.0  \n",
       "3                   2060.0  \n",
       "4                   1762.5  "
      ]
     },
     "execution_count": 3,
     "metadata": {},
     "output_type": "execute_result"
    }
   ],
   "source": [
    "data.head()"
   ]
  },
  {
   "cell_type": "code",
   "execution_count": 4,
   "id": "0c942361",
   "metadata": {},
   "outputs": [
    {
     "data": {
      "text/plain": [
       "(1048567, 9)"
      ]
     },
     "execution_count": 4,
     "metadata": {},
     "output_type": "execute_result"
    }
   ],
   "source": [
    "data.shape"
   ]
  },
  {
   "cell_type": "code",
   "execution_count": 5,
   "id": "5690ce2b",
   "metadata": {},
   "outputs": [
    {
     "name": "stdout",
     "output_type": "stream",
     "text": [
      "<class 'pandas.core.frame.DataFrame'>\n",
      "RangeIndex: 1048567 entries, 0 to 1048566\n",
      "Data columns (total 9 columns):\n",
      " #   Column                   Non-Null Count    Dtype  \n",
      "---  ------                   --------------    -----  \n",
      " 0   TransactionID            1048567 non-null  object \n",
      " 1   CustomerID               1048567 non-null  object \n",
      " 2   CustomerDOB              1045170 non-null  object \n",
      " 3   CustGender               1047467 non-null  object \n",
      " 4   CustLocation             1048416 non-null  object \n",
      " 5   CustAccountBalance       1046198 non-null  float64\n",
      " 6   TransactionDate          1048567 non-null  object \n",
      " 7   TransactionTime          1048567 non-null  int64  \n",
      " 8   TransactionAmount (INR)  1048567 non-null  float64\n",
      "dtypes: float64(2), int64(1), object(6)\n",
      "memory usage: 72.0+ MB\n"
     ]
    }
   ],
   "source": [
    "data.info()"
   ]
  },
  {
   "cell_type": "markdown",
   "id": "b3d8a82e",
   "metadata": {},
   "source": [
    "Our analysis will study the groups of clients which are similar among them. From the informations of the dataset we look that there are 1048567 transactions and 9 variables:\n",
    "\n",
    "1) TransactionID - number (ID) of the transaction (object)\n",
    "\n",
    "2) CustomerID - number (ID) of the costumer (object)\n",
    "\n",
    "3) CustomerDOB - customer date of birth (object)\n",
    "\n",
    "4) CustGender  - customer's gender (object)\n",
    "\n",
    "5) CustLocation - location - (object)\n",
    "\n",
    "6) CustAccountBalance - account balance (float64)\n",
    "\n",
    "7) TransactionDate - day of the transaction (object)\n",
    "\n",
    "8) TransactionTime - time of the transaction(int64)\n",
    "\n",
    "9) TransactionAmount (INR) - amount of the transaction in INR (float64) \n",
    "\n",
    "The first problem that we encounter is that the customerDOB and the transactionDate are not in the datetime form; also TransactionTime instead is just a number and we need to transform it in datetime."
   ]
  },
  {
   "cell_type": "markdown",
   "id": "520781d2",
   "metadata": {},
   "source": [
    "## Feature Engineering"
   ]
  },
  {
   "cell_type": "markdown",
   "id": "5a6d073b",
   "metadata": {},
   "source": [
    "#### Features: CustomerDOB, transactionDate, TransactionTime; transformation"
   ]
  },
  {
   "cell_type": "code",
   "execution_count": 6,
   "id": "788e4d77",
   "metadata": {},
   "outputs": [],
   "source": [
    "data.CustomerDOB = pd.to_datetime(data.CustomerDOB)\n",
    "data.TransactionDate = pd.to_datetime(data.TransactionDate)\n",
    "data.TransactionTime = data.TransactionTime.apply(lambda x: datetime.strptime(str(x).zfill(6), '%H%M%S'))"
   ]
  },
  {
   "cell_type": "code",
   "execution_count": 7,
   "id": "0ad84227",
   "metadata": {},
   "outputs": [
    {
     "name": "stdout",
     "output_type": "stream",
     "text": [
      "<class 'pandas.core.frame.DataFrame'>\n",
      "RangeIndex: 1048567 entries, 0 to 1048566\n",
      "Data columns (total 9 columns):\n",
      " #   Column                   Non-Null Count    Dtype         \n",
      "---  ------                   --------------    -----         \n",
      " 0   TransactionID            1048567 non-null  object        \n",
      " 1   CustomerID               1048567 non-null  object        \n",
      " 2   CustomerDOB              1045170 non-null  datetime64[ns]\n",
      " 3   CustGender               1047467 non-null  object        \n",
      " 4   CustLocation             1048416 non-null  object        \n",
      " 5   CustAccountBalance       1046198 non-null  float64       \n",
      " 6   TransactionDate          1048567 non-null  datetime64[ns]\n",
      " 7   TransactionTime          1048567 non-null  datetime64[ns]\n",
      " 8   TransactionAmount (INR)  1048567 non-null  float64       \n",
      "dtypes: datetime64[ns](3), float64(2), object(4)\n",
      "memory usage: 72.0+ MB\n"
     ]
    }
   ],
   "source": [
    "data.info()"
   ]
  },
  {
   "cell_type": "markdown",
   "id": "54cda642",
   "metadata": {},
   "source": [
    "Now that the 3 variables with problems in dtype are in the correct form let's have a look inside the data to see if the transformation create problems and if there are strange data."
   ]
  },
  {
   "cell_type": "code",
   "execution_count": 8,
   "id": "253f2f9f",
   "metadata": {},
   "outputs": [
    {
     "data": {
      "text/plain": [
       "<AxesSubplot:>"
      ]
     },
     "execution_count": 8,
     "metadata": {},
     "output_type": "execute_result"
    },
    {
     "data": {
      "image/png": "[encoded data removed]",
      "text/plain": [
       "<Figure size 432x288 with 1 Axes>"
      ]
     },
     "metadata": {
      "needs_background": "light"
     },
     "output_type": "display_data"
    }
   ],
   "source": [
    "data.CustomerDOB.dt.year.hist(bins=100, color = \"orange\")"
   ]
  },
  {
   "cell_type": "markdown",
   "id": "e9a33536",
   "metadata": {},
   "source": [
    "Looking into the histogram it's visible the majority of the distribution in the central block, in addition to this there is a block to the left that contain the customers' date of birth in the year 1800. This is obviously quite impossibile so we drop this data because probably they are NA values. The block to the right contain the customers' date of birth which fall around the year 2050. This happened because changing the dtype from object to datetime we collide in the millennium bag: the years in object are saved with just the last 2 numbers (for example 1950 is saved as 50), so the transformation creates problems because some dates will be saved as 1950 other in 2050. To solve this problem we subtract 100 to the years that come after the year 2005 (so after the end of the central block). Infact to open a bank account in India it's necessary to have at least 10 years, so there cannot be customers born after the year 2005."
   ]
  },
  {
   "cell_type": "code",
   "execution_count": 9,
   "id": "b3e5093b",
   "metadata": {},
   "outputs": [
    {
     "data": {
      "text/plain": [
       "<AxesSubplot:>"
      ]
     },
     "execution_count": 9,
     "metadata": {},
     "output_type": "execute_result"
    },
    {
     "data": {
      "image/png": "[encoded data removed]",
      "text/plain": [
       "<Figure size 432x288 with 1 Axes>"
      ]
     },
     "metadata": {
      "needs_background": "light"
     },
     "output_type": "display_data"
    }
   ],
   "source": [
    "data.loc[data.CustomerDOB.dt.year > 2005, \"CustomerDOB\"] = data.loc[data.CustomerDOB.dt.year > 2000, 'CustomerDOB'] - pd.DateOffset(years = 100)\n",
    "data.drop(data[data.CustomerDOB.dt.year == 1800].index, axis = 0, inplace = True)\n",
    "data.CustomerDOB.dt.year.hist(bins=100, color = \"red\")"
   ]
  },
  {
   "cell_type": "code",
   "execution_count": 10,
   "id": "c020ab72",
   "metadata": {},
   "outputs": [
    {
     "data": {
      "text/plain": [
       "0    1990.0\n",
       "Name: CustomerDOB, dtype: float64"
      ]
     },
     "execution_count": 10,
     "metadata": {},
     "output_type": "execute_result"
    }
   ],
   "source": [
    "data.CustomerDOB.dt.year.agg(lambda x: pd.Series.mode(x))"
   ]
  },
  {
   "cell_type": "markdown",
   "id": "43a094c7",
   "metadata": {},
   "source": [
    "Now it's visible in the histogram the right distribution of the customers' date of birth, with a peak of 72789 birthdays in 1990."
   ]
  },
  {
   "cell_type": "code",
   "execution_count": 11,
   "id": "eddbf899",
   "metadata": {},
   "outputs": [
    {
     "data": {
      "text/plain": [
       "1990.0    72789\n",
       "1991.0    71288\n",
       "1989.0    69238\n",
       "1992.0    66708\n",
       "1988.0    63004\n",
       "          ...  \n",
       "1920.0        2\n",
       "1911.0        2\n",
       "1916.0        2\n",
       "1925.0        1\n",
       "1918.0        1\n",
       "Name: CustomerDOB, Length: 99, dtype: int64"
      ]
     },
     "execution_count": 11,
     "metadata": {},
     "output_type": "execute_result"
    }
   ],
   "source": [
    "data.CustomerDOB.dt.year.value_counts()"
   ]
  },
  {
   "cell_type": "markdown",
   "id": "16a807b1",
   "metadata": {},
   "source": [
    "#### NA values"
   ]
  },
  {
   "cell_type": "markdown",
   "id": "af3885cd",
   "metadata": {},
   "source": [
    "Let's have a look if in the dataset there are some missing values or some false values that need to be drop."
   ]
  },
  {
   "cell_type": "code",
   "execution_count": 12,
   "id": "e1b7391f",
   "metadata": {},
   "outputs": [
    {
     "data": {
      "text/plain": [
       "TransactionID                 0\n",
       "CustomerID                    0\n",
       "CustomerDOB                3397\n",
       "CustGender                  227\n",
       "CustLocation                151\n",
       "CustAccountBalance         2195\n",
       "TransactionDate               0\n",
       "TransactionTime               0\n",
       "TransactionAmount (INR)       0\n",
       "dtype: int64"
      ]
     },
     "execution_count": 12,
     "metadata": {},
     "output_type": "execute_result"
    }
   ],
   "source": [
    "data.isna().sum()"
   ]
  },
  {
   "cell_type": "markdown",
   "id": "4b88b9b7",
   "metadata": {},
   "source": [
    "The number of values that is NA concerns 4 variables (customerDOB, custGender, custLocation, CustAccountBalance), anyway their number is very small compare to the amount of data that we own (1048567 transactions) so we delete this data."
   ]
  },
  {
   "cell_type": "code",
   "execution_count": 13,
   "id": "c086fe65",
   "metadata": {},
   "outputs": [],
   "source": [
    "data.dropna(inplace = True)"
   ]
  },
  {
   "cell_type": "code",
   "execution_count": 14,
   "id": "5447371a",
   "metadata": {},
   "outputs": [
    {
     "data": {
      "text/plain": [
       "TransactionID              0\n",
       "CustomerID                 0\n",
       "CustomerDOB                0\n",
       "CustGender                 0\n",
       "CustLocation               0\n",
       "CustAccountBalance         0\n",
       "TransactionDate            0\n",
       "TransactionTime            0\n",
       "TransactionAmount (INR)    0\n",
       "dtype: int64"
      ]
     },
     "execution_count": 14,
     "metadata": {},
     "output_type": "execute_result"
    }
   ],
   "source": [
    "data.isna().sum()"
   ]
  },
  {
   "cell_type": "markdown",
   "id": "5e2fce43",
   "metadata": {},
   "source": [
    "#### CustGender"
   ]
  },
  {
   "cell_type": "code",
   "execution_count": 15,
   "id": "ab9ee362",
   "metadata": {},
   "outputs": [
    {
     "data": {
      "text/plain": [
       "M    712454\n",
       "F    272868\n",
       "Name: CustGender, dtype: int64"
      ]
     },
     "execution_count": 15,
     "metadata": {},
     "output_type": "execute_result"
    }
   ],
   "source": [
    "data['CustGender'].value_counts()"
   ]
  },
  {
   "cell_type": "markdown",
   "id": "5d106ebf",
   "metadata": {},
   "source": [
    "the Customer's gender can be Male or Female."
   ]
  },
  {
   "cell_type": "markdown",
   "id": "254c2cd6",
   "metadata": {},
   "source": [
    "#### TransactionAmount (INR)"
   ]
  },
  {
   "cell_type": "markdown",
   "id": "b970db64",
   "metadata": {},
   "source": [
    "To semplify the code we change the column name of the variable \"TransactionAmount (INR)\" in \"TransactionAmount\"."
   ]
  },
  {
   "cell_type": "code",
   "execution_count": 16,
   "id": "cb68e09a",
   "metadata": {},
   "outputs": [],
   "source": [
    "data.rename(columns = {'TransactionAmount (INR)':'TransactionAmount'}, inplace = True)"
   ]
  },
  {
   "cell_type": "markdown",
   "id": "b26b908d",
   "metadata": {},
   "source": [
    "#### Duplicated"
   ]
  },
  {
   "cell_type": "code",
   "execution_count": 17,
   "id": "b44f5311",
   "metadata": {},
   "outputs": [
    {
     "data": {
      "text/html": [
       "<div>\n",
       "<style scoped>\n",
       "    .dataframe tbody tr th:only-of-type {\n",
       "        vertical-align: middle;\n",
       "    }\n",
       "\n",
       "    .dataframe tbody tr th {\n",
       "        vertical-align: top;\n",
       "    }\n",
       "\n",
       "    .dataframe thead th {\n",
       "        text-align: right;\n",
       "    }\n",
       "</style>\n",
       "<table border=\"1\" class=\"dataframe\">\n",
       "  <thead>\n",
       "    <tr style=\"text-align: right;\">\n",
       "      <th></th>\n",
       "      <th>TransactionID</th>\n",
       "      <th>CustomerID</th>\n",
       "      <th>CustomerDOB</th>\n",
       "      <th>CustGender</th>\n",
       "      <th>CustLocation</th>\n",
       "      <th>CustAccountBalance</th>\n",
       "      <th>TransactionDate</th>\n",
       "      <th>TransactionTime</th>\n",
       "      <th>TransactionAmount</th>\n",
       "    </tr>\n",
       "  </thead>\n",
       "  <tbody>\n",
       "  </tbody>\n",
       "</table>\n",
       "</div>"
      ],
      "text/plain": [
       "Empty DataFrame\n",
       "Columns: [TransactionID, CustomerID, CustomerDOB, CustGender, CustLocation, CustAccountBalance, TransactionDate, TransactionTime, TransactionAmount]\n",
       "Index: []"
      ]
     },
     "execution_count": 17,
     "metadata": {},
     "output_type": "execute_result"
    }
   ],
   "source": [
    "data[data.duplicated()]"
   ]
  },
  {
   "cell_type": "markdown",
   "id": "4ee14733",
   "metadata": {},
   "source": [
    "There are no duplicated data, so it's possible to say that the dataset is clean."
   ]
  },
  {
   "cell_type": "code",
   "execution_count": 18,
   "id": "207a7484",
   "metadata": {},
   "outputs": [
    {
     "data": {
      "text/plain": [
       "(985322, 9)"
      ]
     },
     "execution_count": 18,
     "metadata": {},
     "output_type": "execute_result"
    }
   ],
   "source": [
    "data.shape"
   ]
  },
  {
   "cell_type": "markdown",
   "id": "8d54eeb2",
   "metadata": {},
   "source": [
    "The number of transactions now are in total 991228 with 9 variables."
   ]
  },
  {
   "cell_type": "markdown",
   "id": "41ab3e67",
   "metadata": {},
   "source": [
    "## EDA: Exploratory data analysis"
   ]
  },
  {
   "cell_type": "code",
   "execution_count": 19,
   "id": "b8fd487c",
   "metadata": {},
   "outputs": [
    {
     "data": {
      "text/html": [
       "<div>\n",
       "<style scoped>\n",
       "    .dataframe tbody tr th:only-of-type {\n",
       "        vertical-align: middle;\n",
       "    }\n",
       "\n",
       "    .dataframe tbody tr th {\n",
       "        vertical-align: top;\n",
       "    }\n",
       "\n",
       "    .dataframe thead th {\n",
       "        text-align: right;\n",
       "    }\n",
       "</style>\n",
       "<table border=\"1\" class=\"dataframe\">\n",
       "  <thead>\n",
       "    <tr style=\"text-align: right;\">\n",
       "      <th></th>\n",
       "      <th>CustAccountBalance</th>\n",
       "      <th>TransactionAmount</th>\n",
       "    </tr>\n",
       "  </thead>\n",
       "  <tbody>\n",
       "    <tr>\n",
       "      <th>count</th>\n",
       "      <td>985322.0</td>\n",
       "      <td>985322.0</td>\n",
       "    </tr>\n",
       "    <tr>\n",
       "      <th>mean</th>\n",
       "      <td>106061.2</td>\n",
       "      <td>1452.4</td>\n",
       "    </tr>\n",
       "    <tr>\n",
       "      <th>std</th>\n",
       "      <td>817905.4</td>\n",
       "      <td>6139.8</td>\n",
       "    </tr>\n",
       "    <tr>\n",
       "      <th>min</th>\n",
       "      <td>0.0</td>\n",
       "      <td>0.0</td>\n",
       "    </tr>\n",
       "    <tr>\n",
       "      <th>25%</th>\n",
       "      <td>4582.1</td>\n",
       "      <td>151.0</td>\n",
       "    </tr>\n",
       "    <tr>\n",
       "      <th>50%</th>\n",
       "      <td>16006.3</td>\n",
       "      <td>431.0</td>\n",
       "    </tr>\n",
       "    <tr>\n",
       "      <th>75%</th>\n",
       "      <td>53759.1</td>\n",
       "      <td>1125.0</td>\n",
       "    </tr>\n",
       "    <tr>\n",
       "      <th>max</th>\n",
       "      <td>115035495.1</td>\n",
       "      <td>1560035.0</td>\n",
       "    </tr>\n",
       "  </tbody>\n",
       "</table>\n",
       "</div>"
      ],
      "text/plain": [
       "       CustAccountBalance  TransactionAmount\n",
       "count            985322.0           985322.0\n",
       "mean             106061.2             1452.4\n",
       "std              817905.4             6139.8\n",
       "min                   0.0                0.0\n",
       "25%                4582.1              151.0\n",
       "50%               16006.3              431.0\n",
       "75%               53759.1             1125.0\n",
       "max           115035495.1          1560035.0"
      ]
     },
     "execution_count": 19,
     "metadata": {},
     "output_type": "execute_result"
    }
   ],
   "source": [
    "round(data.describe(),1)"
   ]
  },
  {
   "cell_type": "markdown",
   "id": "7e9bc4fe",
   "metadata": {},
   "source": [
    "#### DA FARE EDA"
   ]
  },
  {
   "cell_type": "markdown",
   "id": "e92186a8",
   "metadata": {},
   "source": [
    "## 2.1.2: FEATURE ENGINEERING"
   ]
  },
  {
   "cell_type": "markdown",
   "id": "16d12b7c",
   "metadata": {},
   "source": [
    "To begin the Feature Engineering we create a new dataset where to put all the new variables created considering the clients."
   ]
  },
  {
   "cell_type": "code",
   "execution_count": 20,
   "id": "5649b087",
   "metadata": {},
   "outputs": [],
   "source": [
    "clients = pd.DataFrame()"
   ]
  },
  {
   "cell_type": "markdown",
   "id": "9218ed6d",
   "metadata": {},
   "source": [
    "It's time now to create the variables:\n",
    "\n",
    "a) Number of transactions:"
   ]
  },
  {
   "cell_type": "code",
   "execution_count": 21,
   "id": "eecd1f69",
   "metadata": {},
   "outputs": [],
   "source": [
    "numero_transazioni = data.groupby(['CustomerID'])[\"TransactionID\"].count()\n",
    "clients[\"Num_transaction\"]=numero_transazioni"
   ]
  },
  {
   "cell_type": "markdown",
   "id": "fa89b077",
   "metadata": {},
   "source": [
    "b) Number of transactions with a balance bigger than 100 USD:"
   ]
  },
  {
   "cell_type": "code",
   "execution_count": 22,
   "id": "a86561de",
   "metadata": {},
   "outputs": [],
   "source": [
    "data.loc[data.TransactionAmount <= 100, 'Transaction>100'] = 0\n",
    "data.loc[data.TransactionAmount > 100, 'Transaction>100'] = 1\n",
    "clients[\"Transaction>100\"] = data.groupby('CustomerID')['Transaction>100'].sum()"
   ]
  },
  {
   "cell_type": "markdown",
   "id": "be51c388",
   "metadata": {},
   "source": [
    "c) Average amount of the transactions:"
   ]
  },
  {
   "cell_type": "code",
   "execution_count": 23,
   "id": "068f8dbd",
   "metadata": {},
   "outputs": [],
   "source": [
    "clients[\"Average_transaction\"]= data.groupby('CustomerID')['TransactionAmount'].mean()"
   ]
  },
  {
   "cell_type": "markdown",
   "id": "76e65d0d",
   "metadata": {},
   "source": [
    "d) Average balance:"
   ]
  },
  {
   "cell_type": "code",
   "execution_count": 24,
   "id": "b66c2098",
   "metadata": {},
   "outputs": [],
   "source": [
    "clients[\"Average_balance\"]= data.groupby('CustomerID')['CustAccountBalance'].mean()"
   ]
  },
  {
   "cell_type": "markdown",
   "id": "4e4324d1",
   "metadata": {},
   "source": [
    "e) Utilisation (Average difference between the balance and the transaction amount for each customer):"
   ]
  },
  {
   "cell_type": "code",
   "execution_count": 25,
   "id": "67d5795f",
   "metadata": {},
   "outputs": [],
   "source": [
    "data[\"difference\"]= data['CustAccountBalance']-data['TransactionAmount']\n",
    "clients[\"Utilisation\"]= data.groupby('CustomerID')['difference'].mean()"
   ]
  },
  {
   "cell_type": "markdown",
   "id": "ca45b6ec",
   "metadata": {},
   "source": [
    "f) Most common gender of the customer:"
   ]
  },
  {
   "cell_type": "code",
   "execution_count": 26,
   "id": "da22c6dd",
   "metadata": {},
   "outputs": [],
   "source": [
    "data.loc[data.CustGender == \"M\", 'GenderNum'] = 0\n",
    "data.loc[data.CustGender == \"F\", 'GenderNum'] = 1\n",
    "clients[\"GenderNum\"]= data.groupby('CustomerID')['GenderNum'].sum()\n",
    "clients.loc[clients.GenderNum > clients.Num_transaction/2, 'Gender'] = \"F\"\n",
    "clients.loc[clients.GenderNum < clients.Num_transaction/2, 'Gender'] = \"M\"\n",
    "clients.loc[clients.GenderNum == clients.Num_transaction/2, 'Gender'] = random.choice([\"M\", \"F\"])\n",
    "clients.drop('GenderNum', inplace=True, axis=1)\n",
    "data.drop('GenderNum', inplace=True, axis=1)"
   ]
  },
  {
   "cell_type": "markdown",
   "id": "7b52c8bd",
   "metadata": {},
   "source": [
    "h) Most frequent location of the customer:"
   ]
  },
  {
   "cell_type": "code",
   "execution_count": 27,
   "id": "88ef4990",
   "metadata": {},
   "outputs": [],
   "source": [
    "location = data.groupby(['CustomerID'])['CustLocation'].agg(pd.Series.mode)"
   ]
  },
  {
   "cell_type": "code",
   "execution_count": 28,
   "id": "e75082bc",
   "metadata": {},
   "outputs": [],
   "source": [
    "lista=[]\n",
    "for i in location.index:\n",
    "    if type(location.loc[i]) == str:\n",
    "        lista.append(location[i])\n",
    "    else:\n",
    "        lista.append(location[i][0])\n",
    "        "
   ]
  },
  {
   "cell_type": "code",
   "execution_count": 29,
   "id": "52598de1",
   "metadata": {},
   "outputs": [],
   "source": [
    "clients[\"Location\"]=lista"
   ]
  },
  {
   "cell_type": "markdown",
   "id": "15db1bd7",
   "metadata": {},
   "source": [
    "## 2.1.3: NEW FEATURES"
   ]
  },
  {
   "cell_type": "markdown",
   "id": "c0494ffd",
   "metadata": {},
   "source": [
    "1) Max transaction:"
   ]
  },
  {
   "cell_type": "code",
   "execution_count": 30,
   "id": "40e085e3",
   "metadata": {},
   "outputs": [],
   "source": [
    "clients[\"Max_transaction\"]= data.groupby('CustomerID')['TransactionAmount'].max()"
   ]
  },
  {
   "cell_type": "markdown",
   "id": "519649de",
   "metadata": {},
   "source": [
    "2) Min_transaction:"
   ]
  },
  {
   "cell_type": "code",
   "execution_count": 31,
   "id": "bf706796",
   "metadata": {},
   "outputs": [],
   "source": [
    "clients[\"Min_transaction\"]= data.groupby('CustomerID')['TransactionAmount'].min()"
   ]
  },
  {
   "cell_type": "markdown",
   "id": "7c473392",
   "metadata": {},
   "source": [
    "3) Max_balance:"
   ]
  },
  {
   "cell_type": "code",
   "execution_count": 32,
   "id": "b9569419",
   "metadata": {},
   "outputs": [],
   "source": [
    "clients[\"Max_balance\"]= data.groupby('CustomerID')['CustAccountBalance'].max()"
   ]
  },
  {
   "cell_type": "markdown",
   "id": "5dc1f247",
   "metadata": {},
   "source": [
    "4) Min_balance:"
   ]
  },
  {
   "cell_type": "code",
   "execution_count": 33,
   "id": "6b7e39c0",
   "metadata": {},
   "outputs": [],
   "source": [
    "clients[\"Min_balance\"]= data.groupby('CustomerID')['CustAccountBalance'].min()"
   ]
  },
  {
   "cell_type": "markdown",
   "id": "ba823b03",
   "metadata": {},
   "source": [
    "5) Max_Utilisation:"
   ]
  },
  {
   "cell_type": "code",
   "execution_count": 34,
   "id": "b404ea0f",
   "metadata": {},
   "outputs": [],
   "source": [
    "clients[\"Max_Utilisation\"]= data.groupby('CustomerID')['difference'].max()"
   ]
  },
  {
   "cell_type": "markdown",
   "id": "7158b0f0",
   "metadata": {},
   "source": [
    "6) Min_Utilisation:"
   ]
  },
  {
   "cell_type": "code",
   "execution_count": 35,
   "id": "2b5783f0",
   "metadata": {},
   "outputs": [],
   "source": [
    "clients[\"Min_Utilisation\"]= data.groupby('CustomerID')['difference'].min()"
   ]
  },
  {
   "cell_type": "markdown",
   "id": "cf06c9ef",
   "metadata": {},
   "source": [
    "7) Balance>10000:"
   ]
  },
  {
   "cell_type": "code",
   "execution_count": 36,
   "id": "0842da50",
   "metadata": {},
   "outputs": [],
   "source": [
    "data.loc[data.CustAccountBalance <= 10000, 'Balance>10000'] = 0\n",
    "data.loc[data.CustAccountBalance > 10000, 'Balance>10000'] = 1\n",
    "clients[\"Balance>10000\"] = data.groupby('CustomerID')['Balance>10000'].sum()"
   ]
  },
  {
   "cell_type": "markdown",
   "id": "fb742e72",
   "metadata": {},
   "source": [
    "8) Utilisation<1000:"
   ]
  },
  {
   "cell_type": "code",
   "execution_count": 37,
   "id": "8062217e",
   "metadata": {},
   "outputs": [],
   "source": [
    "data.loc[data.difference < 1000, 'Utilisation>1000'] = 0\n",
    "data.loc[data.difference >= 1000, 'Utilisation<1000'] = 1\n",
    "clients[\"Utilisation<1000\"] = data.groupby('CustomerID')['Utilisation<1000'].sum()"
   ]
  },
  {
   "cell_type": "markdown",
   "id": "8845c0c0",
   "metadata": {},
   "source": [
    "9) Costumer age Max (in the year 2016, year to which the payment have been done. we are going to take the max value and so the oldest person for each bank account):"
   ]
  },
  {
   "cell_type": "code",
   "execution_count": 38,
   "id": "447b70dd",
   "metadata": {},
   "outputs": [],
   "source": [
    "data['CustomerAge'] = 2016 - data.CustomerDOB.dt.year\n",
    "clients[\"CustomerAge_max\"] = data.groupby('CustomerID')['CustomerAge'].max()"
   ]
  },
  {
   "cell_type": "markdown",
   "id": "76b832b0",
   "metadata": {},
   "source": [
    "10) Costumer age Min (in the year 2016, year to which the payment have been done. we are going to take the min value: the age of the youngest person of each bank account):"
   ]
  },
  {
   "cell_type": "code",
   "execution_count": 39,
   "id": "e61e24e7",
   "metadata": {},
   "outputs": [],
   "source": [
    "clients[\"CustomerAge_min\"] = data.groupby('CustomerID')['CustomerAge'].min()"
   ]
  },
  {
   "cell_type": "markdown",
   "id": "8573a93c",
   "metadata": {},
   "source": [
    "11) Total Transactions:"
   ]
  },
  {
   "cell_type": "code",
   "execution_count": 40,
   "id": "a80e7820",
   "metadata": {},
   "outputs": [],
   "source": [
    "clients[\"Total_transactions\"]= data.groupby('CustomerID')['TransactionAmount'].sum()"
   ]
  },
  {
   "cell_type": "markdown",
   "id": "119b55ed",
   "metadata": {},
   "source": [
    "12) Percentage of transaction > 100 on the total:"
   ]
  },
  {
   "cell_type": "code",
   "execution_count": 41,
   "id": "d80a658b",
   "metadata": {},
   "outputs": [],
   "source": [
    "clients[\"%transaction>100\"] = (clients[\"Transaction>100\"]/clients[\"Num_transaction\"]*100).round(2)"
   ]
  },
  {
   "cell_type": "markdown",
   "id": "fe4be52b",
   "metadata": {},
   "source": [
    "13) Percentage of Balance > 10000 on the total:"
   ]
  },
  {
   "cell_type": "code",
   "execution_count": 42,
   "id": "58fe15c5",
   "metadata": {},
   "outputs": [],
   "source": [
    "clients[\"%Balance>10000\"] = (clients[\"Balance>10000\"]/clients[\"Num_transaction\"]*100).round(2)"
   ]
  },
  {
   "cell_type": "markdown",
   "id": "1774249d",
   "metadata": {},
   "source": [
    "14) Percentage of Utilisation < 1000:"
   ]
  },
  {
   "cell_type": "code",
   "execution_count": 43,
   "id": "d42b1469",
   "metadata": {},
   "outputs": [],
   "source": [
    "clients[\"%Utilisation<1000\"] = (clients[\"Utilisation<1000\"]/clients[\"Num_transaction\"]*100).round(2)"
   ]
  },
  {
   "cell_type": "markdown",
   "id": "d90bc04d",
   "metadata": {},
   "source": [
    "15) Most common day for transactions:"
   ]
  },
  {
   "cell_type": "code",
   "execution_count": 44,
   "id": "3650a9bb",
   "metadata": {},
   "outputs": [],
   "source": [
    "data['Day'] = data.TransactionDate.dt.dayofweek"
   ]
  },
  {
   "cell_type": "code",
   "execution_count": 45,
   "id": "667d584a",
   "metadata": {},
   "outputs": [],
   "source": [
    "data.Day =  data.Day.astype(str)"
   ]
  },
  {
   "cell_type": "code",
   "execution_count": 46,
   "id": "1a92195f",
   "metadata": {},
   "outputs": [],
   "source": [
    "day = data.groupby(['CustomerID'])['Day'].agg(pd.Series.mode)"
   ]
  },
  {
   "cell_type": "code",
   "execution_count": 47,
   "id": "710bc876",
   "metadata": {},
   "outputs": [],
   "source": [
    "lista=[]\n",
    "for i in day.index:\n",
    "    if type(day.loc[i]) == str:\n",
    "        lista.append(day[i])\n",
    "    else:\n",
    "        lista.append(day[i][0])"
   ]
  },
  {
   "cell_type": "code",
   "execution_count": 48,
   "id": "3ad5de2b",
   "metadata": {},
   "outputs": [],
   "source": [
    "clients[\"Day\"] = lista"
   ]
  },
  {
   "cell_type": "markdown",
   "id": "3bd41f8c",
   "metadata": {},
   "source": [
    "16) most common month for transactions:"
   ]
  },
  {
   "cell_type": "code",
   "execution_count": 49,
   "id": "eb25f51e",
   "metadata": {},
   "outputs": [],
   "source": [
    "data['Month'] = data['TransactionDate'].dt.month"
   ]
  },
  {
   "cell_type": "code",
   "execution_count": 50,
   "id": "5033cc1f",
   "metadata": {},
   "outputs": [],
   "source": [
    "data.Month =  data.Month.astype(str)"
   ]
  },
  {
   "cell_type": "code",
   "execution_count": 51,
   "id": "dd8308de",
   "metadata": {},
   "outputs": [],
   "source": [
    "month = data.groupby(['CustomerID'])['Month'].agg(pd.Series.mode)"
   ]
  },
  {
   "cell_type": "code",
   "execution_count": 52,
   "id": "37989e59",
   "metadata": {},
   "outputs": [],
   "source": [
    "lista=[]\n",
    "for i in month.index:\n",
    "    if type(month.loc[i]) == str:\n",
    "        lista.append(month[i])\n",
    "    else:\n",
    "        lista.append(month[i][0])"
   ]
  },
  {
   "cell_type": "code",
   "execution_count": 53,
   "id": "96bcd4c2",
   "metadata": {},
   "outputs": [],
   "source": [
    "clients[\"Month\"] = lista"
   ]
  },
  {
   "cell_type": "markdown",
   "id": "4c0aa0cd",
   "metadata": {},
   "source": [
    "17) Time of the day with more transactions:"
   ]
  },
  {
   "cell_type": "code",
   "execution_count": 54,
   "id": "366a7ce1",
   "metadata": {},
   "outputs": [],
   "source": [
    "data['Hour'] = data['TransactionTime'].dt.hour"
   ]
  },
  {
   "cell_type": "code",
   "execution_count": 55,
   "id": "f46aa7eb",
   "metadata": {},
   "outputs": [],
   "source": [
    "data.Hour =  data.Hour.astype(str)"
   ]
  },
  {
   "cell_type": "code",
   "execution_count": 56,
   "id": "69b44c55",
   "metadata": {},
   "outputs": [],
   "source": [
    "hour = data.groupby(['CustomerID'])['Hour'].agg(pd.Series.mode)"
   ]
  },
  {
   "cell_type": "code",
   "execution_count": 57,
   "id": "693b2e52",
   "metadata": {},
   "outputs": [],
   "source": [
    "lista=[]\n",
    "for i in hour.index:\n",
    "    if type(hour.loc[i]) == str:\n",
    "        lista.append(hour[i])\n",
    "    else:\n",
    "        lista.append(hour[i][0])"
   ]
  },
  {
   "cell_type": "code",
   "execution_count": 58,
   "id": "f310bcf5",
   "metadata": {},
   "outputs": [],
   "source": [
    "clients[\"Hour\"] = lista"
   ]
  },
  {
   "cell_type": "markdown",
   "id": "f493fdef",
   "metadata": {},
   "source": [
    " 18) Minor make the transaction? (yes or no):"
   ]
  },
  {
   "cell_type": "code",
   "execution_count": 59,
   "id": "05f2a226",
   "metadata": {},
   "outputs": [],
   "source": [
    "clients.loc[clients.CustomerAge_min <18, 'Minor'] = \"Yes\"\n",
    "clients.loc[clients.CustomerAge_min >= 18, 'Minor'] = \"Not\""
   ]
  },
  {
   "cell_type": "markdown",
   "id": "9d381580",
   "metadata": {},
   "source": [
    "19) Time since the first and last transaction:"
   ]
  },
  {
   "cell_type": "code",
   "execution_count": 60,
   "id": "10cb5ab2",
   "metadata": {},
   "outputs": [],
   "source": [
    "data[\"time\"] = pd.to_datetime('today') - data.TransactionDate\n"
   ]
  },
  {
   "cell_type": "code",
   "execution_count": 61,
   "id": "d161fb6d",
   "metadata": {},
   "outputs": [],
   "source": [
    "clients[\"dist_minimum\"] = data.groupby('CustomerID')['time'].min()\n",
    "clients[\"dist_maximum\"] = data.groupby('CustomerID')['time'].max()\n",
    "clients[\"Time\"] = clients[\"dist_maximum\"] - clients[\"dist_minimum\"]\n",
    "clients.drop('dist_minimum', inplace=True, axis=1)\n",
    "clients.drop('dist_maximum', inplace=True, axis=1)"
   ]
  },
  {
   "cell_type": "markdown",
   "id": "c6a9185b",
   "metadata": {},
   "source": [
    "20) Rich Customer: Is the average_balance >10000 and the transaction been made in one of the ricchest city in India? (Mumbai, New Delhi, Delhi, )?:"
   ]
  },
  {
   "cell_type": "code",
   "execution_count": 75,
   "id": "45d88864",
   "metadata": {},
   "outputs": [],
   "source": [
    "clients.loc[(((clients.Location == \"MUMBAI\") | (clients.Location == \"NEW DELHI\") | (clients.Location == \"DELHI\")) & (clients[\"Average_balance\"]>10000)), 'RichCustomer'] = \"Yes\"\n",
    "clients.loc[((((clients.Location == \"MUMBAI\") | (clients.Location == \"NEW DELHI\") | (clients.Location == \"DELHI\")) & (clients[\"Average_balance\"]<= 10000)) | ((clients.Location != \"MUMBAI\") & (clients.Location != \"NEW DELHI\") & (clients.Location != \"DELHI\"))), 'RichCustomer'] = \"No\""
   ]
  },
  {
   "cell_type": "code",
   "execution_count": 77,
   "id": "85a83bdc",
   "metadata": {},
   "outputs": [
    {
     "data": {
      "text/html": [
       "<div>\n",
       "<style scoped>\n",
       "    .dataframe tbody tr th:only-of-type {\n",
       "        vertical-align: middle;\n",
       "    }\n",
       "\n",
       "    .dataframe tbody tr th {\n",
       "        vertical-align: top;\n",
       "    }\n",
       "\n",
       "    .dataframe thead th {\n",
       "        text-align: right;\n",
       "    }\n",
       "</style>\n",
       "<table border=\"1\" class=\"dataframe\">\n",
       "  <thead>\n",
       "    <tr style=\"text-align: right;\">\n",
       "      <th></th>\n",
       "      <th>Num_transaction</th>\n",
       "      <th>Transaction&gt;100</th>\n",
       "      <th>Average_transaction</th>\n",
       "      <th>Average_balance</th>\n",
       "      <th>Utilisation</th>\n",
       "      <th>Gender</th>\n",
       "      <th>Location</th>\n",
       "      <th>Max_transaction</th>\n",
       "      <th>Min_transaction</th>\n",
       "      <th>Max_balance</th>\n",
       "      <th>...</th>\n",
       "      <th>Total_transactions</th>\n",
       "      <th>%transaction&gt;100</th>\n",
       "      <th>%Balance&gt;10000</th>\n",
       "      <th>%Utilisation&lt;1000</th>\n",
       "      <th>Day</th>\n",
       "      <th>Month</th>\n",
       "      <th>Hour</th>\n",
       "      <th>Minor</th>\n",
       "      <th>Time</th>\n",
       "      <th>RichCustomer</th>\n",
       "    </tr>\n",
       "    <tr>\n",
       "      <th>CustomerID</th>\n",
       "      <th></th>\n",
       "      <th></th>\n",
       "      <th></th>\n",
       "      <th></th>\n",
       "      <th></th>\n",
       "      <th></th>\n",
       "      <th></th>\n",
       "      <th></th>\n",
       "      <th></th>\n",
       "      <th></th>\n",
       "      <th></th>\n",
       "      <th></th>\n",
       "      <th></th>\n",
       "      <th></th>\n",
       "      <th></th>\n",
       "      <th></th>\n",
       "      <th></th>\n",
       "      <th></th>\n",
       "      <th></th>\n",
       "      <th></th>\n",
       "      <th></th>\n",
       "    </tr>\n",
       "  </thead>\n",
       "  <tbody>\n",
       "    <tr>\n",
       "      <th>C1010011</th>\n",
       "      <td>2</td>\n",
       "      <td>2.0</td>\n",
       "      <td>2553.0</td>\n",
       "      <td>76340.635</td>\n",
       "      <td>73787.635</td>\n",
       "      <td>M</td>\n",
       "      <td>NEW DELHI</td>\n",
       "      <td>4750.0</td>\n",
       "      <td>356.0</td>\n",
       "      <td>120180.54</td>\n",
       "      <td>...</td>\n",
       "      <td>5106.0</td>\n",
       "      <td>100.0</td>\n",
       "      <td>100.0</td>\n",
       "      <td>100.0</td>\n",
       "      <td>0</td>\n",
       "      <td>9</td>\n",
       "      <td>1</td>\n",
       "      <td>Not</td>\n",
       "      <td>18 days</td>\n",
       "      <td>Yes</td>\n",
       "    </tr>\n",
       "    <tr>\n",
       "      <th>C1010012</th>\n",
       "      <td>1</td>\n",
       "      <td>1.0</td>\n",
       "      <td>1499.0</td>\n",
       "      <td>24204.490</td>\n",
       "      <td>22705.490</td>\n",
       "      <td>M</td>\n",
       "      <td>MUMBAI</td>\n",
       "      <td>1499.0</td>\n",
       "      <td>1499.0</td>\n",
       "      <td>24204.49</td>\n",
       "      <td>...</td>\n",
       "      <td>1499.0</td>\n",
       "      <td>100.0</td>\n",
       "      <td>100.0</td>\n",
       "      <td>100.0</td>\n",
       "      <td>6</td>\n",
       "      <td>8</td>\n",
       "      <td>20</td>\n",
       "      <td>Not</td>\n",
       "      <td>0 days</td>\n",
       "      <td>Yes</td>\n",
       "    </tr>\n",
       "    <tr>\n",
       "      <th>C1010014</th>\n",
       "      <td>2</td>\n",
       "      <td>2.0</td>\n",
       "      <td>727.5</td>\n",
       "      <td>100112.950</td>\n",
       "      <td>99385.450</td>\n",
       "      <td>M</td>\n",
       "      <td>MUMBAI</td>\n",
       "      <td>1205.0</td>\n",
       "      <td>250.0</td>\n",
       "      <td>161848.76</td>\n",
       "      <td>...</td>\n",
       "      <td>1455.0</td>\n",
       "      <td>100.0</td>\n",
       "      <td>100.0</td>\n",
       "      <td>100.0</td>\n",
       "      <td>4</td>\n",
       "      <td>1</td>\n",
       "      <td>15</td>\n",
       "      <td>Not</td>\n",
       "      <td>182 days</td>\n",
       "      <td>Yes</td>\n",
       "    </tr>\n",
       "    <tr>\n",
       "      <th>C1010018</th>\n",
       "      <td>1</td>\n",
       "      <td>0.0</td>\n",
       "      <td>30.0</td>\n",
       "      <td>496.180</td>\n",
       "      <td>466.180</td>\n",
       "      <td>F</td>\n",
       "      <td>CHAMPARAN</td>\n",
       "      <td>30.0</td>\n",
       "      <td>30.0</td>\n",
       "      <td>496.18</td>\n",
       "      <td>...</td>\n",
       "      <td>30.0</td>\n",
       "      <td>0.0</td>\n",
       "      <td>0.0</td>\n",
       "      <td>0.0</td>\n",
       "      <td>3</td>\n",
       "      <td>9</td>\n",
       "      <td>17</td>\n",
       "      <td>Not</td>\n",
       "      <td>0 days</td>\n",
       "      <td>No</td>\n",
       "    </tr>\n",
       "    <tr>\n",
       "      <th>C1010024</th>\n",
       "      <td>1</td>\n",
       "      <td>1.0</td>\n",
       "      <td>5000.0</td>\n",
       "      <td>87058.650</td>\n",
       "      <td>82058.650</td>\n",
       "      <td>M</td>\n",
       "      <td>KOLKATA</td>\n",
       "      <td>5000.0</td>\n",
       "      <td>5000.0</td>\n",
       "      <td>87058.65</td>\n",
       "      <td>...</td>\n",
       "      <td>5000.0</td>\n",
       "      <td>100.0</td>\n",
       "      <td>100.0</td>\n",
       "      <td>100.0</td>\n",
       "      <td>3</td>\n",
       "      <td>8</td>\n",
       "      <td>14</td>\n",
       "      <td>Not</td>\n",
       "      <td>0 days</td>\n",
       "      <td>No</td>\n",
       "    </tr>\n",
       "  </tbody>\n",
       "</table>\n",
       "<p>5 rows × 27 columns</p>\n",
       "</div>"
      ],
      "text/plain": [
       "            Num_transaction  Transaction>100  Average_transaction  \\\n",
       "CustomerID                                                          \n",
       "C1010011                  2              2.0               2553.0   \n",
       "C1010012                  1              1.0               1499.0   \n",
       "C1010014                  2              2.0                727.5   \n",
       "C1010018                  1              0.0                 30.0   \n",
       "C1010024                  1              1.0               5000.0   \n",
       "\n",
       "            Average_balance  Utilisation Gender   Location  Max_transaction  \\\n",
       "CustomerID                                                                    \n",
       "C1010011          76340.635    73787.635      M  NEW DELHI           4750.0   \n",
       "C1010012          24204.490    22705.490      M     MUMBAI           1499.0   \n",
       "C1010014         100112.950    99385.450      M     MUMBAI           1205.0   \n",
       "C1010018            496.180      466.180      F  CHAMPARAN             30.0   \n",
       "C1010024          87058.650    82058.650      M    KOLKATA           5000.0   \n",
       "\n",
       "            Min_transaction  Max_balance  ...  Total_transactions  \\\n",
       "CustomerID                                ...                       \n",
       "C1010011              356.0    120180.54  ...              5106.0   \n",
       "C1010012             1499.0     24204.49  ...              1499.0   \n",
       "C1010014              250.0    161848.76  ...              1455.0   \n",
       "C1010018               30.0       496.18  ...                30.0   \n",
       "C1010024             5000.0     87058.65  ...              5000.0   \n",
       "\n",
       "            %transaction>100  %Balance>10000  %Utilisation<1000  Day  Month  \\\n",
       "CustomerID                                                                    \n",
       "C1010011               100.0           100.0              100.0    0      9   \n",
       "C1010012               100.0           100.0              100.0    6      8   \n",
       "C1010014               100.0           100.0              100.0    4      1   \n",
       "C1010018                 0.0             0.0                0.0    3      9   \n",
       "C1010024               100.0           100.0              100.0    3      8   \n",
       "\n",
       "            Hour  Minor     Time  RichCustomer  \n",
       "CustomerID                                      \n",
       "C1010011       1    Not  18 days           Yes  \n",
       "C1010012      20    Not   0 days           Yes  \n",
       "C1010014      15    Not 182 days           Yes  \n",
       "C1010018      17    Not   0 days            No  \n",
       "C1010024      14    Not   0 days            No  \n",
       "\n",
       "[5 rows x 27 columns]"
      ]
     },
     "execution_count": 77,
     "metadata": {},
     "output_type": "execute_result"
    }
   ],
   "source": [
    "clients.head()"
   ]
  },
  {
   "cell_type": "markdown",
   "id": "28afdca3",
   "metadata": {},
   "source": [
    "#### Let's save the dataset!"
   ]
  },
  {
   "cell_type": "code",
   "execution_count": 64,
   "id": "dd000dcf",
   "metadata": {},
   "outputs": [],
   "source": [
    "clients.to_pickle(\"bank.pkl\")"
   ]
  },
  {
   "cell_type": "markdown",
   "id": "b710377e",
   "metadata": {},
   "source": [
    "## 2.2 Choose your features (variables)!"
   ]
  },
  {
   "cell_type": "markdown",
   "id": "6a0e5459",
   "metadata": {},
   "source": [
    "#### Normalization"
   ]
  },
  {
   "cell_type": "code",
   "execution_count": 65,
   "id": "ad80bfe7",
   "metadata": {},
   "outputs": [],
   "source": [
    "clients = pd.read_pickle(\"bank.pkl\")"
   ]
  },
  {
   "cell_type": "code",
   "execution_count": 66,
   "id": "911f3901",
   "metadata": {},
   "outputs": [
    {
     "name": "stdout",
     "output_type": "stream",
     "text": [
      "<class 'pandas.core.frame.DataFrame'>\n",
      "Index: 839081 entries, C1010011 to C9099956\n",
      "Data columns (total 27 columns):\n",
      " #   Column               Non-Null Count   Dtype          \n",
      "---  ------               --------------   -----          \n",
      " 0   Num_transaction      839081 non-null  int64          \n",
      " 1   Transaction>100      839081 non-null  float64        \n",
      " 2   Average_transaction  839081 non-null  float64        \n",
      " 3   Average_balance      839081 non-null  float64        \n",
      " 4   Utilisation          839081 non-null  float64        \n",
      " 5   Gender               839081 non-null  object         \n",
      " 6   Location             839081 non-null  object         \n",
      " 7   Max_transaction      839081 non-null  float64        \n",
      " 8   Min_transaction      839081 non-null  float64        \n",
      " 9   Max_balance          839081 non-null  float64        \n",
      " 10  Min_balance          839081 non-null  float64        \n",
      " 11  Max_Utilisation      839081 non-null  float64        \n",
      " 12  Min_Utilisation      839081 non-null  float64        \n",
      " 13  Balance>10000        839081 non-null  float64        \n",
      " 14  Utilisation<1000     839081 non-null  float64        \n",
      " 15  CustomerAge_max      839081 non-null  int64          \n",
      " 16  CustomerAge_min      839081 non-null  int64          \n",
      " 17  Total_transactions   839081 non-null  float64        \n",
      " 18  %transaction>100     839081 non-null  float64        \n",
      " 19  %Balance>10000       839081 non-null  float64        \n",
      " 20  %Utilisation<1000    839081 non-null  float64        \n",
      " 21  Day                  839081 non-null  object         \n",
      " 22  Month                839081 non-null  object         \n",
      " 23  Hour                 839081 non-null  object         \n",
      " 24  Minor                839081 non-null  object         \n",
      " 25  Time                 839081 non-null  timedelta64[ns]\n",
      " 26  RichCustomer         201429 non-null  object         \n",
      "dtypes: float64(16), int64(3), object(7), timedelta64[ns](1)\n",
      "memory usage: 179.2+ MB\n"
     ]
    }
   ],
   "source": [
    "clients.info()"
   ]
  },
  {
   "cell_type": "code",
   "execution_count": 67,
   "id": "3a113ded",
   "metadata": {},
   "outputs": [
    {
     "ename": "ValueError",
     "evalue": "could not convert string to float: 'M'",
     "output_type": "error",
     "traceback": [
      "\u001b[1;31m---------------------------------------------------------------------------\u001b[0m",
      "\u001b[1;31mValueError\u001b[0m                                Traceback (most recent call last)",
      "Input \u001b[1;32mIn [67]\u001b[0m, in \u001b[0;36m<cell line: 2>\u001b[1;34m()\u001b[0m\n\u001b[0;32m      1\u001b[0m scaler \u001b[38;5;241m=\u001b[39m preprocessing\u001b[38;5;241m.\u001b[39mMinMaxScaler()\n\u001b[1;32m----> 2\u001b[0m clients_norm \u001b[38;5;241m=\u001b[39m \u001b[43mscaler\u001b[49m\u001b[38;5;241;43m.\u001b[39;49m\u001b[43mfit_transform\u001b[49m\u001b[43m(\u001b[49m\u001b[43mclients\u001b[49m\u001b[43m)\u001b[49m\n",
      "File \u001b[1;32mD:\\anaconda\\lib\\site-packages\\sklearn\\base.py:852\u001b[0m, in \u001b[0;36mTransformerMixin.fit_transform\u001b[1;34m(self, X, y, **fit_params)\u001b[0m\n\u001b[0;32m    848\u001b[0m \u001b[38;5;66;03m# non-optimized default implementation; override when a better\u001b[39;00m\n\u001b[0;32m    849\u001b[0m \u001b[38;5;66;03m# method is possible for a given clustering algorithm\u001b[39;00m\n\u001b[0;32m    850\u001b[0m \u001b[38;5;28;01mif\u001b[39;00m y \u001b[38;5;129;01mis\u001b[39;00m \u001b[38;5;28;01mNone\u001b[39;00m:\n\u001b[0;32m    851\u001b[0m     \u001b[38;5;66;03m# fit method of arity 1 (unsupervised transformation)\u001b[39;00m\n\u001b[1;32m--> 852\u001b[0m     \u001b[38;5;28;01mreturn\u001b[39;00m \u001b[38;5;28mself\u001b[39m\u001b[38;5;241m.\u001b[39mfit(X, \u001b[38;5;241m*\u001b[39m\u001b[38;5;241m*\u001b[39mfit_params)\u001b[38;5;241m.\u001b[39mtransform(X)\n\u001b[0;32m    853\u001b[0m \u001b[38;5;28;01melse\u001b[39;00m:\n\u001b[0;32m    854\u001b[0m     \u001b[38;5;66;03m# fit method of arity 2 (supervised transformation)\u001b[39;00m\n\u001b[0;32m    855\u001b[0m     \u001b[38;5;28;01mreturn\u001b[39;00m \u001b[38;5;28mself\u001b[39m\u001b[38;5;241m.\u001b[39mfit(X, y, \u001b[38;5;241m*\u001b[39m\u001b[38;5;241m*\u001b[39mfit_params)\u001b[38;5;241m.\u001b[39mtransform(X)\n",
      "File \u001b[1;32mD:\\anaconda\\lib\\site-packages\\sklearn\\preprocessing\\_data.py:416\u001b[0m, in \u001b[0;36mMinMaxScaler.fit\u001b[1;34m(self, X, y)\u001b[0m\n\u001b[0;32m    414\u001b[0m \u001b[38;5;66;03m# Reset internal state before fitting\u001b[39;00m\n\u001b[0;32m    415\u001b[0m \u001b[38;5;28mself\u001b[39m\u001b[38;5;241m.\u001b[39m_reset()\n\u001b[1;32m--> 416\u001b[0m \u001b[38;5;28;01mreturn\u001b[39;00m \u001b[38;5;28;43mself\u001b[39;49m\u001b[38;5;241;43m.\u001b[39;49m\u001b[43mpartial_fit\u001b[49m\u001b[43m(\u001b[49m\u001b[43mX\u001b[49m\u001b[43m,\u001b[49m\u001b[43m \u001b[49m\u001b[43my\u001b[49m\u001b[43m)\u001b[49m\n",
      "File \u001b[1;32mD:\\anaconda\\lib\\site-packages\\sklearn\\preprocessing\\_data.py:453\u001b[0m, in \u001b[0;36mMinMaxScaler.partial_fit\u001b[1;34m(self, X, y)\u001b[0m\n\u001b[0;32m    447\u001b[0m     \u001b[38;5;28;01mraise\u001b[39;00m \u001b[38;5;167;01mTypeError\u001b[39;00m(\n\u001b[0;32m    448\u001b[0m         \u001b[38;5;124m\"\u001b[39m\u001b[38;5;124mMinMaxScaler does not support sparse input. \u001b[39m\u001b[38;5;124m\"\u001b[39m\n\u001b[0;32m    449\u001b[0m         \u001b[38;5;124m\"\u001b[39m\u001b[38;5;124mConsider using MaxAbsScaler instead.\u001b[39m\u001b[38;5;124m\"\u001b[39m\n\u001b[0;32m    450\u001b[0m     )\n\u001b[0;32m    452\u001b[0m first_pass \u001b[38;5;241m=\u001b[39m \u001b[38;5;129;01mnot\u001b[39;00m \u001b[38;5;28mhasattr\u001b[39m(\u001b[38;5;28mself\u001b[39m, \u001b[38;5;124m\"\u001b[39m\u001b[38;5;124mn_samples_seen_\u001b[39m\u001b[38;5;124m\"\u001b[39m)\n\u001b[1;32m--> 453\u001b[0m X \u001b[38;5;241m=\u001b[39m \u001b[38;5;28;43mself\u001b[39;49m\u001b[38;5;241;43m.\u001b[39;49m\u001b[43m_validate_data\u001b[49m\u001b[43m(\u001b[49m\n\u001b[0;32m    454\u001b[0m \u001b[43m    \u001b[49m\u001b[43mX\u001b[49m\u001b[43m,\u001b[49m\n\u001b[0;32m    455\u001b[0m \u001b[43m    \u001b[49m\u001b[43mreset\u001b[49m\u001b[38;5;241;43m=\u001b[39;49m\u001b[43mfirst_pass\u001b[49m\u001b[43m,\u001b[49m\n\u001b[0;32m    456\u001b[0m \u001b[43m    \u001b[49m\u001b[43mestimator\u001b[49m\u001b[38;5;241;43m=\u001b[39;49m\u001b[38;5;28;43mself\u001b[39;49m\u001b[43m,\u001b[49m\n\u001b[0;32m    457\u001b[0m \u001b[43m    \u001b[49m\u001b[43mdtype\u001b[49m\u001b[38;5;241;43m=\u001b[39;49m\u001b[43mFLOAT_DTYPES\u001b[49m\u001b[43m,\u001b[49m\n\u001b[0;32m    458\u001b[0m \u001b[43m    \u001b[49m\u001b[43mforce_all_finite\u001b[49m\u001b[38;5;241;43m=\u001b[39;49m\u001b[38;5;124;43m\"\u001b[39;49m\u001b[38;5;124;43mallow-nan\u001b[39;49m\u001b[38;5;124;43m\"\u001b[39;49m\u001b[43m,\u001b[49m\n\u001b[0;32m    459\u001b[0m \u001b[43m\u001b[49m\u001b[43m)\u001b[49m\n\u001b[0;32m    461\u001b[0m data_min \u001b[38;5;241m=\u001b[39m np\u001b[38;5;241m.\u001b[39mnanmin(X, axis\u001b[38;5;241m=\u001b[39m\u001b[38;5;241m0\u001b[39m)\n\u001b[0;32m    462\u001b[0m data_max \u001b[38;5;241m=\u001b[39m np\u001b[38;5;241m.\u001b[39mnanmax(X, axis\u001b[38;5;241m=\u001b[39m\u001b[38;5;241m0\u001b[39m)\n",
      "File \u001b[1;32mD:\\anaconda\\lib\\site-packages\\sklearn\\base.py:566\u001b[0m, in \u001b[0;36mBaseEstimator._validate_data\u001b[1;34m(self, X, y, reset, validate_separately, **check_params)\u001b[0m\n\u001b[0;32m    564\u001b[0m     \u001b[38;5;28;01mraise\u001b[39;00m \u001b[38;5;167;01mValueError\u001b[39;00m(\u001b[38;5;124m\"\u001b[39m\u001b[38;5;124mValidation should be done on X, y or both.\u001b[39m\u001b[38;5;124m\"\u001b[39m)\n\u001b[0;32m    565\u001b[0m \u001b[38;5;28;01melif\u001b[39;00m \u001b[38;5;129;01mnot\u001b[39;00m no_val_X \u001b[38;5;129;01mand\u001b[39;00m no_val_y:\n\u001b[1;32m--> 566\u001b[0m     X \u001b[38;5;241m=\u001b[39m check_array(X, \u001b[38;5;241m*\u001b[39m\u001b[38;5;241m*\u001b[39mcheck_params)\n\u001b[0;32m    567\u001b[0m     out \u001b[38;5;241m=\u001b[39m X\n\u001b[0;32m    568\u001b[0m \u001b[38;5;28;01melif\u001b[39;00m no_val_X \u001b[38;5;129;01mand\u001b[39;00m \u001b[38;5;129;01mnot\u001b[39;00m no_val_y:\n",
      "File \u001b[1;32mD:\\anaconda\\lib\\site-packages\\sklearn\\utils\\validation.py:746\u001b[0m, in \u001b[0;36mcheck_array\u001b[1;34m(array, accept_sparse, accept_large_sparse, dtype, order, copy, force_all_finite, ensure_2d, allow_nd, ensure_min_samples, ensure_min_features, estimator)\u001b[0m\n\u001b[0;32m    744\u001b[0m         array \u001b[38;5;241m=\u001b[39m array\u001b[38;5;241m.\u001b[39mastype(dtype, casting\u001b[38;5;241m=\u001b[39m\u001b[38;5;124m\"\u001b[39m\u001b[38;5;124munsafe\u001b[39m\u001b[38;5;124m\"\u001b[39m, copy\u001b[38;5;241m=\u001b[39m\u001b[38;5;28;01mFalse\u001b[39;00m)\n\u001b[0;32m    745\u001b[0m     \u001b[38;5;28;01melse\u001b[39;00m:\n\u001b[1;32m--> 746\u001b[0m         array \u001b[38;5;241m=\u001b[39m \u001b[43mnp\u001b[49m\u001b[38;5;241;43m.\u001b[39;49m\u001b[43masarray\u001b[49m\u001b[43m(\u001b[49m\u001b[43marray\u001b[49m\u001b[43m,\u001b[49m\u001b[43m \u001b[49m\u001b[43morder\u001b[49m\u001b[38;5;241;43m=\u001b[39;49m\u001b[43morder\u001b[49m\u001b[43m,\u001b[49m\u001b[43m \u001b[49m\u001b[43mdtype\u001b[49m\u001b[38;5;241;43m=\u001b[39;49m\u001b[43mdtype\u001b[49m\u001b[43m)\u001b[49m\n\u001b[0;32m    747\u001b[0m \u001b[38;5;28;01mexcept\u001b[39;00m ComplexWarning \u001b[38;5;28;01mas\u001b[39;00m complex_warning:\n\u001b[0;32m    748\u001b[0m     \u001b[38;5;28;01mraise\u001b[39;00m \u001b[38;5;167;01mValueError\u001b[39;00m(\n\u001b[0;32m    749\u001b[0m         \u001b[38;5;124m\"\u001b[39m\u001b[38;5;124mComplex data not supported\u001b[39m\u001b[38;5;130;01m\\n\u001b[39;00m\u001b[38;5;132;01m{}\u001b[39;00m\u001b[38;5;130;01m\\n\u001b[39;00m\u001b[38;5;124m\"\u001b[39m\u001b[38;5;241m.\u001b[39mformat(array)\n\u001b[0;32m    750\u001b[0m     ) \u001b[38;5;28;01mfrom\u001b[39;00m \u001b[38;5;21;01mcomplex_warning\u001b[39;00m\n",
      "File \u001b[1;32mD:\\anaconda\\lib\\site-packages\\pandas\\core\\generic.py:2064\u001b[0m, in \u001b[0;36mNDFrame.__array__\u001b[1;34m(self, dtype)\u001b[0m\n\u001b[0;32m   2063\u001b[0m \u001b[38;5;28;01mdef\u001b[39;00m \u001b[38;5;21m__array__\u001b[39m(\u001b[38;5;28mself\u001b[39m, dtype: npt\u001b[38;5;241m.\u001b[39mDTypeLike \u001b[38;5;241m|\u001b[39m \u001b[38;5;28;01mNone\u001b[39;00m \u001b[38;5;241m=\u001b[39m \u001b[38;5;28;01mNone\u001b[39;00m) \u001b[38;5;241m-\u001b[39m\u001b[38;5;241m>\u001b[39m np\u001b[38;5;241m.\u001b[39mndarray:\n\u001b[1;32m-> 2064\u001b[0m     \u001b[38;5;28;01mreturn\u001b[39;00m \u001b[43mnp\u001b[49m\u001b[38;5;241;43m.\u001b[39;49m\u001b[43masarray\u001b[49m\u001b[43m(\u001b[49m\u001b[38;5;28;43mself\u001b[39;49m\u001b[38;5;241;43m.\u001b[39;49m\u001b[43m_values\u001b[49m\u001b[43m,\u001b[49m\u001b[43m \u001b[49m\u001b[43mdtype\u001b[49m\u001b[38;5;241;43m=\u001b[39;49m\u001b[43mdtype\u001b[49m\u001b[43m)\u001b[49m\n",
      "\u001b[1;31mValueError\u001b[0m: could not convert string to float: 'M'"
     ]
    }
   ],
   "source": [
    "scaler = preprocessing.MinMaxScaler()\n",
    "clients_norm = scaler.fit_transform(clients)"
   ]
  },
  {
   "cell_type": "code",
   "execution_count": null,
   "id": "27af5609",
   "metadata": {},
   "outputs": [],
   "source": []
  }
 ],
 "metadata": {
  "kernelspec": {
   "display_name": "Python 3 (ipykernel)",
   "language": "python",
   "name": "python3"
  },
  "language_info": {
   "codemirror_mode": {
    "name": "ipython",
    "version": 3
   },
   "file_extension": ".py",
   "mimetype": "text/x-python",
   "name": "python",
   "nbconvert_exporter": "python",
   "pygments_lexer": "ipython3",
   "version": "3.9.12"
  }
 },
 "nbformat": 4,
 "nbformat_minor": 5
}

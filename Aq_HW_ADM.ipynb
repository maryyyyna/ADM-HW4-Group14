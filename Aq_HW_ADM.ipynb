{
 "cells": [
  {
   "cell_type": "markdown",
   "id": "97d1c9b0-8907-4b40-bc08-4222d147b9b8",
   "metadata": {
    "tags": []
   },
   "source": [
    "# Algorithmic Question"
   ]
  },
  {
   "cell_type": "markdown",
   "id": "046a4f3d-85a1-4760-b030-18c23b336e41",
   "metadata": {},
   "source": [
    "## Solution\n",
    "* Assuming we have the three paramenters **N**,**M**, and **G** memorized as integers and the order of entry of students stored in a list `entrances_student`, below it is shown a possible implementation to solve the problem, structured as follows:\n",
    "   + counts how many students are to enter each entrance and stores the values in a list `entrances_counter`;\n",
    "   + while scrolling `entrances_student` in the list `entrances_crossed` updates the entries that are currently traversed; \n",
    "   + list `current_counter` counts how many students have passed through the entrances up to the current time, so when all the students associated with an entry have traversed it, the entrance is removed from `entrances_crossed`;\n",
    "   + if at some point the number of entries currently used by students exceeds the number of guards **G** the algorithm returns `False` otherwise if this condition is never verified it will return `True`."
   ]
  },
  {
   "cell_type": "code",
   "execution_count": 2,
   "id": "313c6337-d2cd-4e23-9476-f852f740af30",
   "metadata": {
    "tags": []
   },
   "outputs": [],
   "source": [
    "def University_entrance(N,M,G, entrances_student): \n",
    "       entrances_counter=[0]*N\n",
    "       for i in range(N):\n",
    "              entrances_counter[i] = entrances_student.count(i+1)\n",
    "            \n",
    "       current_counter =[0]*N \n",
    "       entrances_crossed = []\n",
    "       open_entrances=N \n",
    "    \n",
    "       for i in range(M):\n",
    "              current_student = entrances_student[i]\n",
    "              if current_student not in entrances_crossed:\n",
    "                     entrances_crossed.append(current_student)\n",
    "              if len(entrances_crossed)  > G:\n",
    "                     return False\n",
    "              else:  \n",
    "                     current_counter[current_student -1]+=1\n",
    "                     if current_counter[current_student -1] == entrances_counter[current_student -1]:\n",
    "                            entrances_crossed.remove(current_student)\n",
    "                            open_entrances+=(-1)\n",
    "                            if open_entrances <= G:\n",
    "                                return True\n",
    "                            \n",
    "       return True"
   ]
  },
  {
   "cell_type": "markdown",
   "id": "f5568a06-6822-4305-bcea-9a21ba747e29",
   "metadata": {
    "tags": []
   },
   "source": [
    "## Algorithm test\n",
    "* Let's test the algorithm with the two example from the Homework description "
   ]
  },
  {
   "cell_type": "markdown",
   "id": "e088c6e3-eb7d-458a-8474-138de9d6a837",
   "metadata": {},
   "source": [
    "**Input 1**: <br>\n",
    "N,M,G =4,5,1 <br> \n",
    "entrances_student = [1 ,1 ,3 ,3 ,3]\n",
    "\n",
    "**Input 2**: <br>\n",
    "N,M,G =2,5,1 <br> \n",
    "entrances_student = [1 ,2 ,1 ,2 ,2]"
   ]
  },
  {
   "cell_type": "code",
   "execution_count": 69,
   "id": "b9d5f3a0-c4a8-4d07-81a6-d4a71b53f034",
   "metadata": {},
   "outputs": [
    {
     "name": "stdout",
     "output_type": "stream",
     "text": [
      "Output 1 : True\n",
      "Output 2 : False\n"
     ]
    }
   ],
   "source": [
    "print('Output 1 : '+str(University_entrance(4,5,1,[1 ,1 ,3 ,3 ,3])))\n",
    "print('Output 2 : '+str(University_entrance(2,5,1,[1 ,2 ,1 ,2 ,2])))"
   ]
  },
  {
   "cell_type": "markdown",
   "id": "7edca7c0-33fe-4879-96b8-1901928132c0",
   "metadata": {
    "tags": []
   },
   "source": [
    "* In both cases the answers are correct."
   ]
  }
 ],
 "metadata": {
  "kernelspec": {
   "display_name": "Python 3 (ipykernel)",
   "language": "python",
   "name": "python3"
  },
  "language_info": {
   "codemirror_mode": {
    "name": "ipython",
    "version": 3
   },
   "file_extension": ".py",
   "mimetype": "text/x-python",
   "name": "python",
   "nbconvert_exporter": "python",
   "pygments_lexer": "ipython3",
   "version": "3.9.12"
  }
 },
 "nbformat": 4,
 "nbformat_minor": 5
}
